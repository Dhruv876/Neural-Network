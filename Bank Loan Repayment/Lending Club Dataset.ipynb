{
 "cells": [
  {
   "cell_type": "markdown",
   "metadata": {},
   "source": [
    "# Understand the structure of Dataset"
   ]
  },
  {
   "cell_type": "markdown",
   "metadata": {},
   "source": [
    "# The dataset is taken from www.kaggle.com\n",
    "#  The dataset name is the LendingClub: https://www.kaggle.com/wordsforthewise/lending-club"
   ]
  },
  {
   "cell_type": "markdown",
   "metadata": {},
   "source": [
    "LendingClub is a US peer-to-peer lending company, headquartered in San Francisco, California.[3] It was the first peer-to-peer lender to register its offerings as securities with the Securities and Exchange Commission (SEC), and to offer loan trading on a secondary market. LendingClub is the world's largest peer-to-peer lending platform."
   ]
  },
  {
   "cell_type": "markdown",
   "metadata": {},
   "source": [
    "# No not download the zip file from the link, through which some feature engineering will be missed"
   ]
  },
  {
   "cell_type": "markdown",
   "metadata": {},
   "source": [
    "Our Goal\n",
    "\n",
    "Given historical data on loans given out with information on whether or not the borrower defaulted (charge-off), can we build a model thatcan predict wether or nor a borrower will pay back their loan? This way in the future when we get a new potential customer we can assess whether or not they are likely to pay back the loan. Keep in mind classification metrics when evaluating the performance of your model!\n",
    "\n",
    "The \"loan_status\" column contains our label."
   ]
  },
  {
   "cell_type": "markdown",
   "metadata": {},
   "source": [
    "# Data Analysis"
   ]
  },
  {
   "cell_type": "code",
   "execution_count": 450,
   "metadata": {},
   "outputs": [],
   "source": [
    "import pandas as pd"
   ]
  },
  {
   "cell_type": "code",
   "execution_count": 451,
   "metadata": {},
   "outputs": [],
   "source": [
    "data_info = pd.read_csv('lending_club_info.csv',index_col='LoanStatNew')\n",
    "# we are starting our index column from LoanStatNew"
   ]
  },
  {
   "cell_type": "code",
   "execution_count": 452,
   "metadata": {},
   "outputs": [
    {
     "data": {
      "text/html": [
       "<div>\n",
       "<style scoped>\n",
       "    .dataframe tbody tr th:only-of-type {\n",
       "        vertical-align: middle;\n",
       "    }\n",
       "\n",
       "    .dataframe tbody tr th {\n",
       "        vertical-align: top;\n",
       "    }\n",
       "\n",
       "    .dataframe thead th {\n",
       "        text-align: right;\n",
       "    }\n",
       "</style>\n",
       "<table border=\"1\" class=\"dataframe\">\n",
       "  <thead>\n",
       "    <tr style=\"text-align: right;\">\n",
       "      <th></th>\n",
       "      <th>Description</th>\n",
       "    </tr>\n",
       "    <tr>\n",
       "      <th>LoanStatNew</th>\n",
       "      <th></th>\n",
       "    </tr>\n",
       "  </thead>\n",
       "  <tbody>\n",
       "    <tr>\n",
       "      <td>loan_amnt</td>\n",
       "      <td>The listed amount of the loan applied for by t...</td>\n",
       "    </tr>\n",
       "    <tr>\n",
       "      <td>term</td>\n",
       "      <td>The number of payments on the loan. Values are...</td>\n",
       "    </tr>\n",
       "    <tr>\n",
       "      <td>int_rate</td>\n",
       "      <td>Interest Rate on the loan</td>\n",
       "    </tr>\n",
       "    <tr>\n",
       "      <td>installment</td>\n",
       "      <td>The monthly payment owed by the borrower if th...</td>\n",
       "    </tr>\n",
       "    <tr>\n",
       "      <td>grade</td>\n",
       "      <td>LC assigned loan grade</td>\n",
       "    </tr>\n",
       "    <tr>\n",
       "      <td>sub_grade</td>\n",
       "      <td>LC assigned loan subgrade</td>\n",
       "    </tr>\n",
       "    <tr>\n",
       "      <td>emp_title</td>\n",
       "      <td>The job title supplied by the Borrower when ap...</td>\n",
       "    </tr>\n",
       "    <tr>\n",
       "      <td>emp_length</td>\n",
       "      <td>Employment length in years. Possible values ar...</td>\n",
       "    </tr>\n",
       "    <tr>\n",
       "      <td>home_ownership</td>\n",
       "      <td>The home ownership status provided by the borr...</td>\n",
       "    </tr>\n",
       "    <tr>\n",
       "      <td>annual_inc</td>\n",
       "      <td>The self-reported annual income provided by th...</td>\n",
       "    </tr>\n",
       "    <tr>\n",
       "      <td>verification_status</td>\n",
       "      <td>Indicates if income was verified by LC, not ve...</td>\n",
       "    </tr>\n",
       "    <tr>\n",
       "      <td>issue_d</td>\n",
       "      <td>The month which the loan was funded</td>\n",
       "    </tr>\n",
       "    <tr>\n",
       "      <td>loan_status</td>\n",
       "      <td>Current status of the loan</td>\n",
       "    </tr>\n",
       "    <tr>\n",
       "      <td>purpose</td>\n",
       "      <td>A category provided by the borrower for the lo...</td>\n",
       "    </tr>\n",
       "    <tr>\n",
       "      <td>title</td>\n",
       "      <td>The loan title provided by the borrower</td>\n",
       "    </tr>\n",
       "    <tr>\n",
       "      <td>zip_code</td>\n",
       "      <td>The first 3 numbers of the zip code provided b...</td>\n",
       "    </tr>\n",
       "    <tr>\n",
       "      <td>addr_state</td>\n",
       "      <td>The state provided by the borrower in the loan...</td>\n",
       "    </tr>\n",
       "    <tr>\n",
       "      <td>dti</td>\n",
       "      <td>A ratio calculated using the borrower’s total ...</td>\n",
       "    </tr>\n",
       "    <tr>\n",
       "      <td>earliest_cr_line</td>\n",
       "      <td>The month the borrower's earliest reported cre...</td>\n",
       "    </tr>\n",
       "    <tr>\n",
       "      <td>open_acc</td>\n",
       "      <td>The number of open credit lines in the borrowe...</td>\n",
       "    </tr>\n",
       "    <tr>\n",
       "      <td>pub_rec</td>\n",
       "      <td>Number of derogatory public records</td>\n",
       "    </tr>\n",
       "    <tr>\n",
       "      <td>revol_bal</td>\n",
       "      <td>Total credit revolving balance</td>\n",
       "    </tr>\n",
       "    <tr>\n",
       "      <td>revol_util</td>\n",
       "      <td>Revolving line utilization rate, or the amount...</td>\n",
       "    </tr>\n",
       "    <tr>\n",
       "      <td>total_acc</td>\n",
       "      <td>The total number of credit lines currently in ...</td>\n",
       "    </tr>\n",
       "    <tr>\n",
       "      <td>initial_list_status</td>\n",
       "      <td>The initial listing status of the loan. Possib...</td>\n",
       "    </tr>\n",
       "    <tr>\n",
       "      <td>application_type</td>\n",
       "      <td>Indicates whether the loan is an individual ap...</td>\n",
       "    </tr>\n",
       "    <tr>\n",
       "      <td>mort_acc</td>\n",
       "      <td>Number of mortgage accounts.</td>\n",
       "    </tr>\n",
       "    <tr>\n",
       "      <td>pub_rec_bankruptcies</td>\n",
       "      <td>Number of public record bankruptcies</td>\n",
       "    </tr>\n",
       "  </tbody>\n",
       "</table>\n",
       "</div>"
      ],
      "text/plain": [
       "                                                            Description\n",
       "LoanStatNew                                                            \n",
       "loan_amnt             The listed amount of the loan applied for by t...\n",
       "term                  The number of payments on the loan. Values are...\n",
       "int_rate                                      Interest Rate on the loan\n",
       "installment           The monthly payment owed by the borrower if th...\n",
       "grade                                            LC assigned loan grade\n",
       "sub_grade                                     LC assigned loan subgrade\n",
       "emp_title             The job title supplied by the Borrower when ap...\n",
       "emp_length            Employment length in years. Possible values ar...\n",
       "home_ownership        The home ownership status provided by the borr...\n",
       "annual_inc            The self-reported annual income provided by th...\n",
       "verification_status   Indicates if income was verified by LC, not ve...\n",
       "issue_d                             The month which the loan was funded\n",
       "loan_status                                  Current status of the loan\n",
       "purpose               A category provided by the borrower for the lo...\n",
       "title                           The loan title provided by the borrower\n",
       "zip_code              The first 3 numbers of the zip code provided b...\n",
       "addr_state            The state provided by the borrower in the loan...\n",
       "dti                   A ratio calculated using the borrower’s total ...\n",
       "earliest_cr_line      The month the borrower's earliest reported cre...\n",
       "open_acc              The number of open credit lines in the borrowe...\n",
       "pub_rec                             Number of derogatory public records\n",
       "revol_bal                                Total credit revolving balance\n",
       "revol_util            Revolving line utilization rate, or the amount...\n",
       "total_acc             The total number of credit lines currently in ...\n",
       "initial_list_status   The initial listing status of the loan. Possib...\n",
       "application_type      Indicates whether the loan is an individual ap...\n",
       "mort_acc                                   Number of mortgage accounts.\n",
       "pub_rec_bankruptcies               Number of public record bankruptcies"
      ]
     },
     "execution_count": 452,
     "metadata": {},
     "output_type": "execute_result"
    }
   ],
   "source": [
    "data_info"
   ]
  },
  {
   "cell_type": "code",
   "execution_count": 453,
   "metadata": {},
   "outputs": [],
   "source": [
    "#example\n",
    "#print(data_info.loc['revol_util']['Description'])"
   ]
  },
  {
   "cell_type": "code",
   "execution_count": 454,
   "metadata": {},
   "outputs": [],
   "source": [
    "# with the use of this function we can read easily each description of values\n",
    "def feat_info(col_name):\n",
    "    print(data_info.loc[col_name]['Description'])"
   ]
  },
  {
   "cell_type": "code",
   "execution_count": 455,
   "metadata": {},
   "outputs": [
    {
     "name": "stdout",
     "output_type": "stream",
     "text": [
      "Number of mortgage accounts.\n"
     ]
    }
   ],
   "source": [
    "feat_info('mort_acc')"
   ]
  },
  {
   "cell_type": "code",
   "execution_count": 456,
   "metadata": {},
   "outputs": [
    {
     "name": "stdout",
     "output_type": "stream",
     "text": [
      "Number of derogatory public records\n"
     ]
    }
   ],
   "source": [
    "feat_info('pub_rec')"
   ]
  },
  {
   "cell_type": "code",
   "execution_count": 457,
   "metadata": {},
   "outputs": [],
   "source": [
    "#Imports\n",
    "\n",
    "import numpy as np\n",
    "import seaborn as sns\n",
    "import matplotlib.pyplot as plt\n",
    "%matplotlib inline"
   ]
  },
  {
   "cell_type": "code",
   "execution_count": 458,
   "metadata": {},
   "outputs": [],
   "source": [
    "df = pd.read_csv('lending_club_loan_two.csv')"
   ]
  },
  {
   "cell_type": "code",
   "execution_count": 459,
   "metadata": {},
   "outputs": [
    {
     "name": "stdout",
     "output_type": "stream",
     "text": [
      "<class 'pandas.core.frame.DataFrame'>\n",
      "RangeIndex: 396030 entries, 0 to 396029\n",
      "Data columns (total 27 columns):\n",
      "loan_amnt               396030 non-null float64\n",
      "term                    396030 non-null object\n",
      "int_rate                396030 non-null float64\n",
      "installment             396030 non-null float64\n",
      "grade                   396030 non-null object\n",
      "sub_grade               396030 non-null object\n",
      "emp_title               373103 non-null object\n",
      "emp_length              377729 non-null object\n",
      "home_ownership          396030 non-null object\n",
      "annual_inc              396030 non-null float64\n",
      "verification_status     396030 non-null object\n",
      "issue_d                 396030 non-null object\n",
      "loan_status             396030 non-null object\n",
      "purpose                 396030 non-null object\n",
      "title                   394275 non-null object\n",
      "dti                     396030 non-null float64\n",
      "earliest_cr_line        396030 non-null object\n",
      "open_acc                396030 non-null float64\n",
      "pub_rec                 396030 non-null float64\n",
      "revol_bal               396030 non-null float64\n",
      "revol_util              395754 non-null float64\n",
      "total_acc               396030 non-null float64\n",
      "initial_list_status     396030 non-null object\n",
      "application_type        396030 non-null object\n",
      "mort_acc                358235 non-null float64\n",
      "pub_rec_bankruptcies    395495 non-null float64\n",
      "address                 396030 non-null object\n",
      "dtypes: float64(12), object(15)\n",
      "memory usage: 81.6+ MB\n"
     ]
    }
   ],
   "source": [
    "df.info()\n",
    "\n",
    "# total columns 27\n",
    "# total rows 396030"
   ]
  },
  {
   "cell_type": "code",
   "execution_count": 460,
   "metadata": {},
   "outputs": [],
   "source": [
    "# OVERALL GOAL: Get an understanding for which features are important, view summary statistics, and visualize the data"
   ]
  },
  {
   "cell_type": "code",
   "execution_count": 461,
   "metadata": {},
   "outputs": [
    {
     "data": {
      "text/html": [
       "<div>\n",
       "<style scoped>\n",
       "    .dataframe tbody tr th:only-of-type {\n",
       "        vertical-align: middle;\n",
       "    }\n",
       "\n",
       "    .dataframe tbody tr th {\n",
       "        vertical-align: top;\n",
       "    }\n",
       "\n",
       "    .dataframe thead th {\n",
       "        text-align: right;\n",
       "    }\n",
       "</style>\n",
       "<table border=\"1\" class=\"dataframe\">\n",
       "  <thead>\n",
       "    <tr style=\"text-align: right;\">\n",
       "      <th></th>\n",
       "      <th>loan_amnt</th>\n",
       "      <th>term</th>\n",
       "      <th>int_rate</th>\n",
       "      <th>installment</th>\n",
       "      <th>grade</th>\n",
       "      <th>sub_grade</th>\n",
       "      <th>emp_title</th>\n",
       "      <th>emp_length</th>\n",
       "      <th>home_ownership</th>\n",
       "      <th>annual_inc</th>\n",
       "      <th>...</th>\n",
       "      <th>open_acc</th>\n",
       "      <th>pub_rec</th>\n",
       "      <th>revol_bal</th>\n",
       "      <th>revol_util</th>\n",
       "      <th>total_acc</th>\n",
       "      <th>initial_list_status</th>\n",
       "      <th>application_type</th>\n",
       "      <th>mort_acc</th>\n",
       "      <th>pub_rec_bankruptcies</th>\n",
       "      <th>address</th>\n",
       "    </tr>\n",
       "  </thead>\n",
       "  <tbody>\n",
       "    <tr>\n",
       "      <td>0</td>\n",
       "      <td>10000.0</td>\n",
       "      <td>36 months</td>\n",
       "      <td>11.44</td>\n",
       "      <td>329.48</td>\n",
       "      <td>B</td>\n",
       "      <td>B4</td>\n",
       "      <td>Marketing</td>\n",
       "      <td>10+ years</td>\n",
       "      <td>RENT</td>\n",
       "      <td>117000.0</td>\n",
       "      <td>...</td>\n",
       "      <td>16.0</td>\n",
       "      <td>0.0</td>\n",
       "      <td>36369.0</td>\n",
       "      <td>41.8</td>\n",
       "      <td>25.0</td>\n",
       "      <td>w</td>\n",
       "      <td>INDIVIDUAL</td>\n",
       "      <td>0.0</td>\n",
       "      <td>0.0</td>\n",
       "      <td>0174 Michelle Gateway\\nMendozaberg, OK 22690</td>\n",
       "    </tr>\n",
       "    <tr>\n",
       "      <td>1</td>\n",
       "      <td>8000.0</td>\n",
       "      <td>36 months</td>\n",
       "      <td>11.99</td>\n",
       "      <td>265.68</td>\n",
       "      <td>B</td>\n",
       "      <td>B5</td>\n",
       "      <td>Credit analyst</td>\n",
       "      <td>4 years</td>\n",
       "      <td>MORTGAGE</td>\n",
       "      <td>65000.0</td>\n",
       "      <td>...</td>\n",
       "      <td>17.0</td>\n",
       "      <td>0.0</td>\n",
       "      <td>20131.0</td>\n",
       "      <td>53.3</td>\n",
       "      <td>27.0</td>\n",
       "      <td>f</td>\n",
       "      <td>INDIVIDUAL</td>\n",
       "      <td>3.0</td>\n",
       "      <td>0.0</td>\n",
       "      <td>1076 Carney Fort Apt. 347\\nLoganmouth, SD 05113</td>\n",
       "    </tr>\n",
       "    <tr>\n",
       "      <td>2</td>\n",
       "      <td>15600.0</td>\n",
       "      <td>36 months</td>\n",
       "      <td>10.49</td>\n",
       "      <td>506.97</td>\n",
       "      <td>B</td>\n",
       "      <td>B3</td>\n",
       "      <td>Statistician</td>\n",
       "      <td>&lt; 1 year</td>\n",
       "      <td>RENT</td>\n",
       "      <td>43057.0</td>\n",
       "      <td>...</td>\n",
       "      <td>13.0</td>\n",
       "      <td>0.0</td>\n",
       "      <td>11987.0</td>\n",
       "      <td>92.2</td>\n",
       "      <td>26.0</td>\n",
       "      <td>f</td>\n",
       "      <td>INDIVIDUAL</td>\n",
       "      <td>0.0</td>\n",
       "      <td>0.0</td>\n",
       "      <td>87025 Mark Dale Apt. 269\\nNew Sabrina, WV 05113</td>\n",
       "    </tr>\n",
       "    <tr>\n",
       "      <td>3</td>\n",
       "      <td>7200.0</td>\n",
       "      <td>36 months</td>\n",
       "      <td>6.49</td>\n",
       "      <td>220.65</td>\n",
       "      <td>A</td>\n",
       "      <td>A2</td>\n",
       "      <td>Client Advocate</td>\n",
       "      <td>6 years</td>\n",
       "      <td>RENT</td>\n",
       "      <td>54000.0</td>\n",
       "      <td>...</td>\n",
       "      <td>6.0</td>\n",
       "      <td>0.0</td>\n",
       "      <td>5472.0</td>\n",
       "      <td>21.5</td>\n",
       "      <td>13.0</td>\n",
       "      <td>f</td>\n",
       "      <td>INDIVIDUAL</td>\n",
       "      <td>0.0</td>\n",
       "      <td>0.0</td>\n",
       "      <td>823 Reid Ford\\nDelacruzside, MA 00813</td>\n",
       "    </tr>\n",
       "    <tr>\n",
       "      <td>4</td>\n",
       "      <td>24375.0</td>\n",
       "      <td>60 months</td>\n",
       "      <td>17.27</td>\n",
       "      <td>609.33</td>\n",
       "      <td>C</td>\n",
       "      <td>C5</td>\n",
       "      <td>Destiny Management Inc.</td>\n",
       "      <td>9 years</td>\n",
       "      <td>MORTGAGE</td>\n",
       "      <td>55000.0</td>\n",
       "      <td>...</td>\n",
       "      <td>13.0</td>\n",
       "      <td>0.0</td>\n",
       "      <td>24584.0</td>\n",
       "      <td>69.8</td>\n",
       "      <td>43.0</td>\n",
       "      <td>f</td>\n",
       "      <td>INDIVIDUAL</td>\n",
       "      <td>1.0</td>\n",
       "      <td>0.0</td>\n",
       "      <td>679 Luna Roads\\nGreggshire, VA 11650</td>\n",
       "    </tr>\n",
       "  </tbody>\n",
       "</table>\n",
       "<p>5 rows × 27 columns</p>\n",
       "</div>"
      ],
      "text/plain": [
       "   loan_amnt        term  int_rate  installment grade sub_grade  \\\n",
       "0    10000.0   36 months     11.44       329.48     B        B4   \n",
       "1     8000.0   36 months     11.99       265.68     B        B5   \n",
       "2    15600.0   36 months     10.49       506.97     B        B3   \n",
       "3     7200.0   36 months      6.49       220.65     A        A2   \n",
       "4    24375.0   60 months     17.27       609.33     C        C5   \n",
       "\n",
       "                 emp_title emp_length home_ownership  annual_inc  ...  \\\n",
       "0                Marketing  10+ years           RENT    117000.0  ...   \n",
       "1          Credit analyst     4 years       MORTGAGE     65000.0  ...   \n",
       "2             Statistician   < 1 year           RENT     43057.0  ...   \n",
       "3          Client Advocate    6 years           RENT     54000.0  ...   \n",
       "4  Destiny Management Inc.    9 years       MORTGAGE     55000.0  ...   \n",
       "\n",
       "  open_acc pub_rec revol_bal revol_util total_acc  initial_list_status  \\\n",
       "0     16.0     0.0   36369.0       41.8      25.0                    w   \n",
       "1     17.0     0.0   20131.0       53.3      27.0                    f   \n",
       "2     13.0     0.0   11987.0       92.2      26.0                    f   \n",
       "3      6.0     0.0    5472.0       21.5      13.0                    f   \n",
       "4     13.0     0.0   24584.0       69.8      43.0                    f   \n",
       "\n",
       "  application_type  mort_acc  pub_rec_bankruptcies  \\\n",
       "0       INDIVIDUAL       0.0                   0.0   \n",
       "1       INDIVIDUAL       3.0                   0.0   \n",
       "2       INDIVIDUAL       0.0                   0.0   \n",
       "3       INDIVIDUAL       0.0                   0.0   \n",
       "4       INDIVIDUAL       1.0                   0.0   \n",
       "\n",
       "                                           address  \n",
       "0     0174 Michelle Gateway\\nMendozaberg, OK 22690  \n",
       "1  1076 Carney Fort Apt. 347\\nLoganmouth, SD 05113  \n",
       "2  87025 Mark Dale Apt. 269\\nNew Sabrina, WV 05113  \n",
       "3            823 Reid Ford\\nDelacruzside, MA 00813  \n",
       "4             679 Luna Roads\\nGreggshire, VA 11650  \n",
       "\n",
       "[5 rows x 27 columns]"
      ]
     },
     "execution_count": 461,
     "metadata": {},
     "output_type": "execute_result"
    }
   ],
   "source": [
    "df.head()"
   ]
  },
  {
   "cell_type": "code",
   "execution_count": 462,
   "metadata": {},
   "outputs": [
    {
     "data": {
      "text/plain": [
       "<matplotlib.axes._subplots.AxesSubplot at 0x19977434b48>"
      ]
     },
     "execution_count": 462,
     "metadata": {},
     "output_type": "execute_result"
    },
    {
     "data": {
      "image/png": "[encoded data removed]",
      "text/plain": [
       "<Figure size 432x288 with 1 Axes>"
      ]
     },
     "metadata": {},
     "output_type": "display_data"
    }
   ],
   "source": [
    "sns.set_style(style='dark')\n",
    "\n",
    "# to check the status of loan\n",
    "sns.countplot(x='loan_status',data=df,edgecolor=sns.color_palette(\"dark\", 3),lw=5,palette='Set3')"
   ]
  },
  {
   "cell_type": "code",
   "execution_count": 463,
   "metadata": {},
   "outputs": [
    {
     "data": {
      "text/plain": [
       "(0, 45000)"
      ]
     },
     "execution_count": 463,
     "metadata": {},
     "output_type": "execute_result"
    },
    {
     "data": {
      "image/png": "[encoded data removed]",
      "text/plain": [
       "<Figure size 864x360 with 1 Axes>"
      ]
     },
     "metadata": {},
     "output_type": "display_data"
    }
   ],
   "source": [
    "plt.figure(figsize=(12,5))\n",
    "sns.distplot(a=df['loan_amnt'],kde=False,bins=40,hist_kws={'linewidth':3,'alpha':1,'color':'white','edgecolor':'black'})\n",
    "plt.xlim(0,45000)"
   ]
  },
  {
   "cell_type": "code",
   "execution_count": 464,
   "metadata": {},
   "outputs": [
    {
     "data": {
      "text/html": [
       "<div>\n",
       "<style scoped>\n",
       "    .dataframe tbody tr th:only-of-type {\n",
       "        vertical-align: middle;\n",
       "    }\n",
       "\n",
       "    .dataframe tbody tr th {\n",
       "        vertical-align: top;\n",
       "    }\n",
       "\n",
       "    .dataframe thead th {\n",
       "        text-align: right;\n",
       "    }\n",
       "</style>\n",
       "<table border=\"1\" class=\"dataframe\">\n",
       "  <thead>\n",
       "    <tr style=\"text-align: right;\">\n",
       "      <th></th>\n",
       "      <th>loan_amnt</th>\n",
       "      <th>int_rate</th>\n",
       "      <th>installment</th>\n",
       "      <th>annual_inc</th>\n",
       "      <th>dti</th>\n",
       "      <th>open_acc</th>\n",
       "      <th>pub_rec</th>\n",
       "      <th>revol_bal</th>\n",
       "      <th>revol_util</th>\n",
       "      <th>total_acc</th>\n",
       "      <th>mort_acc</th>\n",
       "      <th>pub_rec_bankruptcies</th>\n",
       "    </tr>\n",
       "  </thead>\n",
       "  <tbody>\n",
       "    <tr>\n",
       "      <td>loan_amnt</td>\n",
       "      <td>1.000000</td>\n",
       "      <td>0.168921</td>\n",
       "      <td>0.953929</td>\n",
       "      <td>0.336887</td>\n",
       "      <td>0.016636</td>\n",
       "      <td>0.198556</td>\n",
       "      <td>-0.077779</td>\n",
       "      <td>0.328320</td>\n",
       "      <td>0.099911</td>\n",
       "      <td>0.223886</td>\n",
       "      <td>0.222315</td>\n",
       "      <td>-0.106539</td>\n",
       "    </tr>\n",
       "    <tr>\n",
       "      <td>int_rate</td>\n",
       "      <td>0.168921</td>\n",
       "      <td>1.000000</td>\n",
       "      <td>0.162758</td>\n",
       "      <td>-0.056771</td>\n",
       "      <td>0.079038</td>\n",
       "      <td>0.011649</td>\n",
       "      <td>0.060986</td>\n",
       "      <td>-0.011280</td>\n",
       "      <td>0.293659</td>\n",
       "      <td>-0.036404</td>\n",
       "      <td>-0.082583</td>\n",
       "      <td>0.057450</td>\n",
       "    </tr>\n",
       "    <tr>\n",
       "      <td>installment</td>\n",
       "      <td>0.953929</td>\n",
       "      <td>0.162758</td>\n",
       "      <td>1.000000</td>\n",
       "      <td>0.330381</td>\n",
       "      <td>0.015786</td>\n",
       "      <td>0.188973</td>\n",
       "      <td>-0.067892</td>\n",
       "      <td>0.316455</td>\n",
       "      <td>0.123915</td>\n",
       "      <td>0.202430</td>\n",
       "      <td>0.193694</td>\n",
       "      <td>-0.098628</td>\n",
       "    </tr>\n",
       "    <tr>\n",
       "      <td>annual_inc</td>\n",
       "      <td>0.336887</td>\n",
       "      <td>-0.056771</td>\n",
       "      <td>0.330381</td>\n",
       "      <td>1.000000</td>\n",
       "      <td>-0.081685</td>\n",
       "      <td>0.136150</td>\n",
       "      <td>-0.013720</td>\n",
       "      <td>0.299773</td>\n",
       "      <td>0.027871</td>\n",
       "      <td>0.193023</td>\n",
       "      <td>0.236320</td>\n",
       "      <td>-0.050162</td>\n",
       "    </tr>\n",
       "    <tr>\n",
       "      <td>dti</td>\n",
       "      <td>0.016636</td>\n",
       "      <td>0.079038</td>\n",
       "      <td>0.015786</td>\n",
       "      <td>-0.081685</td>\n",
       "      <td>1.000000</td>\n",
       "      <td>0.136181</td>\n",
       "      <td>-0.017639</td>\n",
       "      <td>0.063571</td>\n",
       "      <td>0.088375</td>\n",
       "      <td>0.102128</td>\n",
       "      <td>-0.025439</td>\n",
       "      <td>-0.014558</td>\n",
       "    </tr>\n",
       "    <tr>\n",
       "      <td>open_acc</td>\n",
       "      <td>0.198556</td>\n",
       "      <td>0.011649</td>\n",
       "      <td>0.188973</td>\n",
       "      <td>0.136150</td>\n",
       "      <td>0.136181</td>\n",
       "      <td>1.000000</td>\n",
       "      <td>-0.018392</td>\n",
       "      <td>0.221192</td>\n",
       "      <td>-0.131420</td>\n",
       "      <td>0.680728</td>\n",
       "      <td>0.109205</td>\n",
       "      <td>-0.027732</td>\n",
       "    </tr>\n",
       "    <tr>\n",
       "      <td>pub_rec</td>\n",
       "      <td>-0.077779</td>\n",
       "      <td>0.060986</td>\n",
       "      <td>-0.067892</td>\n",
       "      <td>-0.013720</td>\n",
       "      <td>-0.017639</td>\n",
       "      <td>-0.018392</td>\n",
       "      <td>1.000000</td>\n",
       "      <td>-0.101664</td>\n",
       "      <td>-0.075910</td>\n",
       "      <td>0.019723</td>\n",
       "      <td>0.011552</td>\n",
       "      <td>0.699408</td>\n",
       "    </tr>\n",
       "    <tr>\n",
       "      <td>revol_bal</td>\n",
       "      <td>0.328320</td>\n",
       "      <td>-0.011280</td>\n",
       "      <td>0.316455</td>\n",
       "      <td>0.299773</td>\n",
       "      <td>0.063571</td>\n",
       "      <td>0.221192</td>\n",
       "      <td>-0.101664</td>\n",
       "      <td>1.000000</td>\n",
       "      <td>0.226346</td>\n",
       "      <td>0.191616</td>\n",
       "      <td>0.194925</td>\n",
       "      <td>-0.124532</td>\n",
       "    </tr>\n",
       "    <tr>\n",
       "      <td>revol_util</td>\n",
       "      <td>0.099911</td>\n",
       "      <td>0.293659</td>\n",
       "      <td>0.123915</td>\n",
       "      <td>0.027871</td>\n",
       "      <td>0.088375</td>\n",
       "      <td>-0.131420</td>\n",
       "      <td>-0.075910</td>\n",
       "      <td>0.226346</td>\n",
       "      <td>1.000000</td>\n",
       "      <td>-0.104273</td>\n",
       "      <td>0.007514</td>\n",
       "      <td>-0.086751</td>\n",
       "    </tr>\n",
       "    <tr>\n",
       "      <td>total_acc</td>\n",
       "      <td>0.223886</td>\n",
       "      <td>-0.036404</td>\n",
       "      <td>0.202430</td>\n",
       "      <td>0.193023</td>\n",
       "      <td>0.102128</td>\n",
       "      <td>0.680728</td>\n",
       "      <td>0.019723</td>\n",
       "      <td>0.191616</td>\n",
       "      <td>-0.104273</td>\n",
       "      <td>1.000000</td>\n",
       "      <td>0.381072</td>\n",
       "      <td>0.042035</td>\n",
       "    </tr>\n",
       "    <tr>\n",
       "      <td>mort_acc</td>\n",
       "      <td>0.222315</td>\n",
       "      <td>-0.082583</td>\n",
       "      <td>0.193694</td>\n",
       "      <td>0.236320</td>\n",
       "      <td>-0.025439</td>\n",
       "      <td>0.109205</td>\n",
       "      <td>0.011552</td>\n",
       "      <td>0.194925</td>\n",
       "      <td>0.007514</td>\n",
       "      <td>0.381072</td>\n",
       "      <td>1.000000</td>\n",
       "      <td>0.027239</td>\n",
       "    </tr>\n",
       "    <tr>\n",
       "      <td>pub_rec_bankruptcies</td>\n",
       "      <td>-0.106539</td>\n",
       "      <td>0.057450</td>\n",
       "      <td>-0.098628</td>\n",
       "      <td>-0.050162</td>\n",
       "      <td>-0.014558</td>\n",
       "      <td>-0.027732</td>\n",
       "      <td>0.699408</td>\n",
       "      <td>-0.124532</td>\n",
       "      <td>-0.086751</td>\n",
       "      <td>0.042035</td>\n",
       "      <td>0.027239</td>\n",
       "      <td>1.000000</td>\n",
       "    </tr>\n",
       "  </tbody>\n",
       "</table>\n",
       "</div>"
      ],
      "text/plain": [
       "                      loan_amnt  int_rate  installment  annual_inc       dti  \\\n",
       "loan_amnt              1.000000  0.168921     0.953929    0.336887  0.016636   \n",
       "int_rate               0.168921  1.000000     0.162758   -0.056771  0.079038   \n",
       "installment            0.953929  0.162758     1.000000    0.330381  0.015786   \n",
       "annual_inc             0.336887 -0.056771     0.330381    1.000000 -0.081685   \n",
       "dti                    0.016636  0.079038     0.015786   -0.081685  1.000000   \n",
       "open_acc               0.198556  0.011649     0.188973    0.136150  0.136181   \n",
       "pub_rec               -0.077779  0.060986    -0.067892   -0.013720 -0.017639   \n",
       "revol_bal              0.328320 -0.011280     0.316455    0.299773  0.063571   \n",
       "revol_util             0.099911  0.293659     0.123915    0.027871  0.088375   \n",
       "total_acc              0.223886 -0.036404     0.202430    0.193023  0.102128   \n",
       "mort_acc               0.222315 -0.082583     0.193694    0.236320 -0.025439   \n",
       "pub_rec_bankruptcies  -0.106539  0.057450    -0.098628   -0.050162 -0.014558   \n",
       "\n",
       "                      open_acc   pub_rec  revol_bal  revol_util  total_acc  \\\n",
       "loan_amnt             0.198556 -0.077779   0.328320    0.099911   0.223886   \n",
       "int_rate              0.011649  0.060986  -0.011280    0.293659  -0.036404   \n",
       "installment           0.188973 -0.067892   0.316455    0.123915   0.202430   \n",
       "annual_inc            0.136150 -0.013720   0.299773    0.027871   0.193023   \n",
       "dti                   0.136181 -0.017639   0.063571    0.088375   0.102128   \n",
       "open_acc              1.000000 -0.018392   0.221192   -0.131420   0.680728   \n",
       "pub_rec              -0.018392  1.000000  -0.101664   -0.075910   0.019723   \n",
       "revol_bal             0.221192 -0.101664   1.000000    0.226346   0.191616   \n",
       "revol_util           -0.131420 -0.075910   0.226346    1.000000  -0.104273   \n",
       "total_acc             0.680728  0.019723   0.191616   -0.104273   1.000000   \n",
       "mort_acc              0.109205  0.011552   0.194925    0.007514   0.381072   \n",
       "pub_rec_bankruptcies -0.027732  0.699408  -0.124532   -0.086751   0.042035   \n",
       "\n",
       "                      mort_acc  pub_rec_bankruptcies  \n",
       "loan_amnt             0.222315             -0.106539  \n",
       "int_rate             -0.082583              0.057450  \n",
       "installment           0.193694             -0.098628  \n",
       "annual_inc            0.236320             -0.050162  \n",
       "dti                  -0.025439             -0.014558  \n",
       "open_acc              0.109205             -0.027732  \n",
       "pub_rec               0.011552              0.699408  \n",
       "revol_bal             0.194925             -0.124532  \n",
       "revol_util            0.007514             -0.086751  \n",
       "total_acc             0.381072              0.042035  \n",
       "mort_acc              1.000000              0.027239  \n",
       "pub_rec_bankruptcies  0.027239              1.000000  "
      ]
     },
     "execution_count": 464,
     "metadata": {},
     "output_type": "execute_result"
    }
   ],
   "source": [
    "# check correlation\n",
    "\n",
    "df.corr()"
   ]
  },
  {
   "cell_type": "code",
   "execution_count": 465,
   "metadata": {},
   "outputs": [
    {
     "data": {
      "text/plain": [
       "(10, 0)"
      ]
     },
     "execution_count": 465,
     "metadata": {},
     "output_type": "execute_result"
    },
    {
     "data": {
      "image/png": "[encoded data removed]",
      "text/plain": [
       "<Figure size 864x504 with 2 Axes>"
      ]
     },
     "metadata": {},
     "output_type": "display_data"
    }
   ],
   "source": [
    "# plot a heatmap and resize it\n",
    "plt.figure(figsize=(12,7))\n",
    "sns.heatmap(df.corr(),annot=True,cmap='viridis')\n",
    "plt.ylim(10, 0)\n",
    "\n",
    "# the correlation with installment feature"
   ]
  },
  {
   "cell_type": "code",
   "execution_count": 466,
   "metadata": {},
   "outputs": [
    {
     "data": {
      "text/plain": [
       "327.34    968\n",
       "332.10    791\n",
       "491.01    736\n",
       "336.90    686\n",
       "392.81    683\n",
       "         ... \n",
       "785.23      1\n",
       "160.97      1\n",
       "160.03      1\n",
       "599.45      1\n",
       "256.00      1\n",
       "Name: installment, Length: 55706, dtype: int64"
      ]
     },
     "execution_count": 466,
     "metadata": {},
     "output_type": "execute_result"
    }
   ],
   "source": [
    "df['installment'].value_counts()"
   ]
  },
  {
   "cell_type": "code",
   "execution_count": 467,
   "metadata": {},
   "outputs": [
    {
     "data": {
      "text/plain": [
       "10000.0    27668\n",
       "12000.0    21366\n",
       "15000.0    19903\n",
       "20000.0    18969\n",
       "35000.0    14576\n",
       "           ...  \n",
       "37450.0        1\n",
       "36775.0        1\n",
       "725.0          1\n",
       "36225.0        1\n",
       "35475.0        1\n",
       "Name: loan_amnt, Length: 1397, dtype: int64"
      ]
     },
     "execution_count": 467,
     "metadata": {},
     "output_type": "execute_result"
    }
   ],
   "source": [
    "df['loan_amnt'].value_counts()"
   ]
  },
  {
   "cell_type": "code",
   "execution_count": 468,
   "metadata": {},
   "outputs": [
    {
     "name": "stdout",
     "output_type": "stream",
     "text": [
      "The monthly payment owed by the borrower if the loan originates.\n"
     ]
    }
   ],
   "source": [
    "feat_info('installment')"
   ]
  },
  {
   "cell_type": "code",
   "execution_count": 469,
   "metadata": {},
   "outputs": [
    {
     "name": "stdout",
     "output_type": "stream",
     "text": [
      "The listed amount of the loan applied for by the borrower. If at some point in time, the credit department reduces the loan amount, then it will be reflected in this value.\n"
     ]
    }
   ],
   "source": [
    "feat_info('loan_amnt')"
   ]
  },
  {
   "cell_type": "code",
   "execution_count": 470,
   "metadata": {},
   "outputs": [
    {
     "data": {
      "text/plain": [
       "<matplotlib.axes._subplots.AxesSubplot at 0x19903c13e88>"
      ]
     },
     "execution_count": 470,
     "metadata": {},
     "output_type": "execute_result"
    },
    {
     "data": {
      "image/png": "[encoded data removed]",
      "text/plain": [
       "<Figure size 720x504 with 1 Axes>"
      ]
     },
     "metadata": {},
     "output_type": "display_data"
    }
   ],
   "source": [
    "# we check the relationship b/w installment and loan_amnt feature\n",
    "plt.figure(figsize=(10,7))\n",
    "sns.scatterplot(x='installment',y='loan_amnt',data=df)"
   ]
  },
  {
   "cell_type": "code",
   "execution_count": 471,
   "metadata": {},
   "outputs": [
    {
     "data": {
      "text/plain": [
       "<matplotlib.axes._subplots.AxesSubplot at 0x19918191ac8>"
      ]
     },
     "execution_count": 471,
     "metadata": {},
     "output_type": "execute_result"
    },
    {
     "data": {
      "image/png": "[encoded data removed]",
      "text/plain": [
       "<Figure size 432x288 with 1 Axes>"
      ]
     },
     "metadata": {},
     "output_type": "display_data"
    }
   ],
   "source": [
    "sns.boxplot(x='loan_status',y='loan_amnt',data=df,palette='Set2')"
   ]
  },
  {
   "cell_type": "code",
   "execution_count": 472,
   "metadata": {},
   "outputs": [
    {
     "data": {
      "text/html": [
       "<div>\n",
       "<style scoped>\n",
       "    .dataframe tbody tr th:only-of-type {\n",
       "        vertical-align: middle;\n",
       "    }\n",
       "\n",
       "    .dataframe tbody tr th {\n",
       "        vertical-align: top;\n",
       "    }\n",
       "\n",
       "    .dataframe thead th {\n",
       "        text-align: right;\n",
       "    }\n",
       "</style>\n",
       "<table border=\"1\" class=\"dataframe\">\n",
       "  <thead>\n",
       "    <tr style=\"text-align: right;\">\n",
       "      <th></th>\n",
       "      <th>count</th>\n",
       "      <th>mean</th>\n",
       "      <th>std</th>\n",
       "      <th>min</th>\n",
       "      <th>25%</th>\n",
       "      <th>50%</th>\n",
       "      <th>75%</th>\n",
       "      <th>max</th>\n",
       "    </tr>\n",
       "    <tr>\n",
       "      <th>loan_status</th>\n",
       "      <th></th>\n",
       "      <th></th>\n",
       "      <th></th>\n",
       "      <th></th>\n",
       "      <th></th>\n",
       "      <th></th>\n",
       "      <th></th>\n",
       "      <th></th>\n",
       "    </tr>\n",
       "  </thead>\n",
       "  <tbody>\n",
       "    <tr>\n",
       "      <td>Charged Off</td>\n",
       "      <td>77673.0</td>\n",
       "      <td>15126.300967</td>\n",
       "      <td>8505.090557</td>\n",
       "      <td>1000.0</td>\n",
       "      <td>8525.0</td>\n",
       "      <td>14000.0</td>\n",
       "      <td>20000.0</td>\n",
       "      <td>40000.0</td>\n",
       "    </tr>\n",
       "    <tr>\n",
       "      <td>Fully Paid</td>\n",
       "      <td>318357.0</td>\n",
       "      <td>13866.878771</td>\n",
       "      <td>8302.319699</td>\n",
       "      <td>500.0</td>\n",
       "      <td>7500.0</td>\n",
       "      <td>12000.0</td>\n",
       "      <td>19225.0</td>\n",
       "      <td>40000.0</td>\n",
       "    </tr>\n",
       "  </tbody>\n",
       "</table>\n",
       "</div>"
      ],
      "text/plain": [
       "                count          mean          std     min     25%      50%  \\\n",
       "loan_status                                                                 \n",
       "Charged Off   77673.0  15126.300967  8505.090557  1000.0  8525.0  14000.0   \n",
       "Fully Paid   318357.0  13866.878771  8302.319699   500.0  7500.0  12000.0   \n",
       "\n",
       "                 75%      max  \n",
       "loan_status                    \n",
       "Charged Off  20000.0  40000.0  \n",
       "Fully Paid   19225.0  40000.0  "
      ]
     },
     "execution_count": 472,
     "metadata": {},
     "output_type": "execute_result"
    }
   ],
   "source": [
    "# summary stats\n",
    "\n",
    "df.groupby('loan_status')['loan_amnt'].describe()"
   ]
  },
  {
   "cell_type": "code",
   "execution_count": 473,
   "metadata": {},
   "outputs": [
    {
     "data": {
      "text/plain": [
       "7"
      ]
     },
     "execution_count": 473,
     "metadata": {},
     "output_type": "execute_result"
    }
   ],
   "source": [
    "# checking grade and sub_grade\n",
    "\n",
    "df['grade'].nunique()"
   ]
  },
  {
   "cell_type": "code",
   "execution_count": 474,
   "metadata": {},
   "outputs": [
    {
     "data": {
      "text/plain": [
       "['A', 'B', 'C', 'D', 'E', 'F', 'G']"
      ]
     },
     "execution_count": 474,
     "metadata": {},
     "output_type": "execute_result"
    }
   ],
   "source": [
    "order1 = sorted(df['grade'].unique())\n",
    "order1"
   ]
  },
  {
   "cell_type": "code",
   "execution_count": 475,
   "metadata": {},
   "outputs": [
    {
     "data": {
      "text/plain": [
       "35"
      ]
     },
     "execution_count": 475,
     "metadata": {},
     "output_type": "execute_result"
    }
   ],
   "source": [
    "df['sub_grade'].nunique()"
   ]
  },
  {
   "cell_type": "code",
   "execution_count": 476,
   "metadata": {},
   "outputs": [
    {
     "data": {
      "text/plain": [
       "['A1',\n",
       " 'A2',\n",
       " 'A3',\n",
       " 'A4',\n",
       " 'A5',\n",
       " 'B1',\n",
       " 'B2',\n",
       " 'B3',\n",
       " 'B4',\n",
       " 'B5',\n",
       " 'C1',\n",
       " 'C2',\n",
       " 'C3',\n",
       " 'C4',\n",
       " 'C5',\n",
       " 'D1',\n",
       " 'D2',\n",
       " 'D3',\n",
       " 'D4',\n",
       " 'D5',\n",
       " 'E1',\n",
       " 'E2',\n",
       " 'E3',\n",
       " 'E4',\n",
       " 'E5',\n",
       " 'F1',\n",
       " 'F2',\n",
       " 'F3',\n",
       " 'F4',\n",
       " 'F5',\n",
       " 'G1',\n",
       " 'G2',\n",
       " 'G3',\n",
       " 'G4',\n",
       " 'G5']"
      ]
     },
     "execution_count": 476,
     "metadata": {},
     "output_type": "execute_result"
    }
   ],
   "source": [
    "order2 = sorted(df['sub_grade'].unique())\n",
    "order2"
   ]
  },
  {
   "cell_type": "code",
   "execution_count": 477,
   "metadata": {},
   "outputs": [
    {
     "data": {
      "text/plain": [
       "<matplotlib.axes._subplots.AxesSubplot at 0x19918215288>"
      ]
     },
     "execution_count": 477,
     "metadata": {},
     "output_type": "execute_result"
    },
    {
     "data": {
      "image/png": "[encoded data removed]",
      "text/plain": [
       "<Figure size 432x288 with 1 Axes>"
      ]
     },
     "metadata": {},
     "output_type": "display_data"
    }
   ],
   "source": [
    "sns.countplot(x='grade',data=df,palette='Paired',order=order1)"
   ]
  },
  {
   "cell_type": "code",
   "execution_count": 478,
   "metadata": {},
   "outputs": [
    {
     "data": {
      "text/plain": [
       "<matplotlib.axes._subplots.AxesSubplot at 0x19918202b08>"
      ]
     },
     "execution_count": 478,
     "metadata": {},
     "output_type": "execute_result"
    },
    {
     "data": {
      "image/png": "[encoded data removed]",
      "text/plain": [
       "<Figure size 432x288 with 1 Axes>"
      ]
     },
     "metadata": {},
     "output_type": "display_data"
    }
   ],
   "source": [
    "sns.countplot(x='grade',data=df,hue='loan_status',palette='Set3',order=order1)"
   ]
  },
  {
   "cell_type": "code",
   "execution_count": 479,
   "metadata": {},
   "outputs": [
    {
     "data": {
      "text/plain": [
       "<matplotlib.axes._subplots.AxesSubplot at 0x19976612f88>"
      ]
     },
     "execution_count": 479,
     "metadata": {},
     "output_type": "execute_result"
    },
    {
     "data": {
      "image/png": "[encoded data removed]",
      "text/plain": [
       "<Figure size 864x360 with 1 Axes>"
      ]
     },
     "metadata": {},
     "output_type": "display_data"
    }
   ],
   "source": [
    "plt.figure(figsize=(12,5))\n",
    "sns.countplot(x='sub_grade',data=df,palette='RdPu',lw=2,edgecolor=sns.color_palette(\"dark\", 3),order=order2)"
   ]
  },
  {
   "cell_type": "code",
   "execution_count": 480,
   "metadata": {},
   "outputs": [
    {
     "data": {
      "text/plain": [
       "<matplotlib.axes._subplots.AxesSubplot at 0x1997686ad48>"
      ]
     },
     "execution_count": 480,
     "metadata": {},
     "output_type": "execute_result"
    },
    {
     "data": {
      "image/png": "[encoded data removed]",
      "text/plain": [
       "<Figure size 864x288 with 1 Axes>"
      ]
     },
     "metadata": {},
     "output_type": "display_data"
    }
   ],
   "source": [
    "plt.figure(figsize=(12,4))\n",
    "sns.countplot(x='sub_grade',hue='loan_status',data=df,palette='RdBu',lw=2,edgecolor=sns.color_palette(\"dark\", 3),order=order2)"
   ]
  },
  {
   "cell_type": "code",
   "execution_count": 481,
   "metadata": {},
   "outputs": [],
   "source": [
    "# we explore more for grades from F to G :\n",
    "\n",
    "f_and_g = df[((df['grade'] == 'F') | (df['grade'] == 'G'))]\n",
    "\n",
    "order3 = sorted(f_and_g['sub_grade'].unique())"
   ]
  },
  {
   "cell_type": "code",
   "execution_count": 482,
   "metadata": {},
   "outputs": [
    {
     "data": {
      "text/plain": [
       "['F1', 'F2', 'F3', 'F4', 'F5', 'G1', 'G2', 'G3', 'G4', 'G5']"
      ]
     },
     "execution_count": 482,
     "metadata": {},
     "output_type": "execute_result"
    }
   ],
   "source": [
    "order3"
   ]
  },
  {
   "cell_type": "code",
   "execution_count": 483,
   "metadata": {},
   "outputs": [
    {
     "data": {
      "text/plain": [
       "<matplotlib.axes._subplots.AxesSubplot at 0x1997685a5c8>"
      ]
     },
     "execution_count": 483,
     "metadata": {},
     "output_type": "execute_result"
    },
    {
     "data": {
      "image/png": "[encoded data removed]",
      "text/plain": [
       "<Figure size 864x360 with 1 Axes>"
      ]
     },
     "metadata": {},
     "output_type": "display_data"
    }
   ],
   "source": [
    "plt.figure(figsize=(12,5))\n",
    "sns.countplot(x='sub_grade',data=f_and_g,palette='RdPu',lw=2,edgecolor=sns.color_palette(\"dark\", 3),order=order3,hue='loan_status')"
   ]
  },
  {
   "cell_type": "code",
   "execution_count": 484,
   "metadata": {},
   "outputs": [
    {
     "data": {
      "text/plain": [
       "array(['Fully Paid', 'Charged Off'], dtype=object)"
      ]
     },
     "execution_count": 484,
     "metadata": {},
     "output_type": "execute_result"
    }
   ],
   "source": [
    "df['loan_status'].unique()"
   ]
  },
  {
   "cell_type": "code",
   "execution_count": 485,
   "metadata": {},
   "outputs": [],
   "source": [
    "# creating new column\n",
    "\n",
    "df['loan_repaid'] = df.loan_status.map({'Fully Paid' : 1 , 'Charged Off' : 0})"
   ]
  },
  {
   "cell_type": "code",
   "execution_count": 486,
   "metadata": {},
   "outputs": [
    {
     "data": {
      "text/html": [
       "<div>\n",
       "<style scoped>\n",
       "    .dataframe tbody tr th:only-of-type {\n",
       "        vertical-align: middle;\n",
       "    }\n",
       "\n",
       "    .dataframe tbody tr th {\n",
       "        vertical-align: top;\n",
       "    }\n",
       "\n",
       "    .dataframe thead th {\n",
       "        text-align: right;\n",
       "    }\n",
       "</style>\n",
       "<table border=\"1\" class=\"dataframe\">\n",
       "  <thead>\n",
       "    <tr style=\"text-align: right;\">\n",
       "      <th></th>\n",
       "      <th>loan_repaid</th>\n",
       "      <th>loan_status</th>\n",
       "    </tr>\n",
       "  </thead>\n",
       "  <tbody>\n",
       "    <tr>\n",
       "      <td>0</td>\n",
       "      <td>1</td>\n",
       "      <td>Fully Paid</td>\n",
       "    </tr>\n",
       "    <tr>\n",
       "      <td>1</td>\n",
       "      <td>1</td>\n",
       "      <td>Fully Paid</td>\n",
       "    </tr>\n",
       "    <tr>\n",
       "      <td>2</td>\n",
       "      <td>1</td>\n",
       "      <td>Fully Paid</td>\n",
       "    </tr>\n",
       "    <tr>\n",
       "      <td>3</td>\n",
       "      <td>1</td>\n",
       "      <td>Fully Paid</td>\n",
       "    </tr>\n",
       "    <tr>\n",
       "      <td>4</td>\n",
       "      <td>0</td>\n",
       "      <td>Charged Off</td>\n",
       "    </tr>\n",
       "    <tr>\n",
       "      <td>...</td>\n",
       "      <td>...</td>\n",
       "      <td>...</td>\n",
       "    </tr>\n",
       "    <tr>\n",
       "      <td>396025</td>\n",
       "      <td>1</td>\n",
       "      <td>Fully Paid</td>\n",
       "    </tr>\n",
       "    <tr>\n",
       "      <td>396026</td>\n",
       "      <td>1</td>\n",
       "      <td>Fully Paid</td>\n",
       "    </tr>\n",
       "    <tr>\n",
       "      <td>396027</td>\n",
       "      <td>1</td>\n",
       "      <td>Fully Paid</td>\n",
       "    </tr>\n",
       "    <tr>\n",
       "      <td>396028</td>\n",
       "      <td>1</td>\n",
       "      <td>Fully Paid</td>\n",
       "    </tr>\n",
       "    <tr>\n",
       "      <td>396029</td>\n",
       "      <td>1</td>\n",
       "      <td>Fully Paid</td>\n",
       "    </tr>\n",
       "  </tbody>\n",
       "</table>\n",
       "<p>396030 rows × 2 columns</p>\n",
       "</div>"
      ],
      "text/plain": [
       "        loan_repaid  loan_status\n",
       "0                 1   Fully Paid\n",
       "1                 1   Fully Paid\n",
       "2                 1   Fully Paid\n",
       "3                 1   Fully Paid\n",
       "4                 0  Charged Off\n",
       "...             ...          ...\n",
       "396025            1   Fully Paid\n",
       "396026            1   Fully Paid\n",
       "396027            1   Fully Paid\n",
       "396028            1   Fully Paid\n",
       "396029            1   Fully Paid\n",
       "\n",
       "[396030 rows x 2 columns]"
      ]
     },
     "execution_count": 486,
     "metadata": {},
     "output_type": "execute_result"
    }
   ],
   "source": [
    "df[['loan_repaid','loan_status']]"
   ]
  },
  {
   "cell_type": "code",
   "execution_count": 487,
   "metadata": {},
   "outputs": [
    {
     "name": "stdout",
     "output_type": "stream",
     "text": [
      "<class 'pandas.core.frame.DataFrame'>\n",
      "RangeIndex: 396030 entries, 0 to 396029\n",
      "Data columns (total 28 columns):\n",
      "loan_amnt               396030 non-null float64\n",
      "term                    396030 non-null object\n",
      "int_rate                396030 non-null float64\n",
      "installment             396030 non-null float64\n",
      "grade                   396030 non-null object\n",
      "sub_grade               396030 non-null object\n",
      "emp_title               373103 non-null object\n",
      "emp_length              377729 non-null object\n",
      "home_ownership          396030 non-null object\n",
      "annual_inc              396030 non-null float64\n",
      "verification_status     396030 non-null object\n",
      "issue_d                 396030 non-null object\n",
      "loan_status             396030 non-null object\n",
      "purpose                 396030 non-null object\n",
      "title                   394275 non-null object\n",
      "dti                     396030 non-null float64\n",
      "earliest_cr_line        396030 non-null object\n",
      "open_acc                396030 non-null float64\n",
      "pub_rec                 396030 non-null float64\n",
      "revol_bal               396030 non-null float64\n",
      "revol_util              395754 non-null float64\n",
      "total_acc               396030 non-null float64\n",
      "initial_list_status     396030 non-null object\n",
      "application_type        396030 non-null object\n",
      "mort_acc                358235 non-null float64\n",
      "pub_rec_bankruptcies    395495 non-null float64\n",
      "address                 396030 non-null object\n",
      "loan_repaid             396030 non-null int64\n",
      "dtypes: float64(12), int64(1), object(15)\n",
      "memory usage: 84.6+ MB\n"
     ]
    }
   ],
   "source": [
    "df.info()"
   ]
  },
  {
   "cell_type": "code",
   "execution_count": 488,
   "metadata": {},
   "outputs": [
    {
     "data": {
      "text/plain": [
       "<matplotlib.axes._subplots.AxesSubplot at 0x199776412c8>"
      ]
     },
     "execution_count": 488,
     "metadata": {},
     "output_type": "execute_result"
    },
    {
     "data": {
      "image/png": "[encoded data removed]",
      "text/plain": [
       "<Figure size 432x288 with 1 Axes>"
      ]
     },
     "metadata": {},
     "output_type": "display_data"
    }
   ],
   "source": [
    "df.corr()['loan_repaid'].sort_values().drop('loan_repaid').plot(kind='bar')"
   ]
  },
  {
   "cell_type": "markdown",
   "metadata": {},
   "source": [
    "# Data Wrangling"
   ]
  },
  {
   "cell_type": "code",
   "execution_count": 489,
   "metadata": {},
   "outputs": [
    {
     "data": {
      "text/html": [
       "<div>\n",
       "<style scoped>\n",
       "    .dataframe tbody tr th:only-of-type {\n",
       "        vertical-align: middle;\n",
       "    }\n",
       "\n",
       "    .dataframe tbody tr th {\n",
       "        vertical-align: top;\n",
       "    }\n",
       "\n",
       "    .dataframe thead th {\n",
       "        text-align: right;\n",
       "    }\n",
       "</style>\n",
       "<table border=\"1\" class=\"dataframe\">\n",
       "  <thead>\n",
       "    <tr style=\"text-align: right;\">\n",
       "      <th></th>\n",
       "      <th>loan_amnt</th>\n",
       "      <th>term</th>\n",
       "      <th>int_rate</th>\n",
       "      <th>installment</th>\n",
       "      <th>grade</th>\n",
       "      <th>sub_grade</th>\n",
       "      <th>emp_title</th>\n",
       "      <th>emp_length</th>\n",
       "      <th>home_ownership</th>\n",
       "      <th>annual_inc</th>\n",
       "      <th>...</th>\n",
       "      <th>pub_rec</th>\n",
       "      <th>revol_bal</th>\n",
       "      <th>revol_util</th>\n",
       "      <th>total_acc</th>\n",
       "      <th>initial_list_status</th>\n",
       "      <th>application_type</th>\n",
       "      <th>mort_acc</th>\n",
       "      <th>pub_rec_bankruptcies</th>\n",
       "      <th>address</th>\n",
       "      <th>loan_repaid</th>\n",
       "    </tr>\n",
       "  </thead>\n",
       "  <tbody>\n",
       "    <tr>\n",
       "      <td>0</td>\n",
       "      <td>10000.0</td>\n",
       "      <td>36 months</td>\n",
       "      <td>11.44</td>\n",
       "      <td>329.48</td>\n",
       "      <td>B</td>\n",
       "      <td>B4</td>\n",
       "      <td>Marketing</td>\n",
       "      <td>10+ years</td>\n",
       "      <td>RENT</td>\n",
       "      <td>117000.0</td>\n",
       "      <td>...</td>\n",
       "      <td>0.0</td>\n",
       "      <td>36369.0</td>\n",
       "      <td>41.8</td>\n",
       "      <td>25.0</td>\n",
       "      <td>w</td>\n",
       "      <td>INDIVIDUAL</td>\n",
       "      <td>0.0</td>\n",
       "      <td>0.0</td>\n",
       "      <td>0174 Michelle Gateway\\nMendozaberg, OK 22690</td>\n",
       "      <td>1</td>\n",
       "    </tr>\n",
       "    <tr>\n",
       "      <td>1</td>\n",
       "      <td>8000.0</td>\n",
       "      <td>36 months</td>\n",
       "      <td>11.99</td>\n",
       "      <td>265.68</td>\n",
       "      <td>B</td>\n",
       "      <td>B5</td>\n",
       "      <td>Credit analyst</td>\n",
       "      <td>4 years</td>\n",
       "      <td>MORTGAGE</td>\n",
       "      <td>65000.0</td>\n",
       "      <td>...</td>\n",
       "      <td>0.0</td>\n",
       "      <td>20131.0</td>\n",
       "      <td>53.3</td>\n",
       "      <td>27.0</td>\n",
       "      <td>f</td>\n",
       "      <td>INDIVIDUAL</td>\n",
       "      <td>3.0</td>\n",
       "      <td>0.0</td>\n",
       "      <td>1076 Carney Fort Apt. 347\\nLoganmouth, SD 05113</td>\n",
       "      <td>1</td>\n",
       "    </tr>\n",
       "    <tr>\n",
       "      <td>2</td>\n",
       "      <td>15600.0</td>\n",
       "      <td>36 months</td>\n",
       "      <td>10.49</td>\n",
       "      <td>506.97</td>\n",
       "      <td>B</td>\n",
       "      <td>B3</td>\n",
       "      <td>Statistician</td>\n",
       "      <td>&lt; 1 year</td>\n",
       "      <td>RENT</td>\n",
       "      <td>43057.0</td>\n",
       "      <td>...</td>\n",
       "      <td>0.0</td>\n",
       "      <td>11987.0</td>\n",
       "      <td>92.2</td>\n",
       "      <td>26.0</td>\n",
       "      <td>f</td>\n",
       "      <td>INDIVIDUAL</td>\n",
       "      <td>0.0</td>\n",
       "      <td>0.0</td>\n",
       "      <td>87025 Mark Dale Apt. 269\\nNew Sabrina, WV 05113</td>\n",
       "      <td>1</td>\n",
       "    </tr>\n",
       "    <tr>\n",
       "      <td>3</td>\n",
       "      <td>7200.0</td>\n",
       "      <td>36 months</td>\n",
       "      <td>6.49</td>\n",
       "      <td>220.65</td>\n",
       "      <td>A</td>\n",
       "      <td>A2</td>\n",
       "      <td>Client Advocate</td>\n",
       "      <td>6 years</td>\n",
       "      <td>RENT</td>\n",
       "      <td>54000.0</td>\n",
       "      <td>...</td>\n",
       "      <td>0.0</td>\n",
       "      <td>5472.0</td>\n",
       "      <td>21.5</td>\n",
       "      <td>13.0</td>\n",
       "      <td>f</td>\n",
       "      <td>INDIVIDUAL</td>\n",
       "      <td>0.0</td>\n",
       "      <td>0.0</td>\n",
       "      <td>823 Reid Ford\\nDelacruzside, MA 00813</td>\n",
       "      <td>1</td>\n",
       "    </tr>\n",
       "    <tr>\n",
       "      <td>4</td>\n",
       "      <td>24375.0</td>\n",
       "      <td>60 months</td>\n",
       "      <td>17.27</td>\n",
       "      <td>609.33</td>\n",
       "      <td>C</td>\n",
       "      <td>C5</td>\n",
       "      <td>Destiny Management Inc.</td>\n",
       "      <td>9 years</td>\n",
       "      <td>MORTGAGE</td>\n",
       "      <td>55000.0</td>\n",
       "      <td>...</td>\n",
       "      <td>0.0</td>\n",
       "      <td>24584.0</td>\n",
       "      <td>69.8</td>\n",
       "      <td>43.0</td>\n",
       "      <td>f</td>\n",
       "      <td>INDIVIDUAL</td>\n",
       "      <td>1.0</td>\n",
       "      <td>0.0</td>\n",
       "      <td>679 Luna Roads\\nGreggshire, VA 11650</td>\n",
       "      <td>0</td>\n",
       "    </tr>\n",
       "  </tbody>\n",
       "</table>\n",
       "<p>5 rows × 28 columns</p>\n",
       "</div>"
      ],
      "text/plain": [
       "   loan_amnt        term  int_rate  installment grade sub_grade  \\\n",
       "0    10000.0   36 months     11.44       329.48     B        B4   \n",
       "1     8000.0   36 months     11.99       265.68     B        B5   \n",
       "2    15600.0   36 months     10.49       506.97     B        B3   \n",
       "3     7200.0   36 months      6.49       220.65     A        A2   \n",
       "4    24375.0   60 months     17.27       609.33     C        C5   \n",
       "\n",
       "                 emp_title emp_length home_ownership  annual_inc  ... pub_rec  \\\n",
       "0                Marketing  10+ years           RENT    117000.0  ...     0.0   \n",
       "1          Credit analyst     4 years       MORTGAGE     65000.0  ...     0.0   \n",
       "2             Statistician   < 1 year           RENT     43057.0  ...     0.0   \n",
       "3          Client Advocate    6 years           RENT     54000.0  ...     0.0   \n",
       "4  Destiny Management Inc.    9 years       MORTGAGE     55000.0  ...     0.0   \n",
       "\n",
       "  revol_bal revol_util total_acc initial_list_status  application_type  \\\n",
       "0   36369.0       41.8      25.0                   w        INDIVIDUAL   \n",
       "1   20131.0       53.3      27.0                   f        INDIVIDUAL   \n",
       "2   11987.0       92.2      26.0                   f        INDIVIDUAL   \n",
       "3    5472.0       21.5      13.0                   f        INDIVIDUAL   \n",
       "4   24584.0       69.8      43.0                   f        INDIVIDUAL   \n",
       "\n",
       "  mort_acc  pub_rec_bankruptcies  \\\n",
       "0      0.0                   0.0   \n",
       "1      3.0                   0.0   \n",
       "2      0.0                   0.0   \n",
       "3      0.0                   0.0   \n",
       "4      1.0                   0.0   \n",
       "\n",
       "                                           address  loan_repaid  \n",
       "0     0174 Michelle Gateway\\nMendozaberg, OK 22690            1  \n",
       "1  1076 Carney Fort Apt. 347\\nLoganmouth, SD 05113            1  \n",
       "2  87025 Mark Dale Apt. 269\\nNew Sabrina, WV 05113            1  \n",
       "3            823 Reid Ford\\nDelacruzside, MA 00813            1  \n",
       "4             679 Luna Roads\\nGreggshire, VA 11650            0  \n",
       "\n",
       "[5 rows x 28 columns]"
      ]
     },
     "execution_count": 489,
     "metadata": {},
     "output_type": "execute_result"
    }
   ],
   "source": [
    "df.head()"
   ]
  },
  {
   "cell_type": "code",
   "execution_count": 490,
   "metadata": {},
   "outputs": [],
   "source": [
    "# first we will work with the missing data"
   ]
  },
  {
   "cell_type": "code",
   "execution_count": 491,
   "metadata": {},
   "outputs": [
    {
     "data": {
      "text/plain": [
       "396030"
      ]
     },
     "execution_count": 491,
     "metadata": {},
     "output_type": "execute_result"
    }
   ],
   "source": [
    "len(df)"
   ]
  },
  {
   "cell_type": "code",
   "execution_count": 492,
   "metadata": {},
   "outputs": [
    {
     "data": {
      "text/plain": [
       "loan_amnt                   0\n",
       "term                        0\n",
       "int_rate                    0\n",
       "installment                 0\n",
       "grade                       0\n",
       "sub_grade                   0\n",
       "emp_title               22927\n",
       "emp_length              18301\n",
       "home_ownership              0\n",
       "annual_inc                  0\n",
       "verification_status         0\n",
       "issue_d                     0\n",
       "loan_status                 0\n",
       "purpose                     0\n",
       "title                    1755\n",
       "dti                         0\n",
       "earliest_cr_line            0\n",
       "open_acc                    0\n",
       "pub_rec                     0\n",
       "revol_bal                   0\n",
       "revol_util                276\n",
       "total_acc                   0\n",
       "initial_list_status         0\n",
       "application_type            0\n",
       "mort_acc                37795\n",
       "pub_rec_bankruptcies      535\n",
       "address                     0\n",
       "loan_repaid                 0\n",
       "dtype: int64"
      ]
     },
     "execution_count": 492,
     "metadata": {},
     "output_type": "execute_result"
    }
   ],
   "source": [
    "# this will define how many missing values are there in a column\n",
    "df.isnull().sum()"
   ]
  },
  {
   "cell_type": "code",
   "execution_count": 493,
   "metadata": {},
   "outputs": [
    {
     "data": {
      "text/plain": [
       "loan_amnt               0.000000\n",
       "term                    0.000000\n",
       "int_rate                0.000000\n",
       "installment             0.000000\n",
       "grade                   0.000000\n",
       "sub_grade               0.000000\n",
       "emp_title               5.789208\n",
       "emp_length              4.621115\n",
       "home_ownership          0.000000\n",
       "annual_inc              0.000000\n",
       "verification_status     0.000000\n",
       "issue_d                 0.000000\n",
       "loan_status             0.000000\n",
       "purpose                 0.000000\n",
       "title                   0.443148\n",
       "dti                     0.000000\n",
       "earliest_cr_line        0.000000\n",
       "open_acc                0.000000\n",
       "pub_rec                 0.000000\n",
       "revol_bal               0.000000\n",
       "revol_util              0.069692\n",
       "total_acc               0.000000\n",
       "initial_list_status     0.000000\n",
       "application_type        0.000000\n",
       "mort_acc                9.543469\n",
       "pub_rec_bankruptcies    0.135091\n",
       "address                 0.000000\n",
       "loan_repaid             0.000000\n",
       "dtype: float64"
      ]
     },
     "execution_count": 493,
     "metadata": {},
     "output_type": "execute_result"
    }
   ],
   "source": [
    "# checking the % divided by the total length of the dataset\n",
    "100* df.isnull().sum()/len(df)"
   ]
  },
  {
   "cell_type": "code",
   "execution_count": 494,
   "metadata": {},
   "outputs": [
    {
     "name": "stdout",
     "output_type": "stream",
     "text": [
      "The job title supplied by the Borrower when applying for the loan.*\n"
     ]
    }
   ],
   "source": [
    "feat_info('emp_title')"
   ]
  },
  {
   "cell_type": "code",
   "execution_count": 495,
   "metadata": {},
   "outputs": [
    {
     "name": "stdout",
     "output_type": "stream",
     "text": [
      "Employment length in years. Possible values are between 0 and 10 where 0 means less than one year and 10 means ten or more years. \n"
     ]
    }
   ],
   "source": [
    "feat_info('emp_length')"
   ]
  },
  {
   "cell_type": "code",
   "execution_count": 496,
   "metadata": {},
   "outputs": [
    {
     "data": {
      "text/plain": [
       "173105"
      ]
     },
     "execution_count": 496,
     "metadata": {},
     "output_type": "execute_result"
    }
   ],
   "source": [
    "df['emp_title'].nunique()"
   ]
  },
  {
   "cell_type": "code",
   "execution_count": 497,
   "metadata": {},
   "outputs": [
    {
     "data": {
      "text/plain": [
       "Teacher                                  4389\n",
       "Manager                                  4250\n",
       "Registered Nurse                         1856\n",
       "RN                                       1846\n",
       "Supervisor                               1830\n",
       "                                         ... \n",
       "99 restaurant and Burtons Grill             1\n",
       "navigator development group                 1\n",
       "Crothall Healthcare Inc.                    1\n",
       "Deputy Chief Wing Weapons and Tactics       1\n",
       "Occupational Therapist Assistant            1\n",
       "Name: emp_title, Length: 173105, dtype: int64"
      ]
     },
     "execution_count": 497,
     "metadata": {},
     "output_type": "execute_result"
    }
   ],
   "source": [
    "df['emp_title'].value_counts()"
   ]
  },
  {
   "cell_type": "code",
   "execution_count": 498,
   "metadata": {},
   "outputs": [],
   "source": [
    "# by this we get to know that emp_title has huge number of unique values , for that it will be huge dataset for creating dummies ,\n",
    "# so we will drop this column"
   ]
  },
  {
   "cell_type": "code",
   "execution_count": 499,
   "metadata": {},
   "outputs": [],
   "source": [
    "df = df.drop('emp_title',axis=1)"
   ]
  },
  {
   "cell_type": "code",
   "execution_count": 500,
   "metadata": {},
   "outputs": [
    {
     "data": {
      "text/plain": [
       "<matplotlib.axes._subplots.AxesSubplot at 0x19977701d48>"
      ]
     },
     "execution_count": 500,
     "metadata": {},
     "output_type": "execute_result"
    },
    {
     "data": {
      "image/png": "[encoded data removed]",
      "text/plain": [
       "<Figure size 864x504 with 1 Axes>"
      ]
     },
     "metadata": {},
     "output_type": "display_data"
    }
   ],
   "source": [
    "plt.figure(figsize=(12,7))\n",
    "sns.countplot(x='emp_length',data=df,)"
   ]
  },
  {
   "cell_type": "code",
   "execution_count": 501,
   "metadata": {},
   "outputs": [],
   "source": [
    "# now we sort this emp_length"
   ]
  },
  {
   "cell_type": "code",
   "execution_count": 502,
   "metadata": {},
   "outputs": [
    {
     "data": {
      "text/plain": [
       "['1 year',\n",
       " '10+ years',\n",
       " '2 years',\n",
       " '3 years',\n",
       " '4 years',\n",
       " '5 years',\n",
       " '6 years',\n",
       " '7 years',\n",
       " '8 years',\n",
       " '9 years',\n",
       " '< 1 year']"
      ]
     },
     "execution_count": 502,
     "metadata": {},
     "output_type": "execute_result"
    }
   ],
   "source": [
    "#df['emp_length'].sort_values().dropna().unique()\n",
    "\n",
    "sorted(df['emp_length'].dropna().unique())"
   ]
  },
  {
   "cell_type": "code",
   "execution_count": 503,
   "metadata": {},
   "outputs": [],
   "source": [
    "emp_length_order = ['< 1 year',\n",
    " '1 year',\n",
    " '2 years',\n",
    " '3 years',\n",
    " '4 years',\n",
    " '5 years',\n",
    " '6 years',\n",
    " '7 years',\n",
    " '8 years',\n",
    " '9 years',\n",
    " '10+ years'\n",
    "]"
   ]
  },
  {
   "cell_type": "code",
   "execution_count": 504,
   "metadata": {},
   "outputs": [
    {
     "data": {
      "text/plain": [
       "<matplotlib.axes._subplots.AxesSubplot at 0x19977723448>"
      ]
     },
     "execution_count": 504,
     "metadata": {},
     "output_type": "execute_result"
    },
    {
     "data": {
      "image/png": "[encoded data removed]",
      "text/plain": [
       "<Figure size 864x576 with 1 Axes>"
      ]
     },
     "metadata": {},
     "output_type": "display_data"
    }
   ],
   "source": [
    "plt.figure(figsize=(12,8))\n",
    "sns.countplot(x='emp_length',data=df,order=emp_length_order)"
   ]
  },
  {
   "cell_type": "code",
   "execution_count": 505,
   "metadata": {},
   "outputs": [
    {
     "data": {
      "text/plain": [
       "<matplotlib.axes._subplots.AxesSubplot at 0x199777775c8>"
      ]
     },
     "execution_count": 505,
     "metadata": {},
     "output_type": "execute_result"
    },
    {
     "data": {
      "image/png": "[encoded data removed]",
      "text/plain": [
       "<Figure size 864x576 with 1 Axes>"
      ]
     },
     "metadata": {},
     "output_type": "display_data"
    }
   ],
   "source": [
    "plt.figure(figsize=(12,8))\n",
    "sns.countplot(x='emp_length',data=df,order=emp_length_order,palette='Set1',hue='loan_status')"
   ]
  },
  {
   "cell_type": "code",
   "execution_count": 506,
   "metadata": {},
   "outputs": [],
   "source": [
    "# moving deep with relationship of emp_length with charged off relationship"
   ]
  },
  {
   "cell_type": "code",
   "execution_count": 507,
   "metadata": {},
   "outputs": [],
   "source": [
    "emp_co = df[df['loan_status'] == 'Charged Off'].groupby('emp_length').count()['loan_status']"
   ]
  },
  {
   "cell_type": "code",
   "execution_count": 508,
   "metadata": {},
   "outputs": [
    {
     "data": {
      "text/plain": [
       "emp_length\n",
       "1 year        5154\n",
       "10+ years    23215\n",
       "2 years       6924\n",
       "3 years       6182\n",
       "4 years       4608\n",
       "5 years       5092\n",
       "6 years       3943\n",
       "7 years       4055\n",
       "8 years       3829\n",
       "9 years       3070\n",
       "< 1 year      6563\n",
       "Name: loan_status, dtype: int64"
      ]
     },
     "execution_count": 508,
     "metadata": {},
     "output_type": "execute_result"
    }
   ],
   "source": [
    "emp_co"
   ]
  },
  {
   "cell_type": "code",
   "execution_count": 509,
   "metadata": {},
   "outputs": [],
   "source": [
    "emp_fp = df[df['loan_status'] == 'Fully Paid'].groupby('emp_length').count()['loan_status']"
   ]
  },
  {
   "cell_type": "code",
   "execution_count": 510,
   "metadata": {},
   "outputs": [
    {
     "data": {
      "text/plain": [
       "emp_length\n",
       "1 year        20728\n",
       "10+ years    102826\n",
       "2 years       28903\n",
       "3 years       25483\n",
       "4 years       19344\n",
       "5 years       21403\n",
       "6 years       16898\n",
       "7 years       16764\n",
       "8 years       15339\n",
       "9 years       12244\n",
       "< 1 year      25162\n",
       "Name: loan_status, dtype: int64"
      ]
     },
     "execution_count": 510,
     "metadata": {},
     "output_type": "execute_result"
    }
   ],
   "source": [
    "emp_fp"
   ]
  },
  {
   "cell_type": "code",
   "execution_count": 511,
   "metadata": {},
   "outputs": [],
   "source": [
    "emp_length = emp_co/emp_fp"
   ]
  },
  {
   "cell_type": "code",
   "execution_count": 512,
   "metadata": {},
   "outputs": [
    {
     "data": {
      "text/plain": [
       "emp_length\n",
       "1 year       0.248649\n",
       "10+ years    0.225770\n",
       "2 years      0.239560\n",
       "3 years      0.242593\n",
       "4 years      0.238213\n",
       "5 years      0.237911\n",
       "6 years      0.233341\n",
       "7 years      0.241887\n",
       "8 years      0.249625\n",
       "9 years      0.250735\n",
       "< 1 year     0.260830\n",
       "Name: loan_status, dtype: float64"
      ]
     },
     "execution_count": 512,
     "metadata": {},
     "output_type": "execute_result"
    }
   ],
   "source": [
    "emp_length"
   ]
  },
  {
   "cell_type": "code",
   "execution_count": 513,
   "metadata": {},
   "outputs": [
    {
     "data": {
      "text/plain": [
       "<matplotlib.axes._subplots.AxesSubplot at 0x1997cf7d2c8>"
      ]
     },
     "execution_count": 513,
     "metadata": {},
     "output_type": "execute_result"
    },
    {
     "data": {
      "image/png": "[encoded data removed]",
      "text/plain": [
       "<Figure size 432x288 with 1 Axes>"
      ]
     },
     "metadata": {},
     "output_type": "display_data"
    }
   ],
   "source": [
    "emp_length.plot(kind='bar')"
   ]
  },
  {
   "cell_type": "code",
   "execution_count": 514,
   "metadata": {},
   "outputs": [],
   "source": [
    "# in a result charge_off rates are almost similiar all across the employment plot\n",
    "# so now we can drop this emp_length column"
   ]
  },
  {
   "cell_type": "code",
   "execution_count": 515,
   "metadata": {},
   "outputs": [],
   "source": [
    "df = df.drop('emp_length',axis=1)"
   ]
  },
  {
   "cell_type": "code",
   "execution_count": 516,
   "metadata": {},
   "outputs": [
    {
     "data": {
      "text/html": [
       "<div>\n",
       "<style scoped>\n",
       "    .dataframe tbody tr th:only-of-type {\n",
       "        vertical-align: middle;\n",
       "    }\n",
       "\n",
       "    .dataframe tbody tr th {\n",
       "        vertical-align: top;\n",
       "    }\n",
       "\n",
       "    .dataframe thead th {\n",
       "        text-align: right;\n",
       "    }\n",
       "</style>\n",
       "<table border=\"1\" class=\"dataframe\">\n",
       "  <thead>\n",
       "    <tr style=\"text-align: right;\">\n",
       "      <th></th>\n",
       "      <th>loan_amnt</th>\n",
       "      <th>term</th>\n",
       "      <th>int_rate</th>\n",
       "      <th>installment</th>\n",
       "      <th>grade</th>\n",
       "      <th>sub_grade</th>\n",
       "      <th>home_ownership</th>\n",
       "      <th>annual_inc</th>\n",
       "      <th>verification_status</th>\n",
       "      <th>issue_d</th>\n",
       "      <th>...</th>\n",
       "      <th>pub_rec</th>\n",
       "      <th>revol_bal</th>\n",
       "      <th>revol_util</th>\n",
       "      <th>total_acc</th>\n",
       "      <th>initial_list_status</th>\n",
       "      <th>application_type</th>\n",
       "      <th>mort_acc</th>\n",
       "      <th>pub_rec_bankruptcies</th>\n",
       "      <th>address</th>\n",
       "      <th>loan_repaid</th>\n",
       "    </tr>\n",
       "  </thead>\n",
       "  <tbody>\n",
       "    <tr>\n",
       "      <td>0</td>\n",
       "      <td>10000.0</td>\n",
       "      <td>36 months</td>\n",
       "      <td>11.44</td>\n",
       "      <td>329.48</td>\n",
       "      <td>B</td>\n",
       "      <td>B4</td>\n",
       "      <td>RENT</td>\n",
       "      <td>117000.0</td>\n",
       "      <td>Not Verified</td>\n",
       "      <td>Jan-2015</td>\n",
       "      <td>...</td>\n",
       "      <td>0.0</td>\n",
       "      <td>36369.0</td>\n",
       "      <td>41.8</td>\n",
       "      <td>25.0</td>\n",
       "      <td>w</td>\n",
       "      <td>INDIVIDUAL</td>\n",
       "      <td>0.0</td>\n",
       "      <td>0.0</td>\n",
       "      <td>0174 Michelle Gateway\\nMendozaberg, OK 22690</td>\n",
       "      <td>1</td>\n",
       "    </tr>\n",
       "    <tr>\n",
       "      <td>1</td>\n",
       "      <td>8000.0</td>\n",
       "      <td>36 months</td>\n",
       "      <td>11.99</td>\n",
       "      <td>265.68</td>\n",
       "      <td>B</td>\n",
       "      <td>B5</td>\n",
       "      <td>MORTGAGE</td>\n",
       "      <td>65000.0</td>\n",
       "      <td>Not Verified</td>\n",
       "      <td>Jan-2015</td>\n",
       "      <td>...</td>\n",
       "      <td>0.0</td>\n",
       "      <td>20131.0</td>\n",
       "      <td>53.3</td>\n",
       "      <td>27.0</td>\n",
       "      <td>f</td>\n",
       "      <td>INDIVIDUAL</td>\n",
       "      <td>3.0</td>\n",
       "      <td>0.0</td>\n",
       "      <td>1076 Carney Fort Apt. 347\\nLoganmouth, SD 05113</td>\n",
       "      <td>1</td>\n",
       "    </tr>\n",
       "    <tr>\n",
       "      <td>2</td>\n",
       "      <td>15600.0</td>\n",
       "      <td>36 months</td>\n",
       "      <td>10.49</td>\n",
       "      <td>506.97</td>\n",
       "      <td>B</td>\n",
       "      <td>B3</td>\n",
       "      <td>RENT</td>\n",
       "      <td>43057.0</td>\n",
       "      <td>Source Verified</td>\n",
       "      <td>Jan-2015</td>\n",
       "      <td>...</td>\n",
       "      <td>0.0</td>\n",
       "      <td>11987.0</td>\n",
       "      <td>92.2</td>\n",
       "      <td>26.0</td>\n",
       "      <td>f</td>\n",
       "      <td>INDIVIDUAL</td>\n",
       "      <td>0.0</td>\n",
       "      <td>0.0</td>\n",
       "      <td>87025 Mark Dale Apt. 269\\nNew Sabrina, WV 05113</td>\n",
       "      <td>1</td>\n",
       "    </tr>\n",
       "    <tr>\n",
       "      <td>3</td>\n",
       "      <td>7200.0</td>\n",
       "      <td>36 months</td>\n",
       "      <td>6.49</td>\n",
       "      <td>220.65</td>\n",
       "      <td>A</td>\n",
       "      <td>A2</td>\n",
       "      <td>RENT</td>\n",
       "      <td>54000.0</td>\n",
       "      <td>Not Verified</td>\n",
       "      <td>Nov-2014</td>\n",
       "      <td>...</td>\n",
       "      <td>0.0</td>\n",
       "      <td>5472.0</td>\n",
       "      <td>21.5</td>\n",
       "      <td>13.0</td>\n",
       "      <td>f</td>\n",
       "      <td>INDIVIDUAL</td>\n",
       "      <td>0.0</td>\n",
       "      <td>0.0</td>\n",
       "      <td>823 Reid Ford\\nDelacruzside, MA 00813</td>\n",
       "      <td>1</td>\n",
       "    </tr>\n",
       "    <tr>\n",
       "      <td>4</td>\n",
       "      <td>24375.0</td>\n",
       "      <td>60 months</td>\n",
       "      <td>17.27</td>\n",
       "      <td>609.33</td>\n",
       "      <td>C</td>\n",
       "      <td>C5</td>\n",
       "      <td>MORTGAGE</td>\n",
       "      <td>55000.0</td>\n",
       "      <td>Verified</td>\n",
       "      <td>Apr-2013</td>\n",
       "      <td>...</td>\n",
       "      <td>0.0</td>\n",
       "      <td>24584.0</td>\n",
       "      <td>69.8</td>\n",
       "      <td>43.0</td>\n",
       "      <td>f</td>\n",
       "      <td>INDIVIDUAL</td>\n",
       "      <td>1.0</td>\n",
       "      <td>0.0</td>\n",
       "      <td>679 Luna Roads\\nGreggshire, VA 11650</td>\n",
       "      <td>0</td>\n",
       "    </tr>\n",
       "  </tbody>\n",
       "</table>\n",
       "<p>5 rows × 26 columns</p>\n",
       "</div>"
      ],
      "text/plain": [
       "   loan_amnt        term  int_rate  installment grade sub_grade  \\\n",
       "0    10000.0   36 months     11.44       329.48     B        B4   \n",
       "1     8000.0   36 months     11.99       265.68     B        B5   \n",
       "2    15600.0   36 months     10.49       506.97     B        B3   \n",
       "3     7200.0   36 months      6.49       220.65     A        A2   \n",
       "4    24375.0   60 months     17.27       609.33     C        C5   \n",
       "\n",
       "  home_ownership  annual_inc verification_status   issue_d  ... pub_rec  \\\n",
       "0           RENT    117000.0        Not Verified  Jan-2015  ...     0.0   \n",
       "1       MORTGAGE     65000.0        Not Verified  Jan-2015  ...     0.0   \n",
       "2           RENT     43057.0     Source Verified  Jan-2015  ...     0.0   \n",
       "3           RENT     54000.0        Not Verified  Nov-2014  ...     0.0   \n",
       "4       MORTGAGE     55000.0            Verified  Apr-2013  ...     0.0   \n",
       "\n",
       "  revol_bal revol_util  total_acc initial_list_status  application_type  \\\n",
       "0   36369.0       41.8       25.0                   w        INDIVIDUAL   \n",
       "1   20131.0       53.3       27.0                   f        INDIVIDUAL   \n",
       "2   11987.0       92.2       26.0                   f        INDIVIDUAL   \n",
       "3    5472.0       21.5       13.0                   f        INDIVIDUAL   \n",
       "4   24584.0       69.8       43.0                   f        INDIVIDUAL   \n",
       "\n",
       "   mort_acc  pub_rec_bankruptcies  \\\n",
       "0       0.0                   0.0   \n",
       "1       3.0                   0.0   \n",
       "2       0.0                   0.0   \n",
       "3       0.0                   0.0   \n",
       "4       1.0                   0.0   \n",
       "\n",
       "                                           address  loan_repaid  \n",
       "0     0174 Michelle Gateway\\nMendozaberg, OK 22690            1  \n",
       "1  1076 Carney Fort Apt. 347\\nLoganmouth, SD 05113            1  \n",
       "2  87025 Mark Dale Apt. 269\\nNew Sabrina, WV 05113            1  \n",
       "3            823 Reid Ford\\nDelacruzside, MA 00813            1  \n",
       "4             679 Luna Roads\\nGreggshire, VA 11650            0  \n",
       "\n",
       "[5 rows x 26 columns]"
      ]
     },
     "execution_count": 516,
     "metadata": {},
     "output_type": "execute_result"
    }
   ],
   "source": [
    "df.head()"
   ]
  },
  {
   "cell_type": "code",
   "execution_count": 517,
   "metadata": {},
   "outputs": [
    {
     "data": {
      "text/plain": [
       "loan_amnt                   0\n",
       "term                        0\n",
       "int_rate                    0\n",
       "installment                 0\n",
       "grade                       0\n",
       "sub_grade                   0\n",
       "home_ownership              0\n",
       "annual_inc                  0\n",
       "verification_status         0\n",
       "issue_d                     0\n",
       "loan_status                 0\n",
       "purpose                     0\n",
       "title                    1755\n",
       "dti                         0\n",
       "earliest_cr_line            0\n",
       "open_acc                    0\n",
       "pub_rec                     0\n",
       "revol_bal                   0\n",
       "revol_util                276\n",
       "total_acc                   0\n",
       "initial_list_status         0\n",
       "application_type            0\n",
       "mort_acc                37795\n",
       "pub_rec_bankruptcies      535\n",
       "address                     0\n",
       "loan_repaid                 0\n",
       "dtype: int64"
      ]
     },
     "execution_count": 517,
     "metadata": {},
     "output_type": "execute_result"
    }
   ],
   "source": [
    "df.isnull().sum()"
   ]
  },
  {
   "cell_type": "code",
   "execution_count": 518,
   "metadata": {},
   "outputs": [
    {
     "data": {
      "text/plain": [
       "0                   Vacation\n",
       "1         Debt consolidation\n",
       "2    Credit card refinancing\n",
       "3    Credit card refinancing\n",
       "4      Credit Card Refinance\n",
       "5         Debt consolidation\n",
       "6           Home improvement\n",
       "7       No More Credit Cards\n",
       "8         Debt consolidation\n",
       "9         Debt Consolidation\n",
       "Name: title, dtype: object"
      ]
     },
     "execution_count": 518,
     "metadata": {},
     "output_type": "execute_result"
    }
   ],
   "source": [
    "df['title'].head(10)"
   ]
  },
  {
   "cell_type": "code",
   "execution_count": 519,
   "metadata": {},
   "outputs": [
    {
     "data": {
      "text/plain": [
       "396030"
      ]
     },
     "execution_count": 519,
     "metadata": {},
     "output_type": "execute_result"
    }
   ],
   "source": [
    "len(df['title'])"
   ]
  },
  {
   "cell_type": "code",
   "execution_count": 520,
   "metadata": {},
   "outputs": [
    {
     "data": {
      "text/plain": [
       "0              vacation\n",
       "1    debt_consolidation\n",
       "2           credit_card\n",
       "3           credit_card\n",
       "4           credit_card\n",
       "5    debt_consolidation\n",
       "6      home_improvement\n",
       "7           credit_card\n",
       "8    debt_consolidation\n",
       "9    debt_consolidation\n",
       "Name: purpose, dtype: object"
      ]
     },
     "execution_count": 520,
     "metadata": {},
     "output_type": "execute_result"
    }
   ],
   "source": [
    "df['purpose'].head(10)"
   ]
  },
  {
   "cell_type": "code",
   "execution_count": 521,
   "metadata": {},
   "outputs": [
    {
     "data": {
      "text/plain": [
       "396030"
      ]
     },
     "execution_count": 521,
     "metadata": {},
     "output_type": "execute_result"
    }
   ],
   "source": [
    "len(df['purpose'])"
   ]
  },
  {
   "cell_type": "code",
   "execution_count": 522,
   "metadata": {},
   "outputs": [],
   "source": [
    "# from the above facts and figures above the title column is same and we can drop it"
   ]
  },
  {
   "cell_type": "code",
   "execution_count": 523,
   "metadata": {},
   "outputs": [],
   "source": [
    "df = df.drop('title',axis=1)"
   ]
  },
  {
   "cell_type": "code",
   "execution_count": 524,
   "metadata": {},
   "outputs": [
    {
     "data": {
      "text/html": [
       "<div>\n",
       "<style scoped>\n",
       "    .dataframe tbody tr th:only-of-type {\n",
       "        vertical-align: middle;\n",
       "    }\n",
       "\n",
       "    .dataframe tbody tr th {\n",
       "        vertical-align: top;\n",
       "    }\n",
       "\n",
       "    .dataframe thead th {\n",
       "        text-align: right;\n",
       "    }\n",
       "</style>\n",
       "<table border=\"1\" class=\"dataframe\">\n",
       "  <thead>\n",
       "    <tr style=\"text-align: right;\">\n",
       "      <th></th>\n",
       "      <th>loan_amnt</th>\n",
       "      <th>term</th>\n",
       "      <th>int_rate</th>\n",
       "      <th>installment</th>\n",
       "      <th>grade</th>\n",
       "      <th>sub_grade</th>\n",
       "      <th>home_ownership</th>\n",
       "      <th>annual_inc</th>\n",
       "      <th>verification_status</th>\n",
       "      <th>issue_d</th>\n",
       "      <th>...</th>\n",
       "      <th>pub_rec</th>\n",
       "      <th>revol_bal</th>\n",
       "      <th>revol_util</th>\n",
       "      <th>total_acc</th>\n",
       "      <th>initial_list_status</th>\n",
       "      <th>application_type</th>\n",
       "      <th>mort_acc</th>\n",
       "      <th>pub_rec_bankruptcies</th>\n",
       "      <th>address</th>\n",
       "      <th>loan_repaid</th>\n",
       "    </tr>\n",
       "  </thead>\n",
       "  <tbody>\n",
       "    <tr>\n",
       "      <td>0</td>\n",
       "      <td>10000.0</td>\n",
       "      <td>36 months</td>\n",
       "      <td>11.44</td>\n",
       "      <td>329.48</td>\n",
       "      <td>B</td>\n",
       "      <td>B4</td>\n",
       "      <td>RENT</td>\n",
       "      <td>117000.0</td>\n",
       "      <td>Not Verified</td>\n",
       "      <td>Jan-2015</td>\n",
       "      <td>...</td>\n",
       "      <td>0.0</td>\n",
       "      <td>36369.0</td>\n",
       "      <td>41.8</td>\n",
       "      <td>25.0</td>\n",
       "      <td>w</td>\n",
       "      <td>INDIVIDUAL</td>\n",
       "      <td>0.0</td>\n",
       "      <td>0.0</td>\n",
       "      <td>0174 Michelle Gateway\\nMendozaberg, OK 22690</td>\n",
       "      <td>1</td>\n",
       "    </tr>\n",
       "    <tr>\n",
       "      <td>1</td>\n",
       "      <td>8000.0</td>\n",
       "      <td>36 months</td>\n",
       "      <td>11.99</td>\n",
       "      <td>265.68</td>\n",
       "      <td>B</td>\n",
       "      <td>B5</td>\n",
       "      <td>MORTGAGE</td>\n",
       "      <td>65000.0</td>\n",
       "      <td>Not Verified</td>\n",
       "      <td>Jan-2015</td>\n",
       "      <td>...</td>\n",
       "      <td>0.0</td>\n",
       "      <td>20131.0</td>\n",
       "      <td>53.3</td>\n",
       "      <td>27.0</td>\n",
       "      <td>f</td>\n",
       "      <td>INDIVIDUAL</td>\n",
       "      <td>3.0</td>\n",
       "      <td>0.0</td>\n",
       "      <td>1076 Carney Fort Apt. 347\\nLoganmouth, SD 05113</td>\n",
       "      <td>1</td>\n",
       "    </tr>\n",
       "    <tr>\n",
       "      <td>2</td>\n",
       "      <td>15600.0</td>\n",
       "      <td>36 months</td>\n",
       "      <td>10.49</td>\n",
       "      <td>506.97</td>\n",
       "      <td>B</td>\n",
       "      <td>B3</td>\n",
       "      <td>RENT</td>\n",
       "      <td>43057.0</td>\n",
       "      <td>Source Verified</td>\n",
       "      <td>Jan-2015</td>\n",
       "      <td>...</td>\n",
       "      <td>0.0</td>\n",
       "      <td>11987.0</td>\n",
       "      <td>92.2</td>\n",
       "      <td>26.0</td>\n",
       "      <td>f</td>\n",
       "      <td>INDIVIDUAL</td>\n",
       "      <td>0.0</td>\n",
       "      <td>0.0</td>\n",
       "      <td>87025 Mark Dale Apt. 269\\nNew Sabrina, WV 05113</td>\n",
       "      <td>1</td>\n",
       "    </tr>\n",
       "    <tr>\n",
       "      <td>3</td>\n",
       "      <td>7200.0</td>\n",
       "      <td>36 months</td>\n",
       "      <td>6.49</td>\n",
       "      <td>220.65</td>\n",
       "      <td>A</td>\n",
       "      <td>A2</td>\n",
       "      <td>RENT</td>\n",
       "      <td>54000.0</td>\n",
       "      <td>Not Verified</td>\n",
       "      <td>Nov-2014</td>\n",
       "      <td>...</td>\n",
       "      <td>0.0</td>\n",
       "      <td>5472.0</td>\n",
       "      <td>21.5</td>\n",
       "      <td>13.0</td>\n",
       "      <td>f</td>\n",
       "      <td>INDIVIDUAL</td>\n",
       "      <td>0.0</td>\n",
       "      <td>0.0</td>\n",
       "      <td>823 Reid Ford\\nDelacruzside, MA 00813</td>\n",
       "      <td>1</td>\n",
       "    </tr>\n",
       "    <tr>\n",
       "      <td>4</td>\n",
       "      <td>24375.0</td>\n",
       "      <td>60 months</td>\n",
       "      <td>17.27</td>\n",
       "      <td>609.33</td>\n",
       "      <td>C</td>\n",
       "      <td>C5</td>\n",
       "      <td>MORTGAGE</td>\n",
       "      <td>55000.0</td>\n",
       "      <td>Verified</td>\n",
       "      <td>Apr-2013</td>\n",
       "      <td>...</td>\n",
       "      <td>0.0</td>\n",
       "      <td>24584.0</td>\n",
       "      <td>69.8</td>\n",
       "      <td>43.0</td>\n",
       "      <td>f</td>\n",
       "      <td>INDIVIDUAL</td>\n",
       "      <td>1.0</td>\n",
       "      <td>0.0</td>\n",
       "      <td>679 Luna Roads\\nGreggshire, VA 11650</td>\n",
       "      <td>0</td>\n",
       "    </tr>\n",
       "  </tbody>\n",
       "</table>\n",
       "<p>5 rows × 25 columns</p>\n",
       "</div>"
      ],
      "text/plain": [
       "   loan_amnt        term  int_rate  installment grade sub_grade  \\\n",
       "0    10000.0   36 months     11.44       329.48     B        B4   \n",
       "1     8000.0   36 months     11.99       265.68     B        B5   \n",
       "2    15600.0   36 months     10.49       506.97     B        B3   \n",
       "3     7200.0   36 months      6.49       220.65     A        A2   \n",
       "4    24375.0   60 months     17.27       609.33     C        C5   \n",
       "\n",
       "  home_ownership  annual_inc verification_status   issue_d  ... pub_rec  \\\n",
       "0           RENT    117000.0        Not Verified  Jan-2015  ...     0.0   \n",
       "1       MORTGAGE     65000.0        Not Verified  Jan-2015  ...     0.0   \n",
       "2           RENT     43057.0     Source Verified  Jan-2015  ...     0.0   \n",
       "3           RENT     54000.0        Not Verified  Nov-2014  ...     0.0   \n",
       "4       MORTGAGE     55000.0            Verified  Apr-2013  ...     0.0   \n",
       "\n",
       "  revol_bal  revol_util total_acc  initial_list_status  application_type  \\\n",
       "0   36369.0        41.8      25.0                    w        INDIVIDUAL   \n",
       "1   20131.0        53.3      27.0                    f        INDIVIDUAL   \n",
       "2   11987.0        92.2      26.0                    f        INDIVIDUAL   \n",
       "3    5472.0        21.5      13.0                    f        INDIVIDUAL   \n",
       "4   24584.0        69.8      43.0                    f        INDIVIDUAL   \n",
       "\n",
       "   mort_acc  pub_rec_bankruptcies  \\\n",
       "0       0.0                   0.0   \n",
       "1       3.0                   0.0   \n",
       "2       0.0                   0.0   \n",
       "3       0.0                   0.0   \n",
       "4       1.0                   0.0   \n",
       "\n",
       "                                           address loan_repaid  \n",
       "0     0174 Michelle Gateway\\nMendozaberg, OK 22690           1  \n",
       "1  1076 Carney Fort Apt. 347\\nLoganmouth, SD 05113           1  \n",
       "2  87025 Mark Dale Apt. 269\\nNew Sabrina, WV 05113           1  \n",
       "3            823 Reid Ford\\nDelacruzside, MA 00813           1  \n",
       "4             679 Luna Roads\\nGreggshire, VA 11650           0  \n",
       "\n",
       "[5 rows x 25 columns]"
      ]
     },
     "execution_count": 524,
     "metadata": {},
     "output_type": "execute_result"
    }
   ],
   "source": [
    "df.head(5)"
   ]
  },
  {
   "cell_type": "code",
   "execution_count": 525,
   "metadata": {},
   "outputs": [
    {
     "name": "stdout",
     "output_type": "stream",
     "text": [
      "Number of mortgage accounts.\n"
     ]
    }
   ],
   "source": [
    "feat_info('mort_acc')"
   ]
  },
  {
   "cell_type": "code",
   "execution_count": 526,
   "metadata": {},
   "outputs": [
    {
     "data": {
      "text/plain": [
       "0         0.0\n",
       "1         3.0\n",
       "2         0.0\n",
       "3         0.0\n",
       "4         1.0\n",
       "         ... \n",
       "396025    0.0\n",
       "396026    1.0\n",
       "396027    0.0\n",
       "396028    5.0\n",
       "396029    NaN\n",
       "Name: mort_acc, Length: 396030, dtype: float64"
      ]
     },
     "execution_count": 526,
     "metadata": {},
     "output_type": "execute_result"
    }
   ],
   "source": [
    "df['mort_acc']"
   ]
  },
  {
   "cell_type": "code",
   "execution_count": 527,
   "metadata": {},
   "outputs": [
    {
     "data": {
      "text/plain": [
       "0.0     139777\n",
       "1.0      60416\n",
       "2.0      49948\n",
       "3.0      38049\n",
       "4.0      27887\n",
       "5.0      18194\n",
       "6.0      11069\n",
       "7.0       6052\n",
       "8.0       3121\n",
       "9.0       1656\n",
       "10.0       865\n",
       "11.0       479\n",
       "12.0       264\n",
       "13.0       146\n",
       "14.0       107\n",
       "15.0        61\n",
       "16.0        37\n",
       "17.0        22\n",
       "18.0        18\n",
       "19.0        15\n",
       "20.0        13\n",
       "24.0        10\n",
       "22.0         7\n",
       "21.0         4\n",
       "25.0         4\n",
       "27.0         3\n",
       "23.0         2\n",
       "32.0         2\n",
       "26.0         2\n",
       "31.0         2\n",
       "30.0         1\n",
       "28.0         1\n",
       "34.0         1\n",
       "Name: mort_acc, dtype: int64"
      ]
     },
     "execution_count": 527,
     "metadata": {},
     "output_type": "execute_result"
    }
   ],
   "source": [
    "df['mort_acc'].value_counts()"
   ]
  },
  {
   "cell_type": "code",
   "execution_count": 528,
   "metadata": {},
   "outputs": [
    {
     "data": {
      "text/plain": [
       "<bound method Series.sort_values of loan_amnt               0.222315\n",
       "int_rate               -0.082583\n",
       "installment             0.193694\n",
       "annual_inc              0.236320\n",
       "dti                    -0.025439\n",
       "open_acc                0.109205\n",
       "pub_rec                 0.011552\n",
       "revol_bal               0.194925\n",
       "revol_util              0.007514\n",
       "total_acc               0.381072\n",
       "mort_acc                1.000000\n",
       "pub_rec_bankruptcies    0.027239\n",
       "loan_repaid             0.073111\n",
       "Name: mort_acc, dtype: float64>"
      ]
     },
     "execution_count": 528,
     "metadata": {},
     "output_type": "execute_result"
    }
   ],
   "source": [
    "df.corr()['mort_acc'].sort_values"
   ]
  },
  {
   "cell_type": "code",
   "execution_count": 529,
   "metadata": {},
   "outputs": [],
   "source": [
    "# from the above figures it looks like the highest correlation of mort_acc is total_acc"
   ]
  },
  {
   "cell_type": "code",
   "execution_count": 530,
   "metadata": {},
   "outputs": [
    {
     "data": {
      "text/plain": [
       "total_acc\n",
       "2.0      0.000000\n",
       "3.0      0.052023\n",
       "4.0      0.066743\n",
       "5.0      0.103289\n",
       "6.0      0.151293\n",
       "           ...   \n",
       "124.0    1.000000\n",
       "129.0    1.000000\n",
       "135.0    3.000000\n",
       "150.0    2.000000\n",
       "151.0    0.000000\n",
       "Name: mort_acc, Length: 118, dtype: float64"
      ]
     },
     "execution_count": 530,
     "metadata": {},
     "output_type": "execute_result"
    }
   ],
   "source": [
    "df.groupby(['total_acc']).mean()['mort_acc']\n",
    "\n",
    "# we are checking the mean of each entry (total_acc) against mort_acc"
   ]
  },
  {
   "cell_type": "code",
   "execution_count": 531,
   "metadata": {},
   "outputs": [],
   "source": [
    "total_acc_avg = df.groupby(['total_acc']).mean()['mort_acc']"
   ]
  },
  {
   "cell_type": "code",
   "execution_count": 532,
   "metadata": {},
   "outputs": [
    {
     "data": {
      "text/plain": [
       "0.05202312138728324"
      ]
     },
     "execution_count": 532,
     "metadata": {},
     "output_type": "execute_result"
    }
   ],
   "source": [
    "total_acc_avg[3]"
   ]
  },
  {
   "cell_type": "code",
   "execution_count": 533,
   "metadata": {},
   "outputs": [],
   "source": [
    "# we will pass the mort_acc and total_acc row values \n",
    "def fill_mort_values(total_acc,mort_acc):\n",
    "    \n",
    "    if np.isnan(mort_acc):  # we will check if there is any Nan values in mort_acc column ,\n",
    "        return total_acc_avg[total_acc] # if it exits then it will pass the value in this total_acc_avg to get the value\n",
    "    else:\n",
    "        return mort_acc  # otherwise else return\n",
    "    "
   ]
  },
  {
   "cell_type": "code",
   "execution_count": 534,
   "metadata": {},
   "outputs": [],
   "source": [
    "df['mort_acc'] = df.apply(lambda x : fill_mort_values(x['total_acc'],x['mort_acc']) ,axis=1)"
   ]
  },
  {
   "cell_type": "code",
   "execution_count": 535,
   "metadata": {},
   "outputs": [
    {
     "data": {
      "text/plain": [
       "loan_amnt                 0\n",
       "term                      0\n",
       "int_rate                  0\n",
       "installment               0\n",
       "grade                     0\n",
       "sub_grade                 0\n",
       "home_ownership            0\n",
       "annual_inc                0\n",
       "verification_status       0\n",
       "issue_d                   0\n",
       "loan_status               0\n",
       "purpose                   0\n",
       "dti                       0\n",
       "earliest_cr_line          0\n",
       "open_acc                  0\n",
       "pub_rec                   0\n",
       "revol_bal                 0\n",
       "revol_util              276\n",
       "total_acc                 0\n",
       "initial_list_status       0\n",
       "application_type          0\n",
       "mort_acc                  0\n",
       "pub_rec_bankruptcies    535\n",
       "address                   0\n",
       "loan_repaid               0\n",
       "dtype: int64"
      ]
     },
     "execution_count": 535,
     "metadata": {},
     "output_type": "execute_result"
    }
   ],
   "source": [
    "df.isnull().sum()"
   ]
  },
  {
   "cell_type": "code",
   "execution_count": 536,
   "metadata": {},
   "outputs": [],
   "source": [
    "# the correlation % of pub_rec_bankruptcies and revol_bal is less than 0.5% so we can drop these columns"
   ]
  },
  {
   "cell_type": "code",
   "execution_count": 537,
   "metadata": {},
   "outputs": [],
   "source": [
    "# df = df.drop([' pub_rec_bankruptcies' ,'revol_bal'] ,  axis=1 ) \n",
    "# or \n",
    "df = df.dropna()"
   ]
  },
  {
   "cell_type": "code",
   "execution_count": 538,
   "metadata": {},
   "outputs": [
    {
     "data": {
      "text/plain": [
       "loan_amnt               0\n",
       "term                    0\n",
       "int_rate                0\n",
       "installment             0\n",
       "grade                   0\n",
       "sub_grade               0\n",
       "home_ownership          0\n",
       "annual_inc              0\n",
       "verification_status     0\n",
       "issue_d                 0\n",
       "loan_status             0\n",
       "purpose                 0\n",
       "dti                     0\n",
       "earliest_cr_line        0\n",
       "open_acc                0\n",
       "pub_rec                 0\n",
       "revol_bal               0\n",
       "revol_util              0\n",
       "total_acc               0\n",
       "initial_list_status     0\n",
       "application_type        0\n",
       "mort_acc                0\n",
       "pub_rec_bankruptcies    0\n",
       "address                 0\n",
       "loan_repaid             0\n",
       "dtype: int64"
      ]
     },
     "execution_count": 538,
     "metadata": {},
     "output_type": "execute_result"
    }
   ],
   "source": [
    "df.isnull().sum()"
   ]
  },
  {
   "cell_type": "code",
   "execution_count": 539,
   "metadata": {},
   "outputs": [],
   "source": [
    "# now all the missing values have been fixed and dropped out columns also"
   ]
  },
  {
   "cell_type": "code",
   "execution_count": 540,
   "metadata": {},
   "outputs": [
    {
     "data": {
      "text/html": [
       "<div>\n",
       "<style scoped>\n",
       "    .dataframe tbody tr th:only-of-type {\n",
       "        vertical-align: middle;\n",
       "    }\n",
       "\n",
       "    .dataframe tbody tr th {\n",
       "        vertical-align: top;\n",
       "    }\n",
       "\n",
       "    .dataframe thead th {\n",
       "        text-align: right;\n",
       "    }\n",
       "</style>\n",
       "<table border=\"1\" class=\"dataframe\">\n",
       "  <thead>\n",
       "    <tr style=\"text-align: right;\">\n",
       "      <th></th>\n",
       "      <th>loan_amnt</th>\n",
       "      <th>term</th>\n",
       "      <th>int_rate</th>\n",
       "      <th>installment</th>\n",
       "      <th>grade</th>\n",
       "      <th>sub_grade</th>\n",
       "      <th>home_ownership</th>\n",
       "      <th>annual_inc</th>\n",
       "      <th>verification_status</th>\n",
       "      <th>issue_d</th>\n",
       "      <th>...</th>\n",
       "      <th>pub_rec</th>\n",
       "      <th>revol_bal</th>\n",
       "      <th>revol_util</th>\n",
       "      <th>total_acc</th>\n",
       "      <th>initial_list_status</th>\n",
       "      <th>application_type</th>\n",
       "      <th>mort_acc</th>\n",
       "      <th>pub_rec_bankruptcies</th>\n",
       "      <th>address</th>\n",
       "      <th>loan_repaid</th>\n",
       "    </tr>\n",
       "  </thead>\n",
       "  <tbody>\n",
       "    <tr>\n",
       "      <td>0</td>\n",
       "      <td>10000.0</td>\n",
       "      <td>36 months</td>\n",
       "      <td>11.44</td>\n",
       "      <td>329.48</td>\n",
       "      <td>B</td>\n",
       "      <td>B4</td>\n",
       "      <td>RENT</td>\n",
       "      <td>117000.0</td>\n",
       "      <td>Not Verified</td>\n",
       "      <td>Jan-2015</td>\n",
       "      <td>...</td>\n",
       "      <td>0.0</td>\n",
       "      <td>36369.0</td>\n",
       "      <td>41.8</td>\n",
       "      <td>25.0</td>\n",
       "      <td>w</td>\n",
       "      <td>INDIVIDUAL</td>\n",
       "      <td>0.0</td>\n",
       "      <td>0.0</td>\n",
       "      <td>0174 Michelle Gateway\\nMendozaberg, OK 22690</td>\n",
       "      <td>1</td>\n",
       "    </tr>\n",
       "    <tr>\n",
       "      <td>1</td>\n",
       "      <td>8000.0</td>\n",
       "      <td>36 months</td>\n",
       "      <td>11.99</td>\n",
       "      <td>265.68</td>\n",
       "      <td>B</td>\n",
       "      <td>B5</td>\n",
       "      <td>MORTGAGE</td>\n",
       "      <td>65000.0</td>\n",
       "      <td>Not Verified</td>\n",
       "      <td>Jan-2015</td>\n",
       "      <td>...</td>\n",
       "      <td>0.0</td>\n",
       "      <td>20131.0</td>\n",
       "      <td>53.3</td>\n",
       "      <td>27.0</td>\n",
       "      <td>f</td>\n",
       "      <td>INDIVIDUAL</td>\n",
       "      <td>3.0</td>\n",
       "      <td>0.0</td>\n",
       "      <td>1076 Carney Fort Apt. 347\\nLoganmouth, SD 05113</td>\n",
       "      <td>1</td>\n",
       "    </tr>\n",
       "    <tr>\n",
       "      <td>2</td>\n",
       "      <td>15600.0</td>\n",
       "      <td>36 months</td>\n",
       "      <td>10.49</td>\n",
       "      <td>506.97</td>\n",
       "      <td>B</td>\n",
       "      <td>B3</td>\n",
       "      <td>RENT</td>\n",
       "      <td>43057.0</td>\n",
       "      <td>Source Verified</td>\n",
       "      <td>Jan-2015</td>\n",
       "      <td>...</td>\n",
       "      <td>0.0</td>\n",
       "      <td>11987.0</td>\n",
       "      <td>92.2</td>\n",
       "      <td>26.0</td>\n",
       "      <td>f</td>\n",
       "      <td>INDIVIDUAL</td>\n",
       "      <td>0.0</td>\n",
       "      <td>0.0</td>\n",
       "      <td>87025 Mark Dale Apt. 269\\nNew Sabrina, WV 05113</td>\n",
       "      <td>1</td>\n",
       "    </tr>\n",
       "    <tr>\n",
       "      <td>3</td>\n",
       "      <td>7200.0</td>\n",
       "      <td>36 months</td>\n",
       "      <td>6.49</td>\n",
       "      <td>220.65</td>\n",
       "      <td>A</td>\n",
       "      <td>A2</td>\n",
       "      <td>RENT</td>\n",
       "      <td>54000.0</td>\n",
       "      <td>Not Verified</td>\n",
       "      <td>Nov-2014</td>\n",
       "      <td>...</td>\n",
       "      <td>0.0</td>\n",
       "      <td>5472.0</td>\n",
       "      <td>21.5</td>\n",
       "      <td>13.0</td>\n",
       "      <td>f</td>\n",
       "      <td>INDIVIDUAL</td>\n",
       "      <td>0.0</td>\n",
       "      <td>0.0</td>\n",
       "      <td>823 Reid Ford\\nDelacruzside, MA 00813</td>\n",
       "      <td>1</td>\n",
       "    </tr>\n",
       "    <tr>\n",
       "      <td>4</td>\n",
       "      <td>24375.0</td>\n",
       "      <td>60 months</td>\n",
       "      <td>17.27</td>\n",
       "      <td>609.33</td>\n",
       "      <td>C</td>\n",
       "      <td>C5</td>\n",
       "      <td>MORTGAGE</td>\n",
       "      <td>55000.0</td>\n",
       "      <td>Verified</td>\n",
       "      <td>Apr-2013</td>\n",
       "      <td>...</td>\n",
       "      <td>0.0</td>\n",
       "      <td>24584.0</td>\n",
       "      <td>69.8</td>\n",
       "      <td>43.0</td>\n",
       "      <td>f</td>\n",
       "      <td>INDIVIDUAL</td>\n",
       "      <td>1.0</td>\n",
       "      <td>0.0</td>\n",
       "      <td>679 Luna Roads\\nGreggshire, VA 11650</td>\n",
       "      <td>0</td>\n",
       "    </tr>\n",
       "  </tbody>\n",
       "</table>\n",
       "<p>5 rows × 25 columns</p>\n",
       "</div>"
      ],
      "text/plain": [
       "   loan_amnt        term  int_rate  installment grade sub_grade  \\\n",
       "0    10000.0   36 months     11.44       329.48     B        B4   \n",
       "1     8000.0   36 months     11.99       265.68     B        B5   \n",
       "2    15600.0   36 months     10.49       506.97     B        B3   \n",
       "3     7200.0   36 months      6.49       220.65     A        A2   \n",
       "4    24375.0   60 months     17.27       609.33     C        C5   \n",
       "\n",
       "  home_ownership  annual_inc verification_status   issue_d  ... pub_rec  \\\n",
       "0           RENT    117000.0        Not Verified  Jan-2015  ...     0.0   \n",
       "1       MORTGAGE     65000.0        Not Verified  Jan-2015  ...     0.0   \n",
       "2           RENT     43057.0     Source Verified  Jan-2015  ...     0.0   \n",
       "3           RENT     54000.0        Not Verified  Nov-2014  ...     0.0   \n",
       "4       MORTGAGE     55000.0            Verified  Apr-2013  ...     0.0   \n",
       "\n",
       "  revol_bal  revol_util total_acc  initial_list_status  application_type  \\\n",
       "0   36369.0        41.8      25.0                    w        INDIVIDUAL   \n",
       "1   20131.0        53.3      27.0                    f        INDIVIDUAL   \n",
       "2   11987.0        92.2      26.0                    f        INDIVIDUAL   \n",
       "3    5472.0        21.5      13.0                    f        INDIVIDUAL   \n",
       "4   24584.0        69.8      43.0                    f        INDIVIDUAL   \n",
       "\n",
       "   mort_acc  pub_rec_bankruptcies  \\\n",
       "0       0.0                   0.0   \n",
       "1       3.0                   0.0   \n",
       "2       0.0                   0.0   \n",
       "3       0.0                   0.0   \n",
       "4       1.0                   0.0   \n",
       "\n",
       "                                           address loan_repaid  \n",
       "0     0174 Michelle Gateway\\nMendozaberg, OK 22690           1  \n",
       "1  1076 Carney Fort Apt. 347\\nLoganmouth, SD 05113           1  \n",
       "2  87025 Mark Dale Apt. 269\\nNew Sabrina, WV 05113           1  \n",
       "3            823 Reid Ford\\nDelacruzside, MA 00813           1  \n",
       "4             679 Luna Roads\\nGreggshire, VA 11650           0  \n",
       "\n",
       "[5 rows x 25 columns]"
      ]
     },
     "execution_count": 540,
     "metadata": {},
     "output_type": "execute_result"
    }
   ],
   "source": [
    "df.head()"
   ]
  },
  {
   "cell_type": "markdown",
   "metadata": {},
   "source": [
    "# Work with Categorical data and manage these features also"
   ]
  },
  {
   "cell_type": "code",
   "execution_count": 541,
   "metadata": {},
   "outputs": [
    {
     "data": {
      "text/html": [
       "<div>\n",
       "<style scoped>\n",
       "    .dataframe tbody tr th:only-of-type {\n",
       "        vertical-align: middle;\n",
       "    }\n",
       "\n",
       "    .dataframe tbody tr th {\n",
       "        vertical-align: top;\n",
       "    }\n",
       "\n",
       "    .dataframe thead th {\n",
       "        text-align: right;\n",
       "    }\n",
       "</style>\n",
       "<table border=\"1\" class=\"dataframe\">\n",
       "  <thead>\n",
       "    <tr style=\"text-align: right;\">\n",
       "      <th></th>\n",
       "      <th>term</th>\n",
       "      <th>grade</th>\n",
       "      <th>sub_grade</th>\n",
       "      <th>home_ownership</th>\n",
       "      <th>verification_status</th>\n",
       "      <th>issue_d</th>\n",
       "      <th>loan_status</th>\n",
       "      <th>purpose</th>\n",
       "      <th>earliest_cr_line</th>\n",
       "      <th>initial_list_status</th>\n",
       "      <th>application_type</th>\n",
       "      <th>address</th>\n",
       "    </tr>\n",
       "  </thead>\n",
       "  <tbody>\n",
       "    <tr>\n",
       "      <td>0</td>\n",
       "      <td>36 months</td>\n",
       "      <td>B</td>\n",
       "      <td>B4</td>\n",
       "      <td>RENT</td>\n",
       "      <td>Not Verified</td>\n",
       "      <td>Jan-2015</td>\n",
       "      <td>Fully Paid</td>\n",
       "      <td>vacation</td>\n",
       "      <td>Jun-1990</td>\n",
       "      <td>w</td>\n",
       "      <td>INDIVIDUAL</td>\n",
       "      <td>0174 Michelle Gateway\\nMendozaberg, OK 22690</td>\n",
       "    </tr>\n",
       "    <tr>\n",
       "      <td>1</td>\n",
       "      <td>36 months</td>\n",
       "      <td>B</td>\n",
       "      <td>B5</td>\n",
       "      <td>MORTGAGE</td>\n",
       "      <td>Not Verified</td>\n",
       "      <td>Jan-2015</td>\n",
       "      <td>Fully Paid</td>\n",
       "      <td>debt_consolidation</td>\n",
       "      <td>Jul-2004</td>\n",
       "      <td>f</td>\n",
       "      <td>INDIVIDUAL</td>\n",
       "      <td>1076 Carney Fort Apt. 347\\nLoganmouth, SD 05113</td>\n",
       "    </tr>\n",
       "    <tr>\n",
       "      <td>2</td>\n",
       "      <td>36 months</td>\n",
       "      <td>B</td>\n",
       "      <td>B3</td>\n",
       "      <td>RENT</td>\n",
       "      <td>Source Verified</td>\n",
       "      <td>Jan-2015</td>\n",
       "      <td>Fully Paid</td>\n",
       "      <td>credit_card</td>\n",
       "      <td>Aug-2007</td>\n",
       "      <td>f</td>\n",
       "      <td>INDIVIDUAL</td>\n",
       "      <td>87025 Mark Dale Apt. 269\\nNew Sabrina, WV 05113</td>\n",
       "    </tr>\n",
       "    <tr>\n",
       "      <td>3</td>\n",
       "      <td>36 months</td>\n",
       "      <td>A</td>\n",
       "      <td>A2</td>\n",
       "      <td>RENT</td>\n",
       "      <td>Not Verified</td>\n",
       "      <td>Nov-2014</td>\n",
       "      <td>Fully Paid</td>\n",
       "      <td>credit_card</td>\n",
       "      <td>Sep-2006</td>\n",
       "      <td>f</td>\n",
       "      <td>INDIVIDUAL</td>\n",
       "      <td>823 Reid Ford\\nDelacruzside, MA 00813</td>\n",
       "    </tr>\n",
       "    <tr>\n",
       "      <td>4</td>\n",
       "      <td>60 months</td>\n",
       "      <td>C</td>\n",
       "      <td>C5</td>\n",
       "      <td>MORTGAGE</td>\n",
       "      <td>Verified</td>\n",
       "      <td>Apr-2013</td>\n",
       "      <td>Charged Off</td>\n",
       "      <td>credit_card</td>\n",
       "      <td>Mar-1999</td>\n",
       "      <td>f</td>\n",
       "      <td>INDIVIDUAL</td>\n",
       "      <td>679 Luna Roads\\nGreggshire, VA 11650</td>\n",
       "    </tr>\n",
       "  </tbody>\n",
       "</table>\n",
       "</div>"
      ],
      "text/plain": [
       "         term grade sub_grade home_ownership verification_status   issue_d  \\\n",
       "0   36 months     B        B4           RENT        Not Verified  Jan-2015   \n",
       "1   36 months     B        B5       MORTGAGE        Not Verified  Jan-2015   \n",
       "2   36 months     B        B3           RENT     Source Verified  Jan-2015   \n",
       "3   36 months     A        A2           RENT        Not Verified  Nov-2014   \n",
       "4   60 months     C        C5       MORTGAGE            Verified  Apr-2013   \n",
       "\n",
       "   loan_status             purpose earliest_cr_line initial_list_status  \\\n",
       "0   Fully Paid            vacation         Jun-1990                   w   \n",
       "1   Fully Paid  debt_consolidation         Jul-2004                   f   \n",
       "2   Fully Paid         credit_card         Aug-2007                   f   \n",
       "3   Fully Paid         credit_card         Sep-2006                   f   \n",
       "4  Charged Off         credit_card         Mar-1999                   f   \n",
       "\n",
       "  application_type                                          address  \n",
       "0       INDIVIDUAL     0174 Michelle Gateway\\nMendozaberg, OK 22690  \n",
       "1       INDIVIDUAL  1076 Carney Fort Apt. 347\\nLoganmouth, SD 05113  \n",
       "2       INDIVIDUAL  87025 Mark Dale Apt. 269\\nNew Sabrina, WV 05113  \n",
       "3       INDIVIDUAL            823 Reid Ford\\nDelacruzside, MA 00813  \n",
       "4       INDIVIDUAL             679 Luna Roads\\nGreggshire, VA 11650  "
      ]
     },
     "execution_count": 541,
     "metadata": {},
     "output_type": "execute_result"
    }
   ],
   "source": [
    "# in this we can split the numeric and non numeric columns\n",
    "df.select_dtypes(include='object').head(5)"
   ]
  },
  {
   "cell_type": "code",
   "execution_count": 542,
   "metadata": {},
   "outputs": [
    {
     "data": {
      "text/plain": [
       "Index(['term', 'grade', 'sub_grade', 'home_ownership', 'verification_status',\n",
       "       'issue_d', 'loan_status', 'purpose', 'earliest_cr_line',\n",
       "       'initial_list_status', 'application_type', 'address'],\n",
       "      dtype='object')"
      ]
     },
     "execution_count": 542,
     "metadata": {},
     "output_type": "execute_result"
    }
   ],
   "source": [
    "df.select_dtypes(include='object').columns"
   ]
  },
  {
   "cell_type": "code",
   "execution_count": 543,
   "metadata": {},
   "outputs": [],
   "source": [
    "# now we are going to check each and every categrocial features"
   ]
  },
  {
   "cell_type": "code",
   "execution_count": 544,
   "metadata": {},
   "outputs": [
    {
     "data": {
      "text/plain": [
       "array([' 36 months', ' 60 months'], dtype=object)"
      ]
     },
     "execution_count": 544,
     "metadata": {},
     "output_type": "execute_result"
    }
   ],
   "source": [
    "# 1. feature term\n",
    "df['term'].unique()"
   ]
  },
  {
   "cell_type": "code",
   "execution_count": 545,
   "metadata": {},
   "outputs": [],
   "source": [
    "df['term'] = pd.get_dummies(df['term'],drop_first=True)"
   ]
  },
  {
   "cell_type": "code",
   "execution_count": 546,
   "metadata": {},
   "outputs": [
    {
     "data": {
      "text/plain": [
       "0    301247\n",
       "1     93972\n",
       "Name: term, dtype: int64"
      ]
     },
     "execution_count": 546,
     "metadata": {},
     "output_type": "execute_result"
    }
   ],
   "source": [
    "df['term'].value_counts()"
   ]
  },
  {
   "cell_type": "code",
   "execution_count": 547,
   "metadata": {},
   "outputs": [
    {
     "data": {
      "text/html": [
       "<div>\n",
       "<style scoped>\n",
       "    .dataframe tbody tr th:only-of-type {\n",
       "        vertical-align: middle;\n",
       "    }\n",
       "\n",
       "    .dataframe tbody tr th {\n",
       "        vertical-align: top;\n",
       "    }\n",
       "\n",
       "    .dataframe thead th {\n",
       "        text-align: right;\n",
       "    }\n",
       "</style>\n",
       "<table border=\"1\" class=\"dataframe\">\n",
       "  <thead>\n",
       "    <tr style=\"text-align: right;\">\n",
       "      <th></th>\n",
       "      <th>loan_amnt</th>\n",
       "      <th>term</th>\n",
       "      <th>int_rate</th>\n",
       "      <th>installment</th>\n",
       "      <th>grade</th>\n",
       "      <th>sub_grade</th>\n",
       "      <th>home_ownership</th>\n",
       "      <th>annual_inc</th>\n",
       "      <th>verification_status</th>\n",
       "      <th>issue_d</th>\n",
       "      <th>...</th>\n",
       "      <th>pub_rec</th>\n",
       "      <th>revol_bal</th>\n",
       "      <th>revol_util</th>\n",
       "      <th>total_acc</th>\n",
       "      <th>initial_list_status</th>\n",
       "      <th>application_type</th>\n",
       "      <th>mort_acc</th>\n",
       "      <th>pub_rec_bankruptcies</th>\n",
       "      <th>address</th>\n",
       "      <th>loan_repaid</th>\n",
       "    </tr>\n",
       "  </thead>\n",
       "  <tbody>\n",
       "    <tr>\n",
       "      <td>0</td>\n",
       "      <td>10000.0</td>\n",
       "      <td>0</td>\n",
       "      <td>11.44</td>\n",
       "      <td>329.48</td>\n",
       "      <td>B</td>\n",
       "      <td>B4</td>\n",
       "      <td>RENT</td>\n",
       "      <td>117000.0</td>\n",
       "      <td>Not Verified</td>\n",
       "      <td>Jan-2015</td>\n",
       "      <td>...</td>\n",
       "      <td>0.0</td>\n",
       "      <td>36369.0</td>\n",
       "      <td>41.8</td>\n",
       "      <td>25.0</td>\n",
       "      <td>w</td>\n",
       "      <td>INDIVIDUAL</td>\n",
       "      <td>0.0</td>\n",
       "      <td>0.0</td>\n",
       "      <td>0174 Michelle Gateway\\nMendozaberg, OK 22690</td>\n",
       "      <td>1</td>\n",
       "    </tr>\n",
       "    <tr>\n",
       "      <td>1</td>\n",
       "      <td>8000.0</td>\n",
       "      <td>0</td>\n",
       "      <td>11.99</td>\n",
       "      <td>265.68</td>\n",
       "      <td>B</td>\n",
       "      <td>B5</td>\n",
       "      <td>MORTGAGE</td>\n",
       "      <td>65000.0</td>\n",
       "      <td>Not Verified</td>\n",
       "      <td>Jan-2015</td>\n",
       "      <td>...</td>\n",
       "      <td>0.0</td>\n",
       "      <td>20131.0</td>\n",
       "      <td>53.3</td>\n",
       "      <td>27.0</td>\n",
       "      <td>f</td>\n",
       "      <td>INDIVIDUAL</td>\n",
       "      <td>3.0</td>\n",
       "      <td>0.0</td>\n",
       "      <td>1076 Carney Fort Apt. 347\\nLoganmouth, SD 05113</td>\n",
       "      <td>1</td>\n",
       "    </tr>\n",
       "    <tr>\n",
       "      <td>2</td>\n",
       "      <td>15600.0</td>\n",
       "      <td>0</td>\n",
       "      <td>10.49</td>\n",
       "      <td>506.97</td>\n",
       "      <td>B</td>\n",
       "      <td>B3</td>\n",
       "      <td>RENT</td>\n",
       "      <td>43057.0</td>\n",
       "      <td>Source Verified</td>\n",
       "      <td>Jan-2015</td>\n",
       "      <td>...</td>\n",
       "      <td>0.0</td>\n",
       "      <td>11987.0</td>\n",
       "      <td>92.2</td>\n",
       "      <td>26.0</td>\n",
       "      <td>f</td>\n",
       "      <td>INDIVIDUAL</td>\n",
       "      <td>0.0</td>\n",
       "      <td>0.0</td>\n",
       "      <td>87025 Mark Dale Apt. 269\\nNew Sabrina, WV 05113</td>\n",
       "      <td>1</td>\n",
       "    </tr>\n",
       "    <tr>\n",
       "      <td>3</td>\n",
       "      <td>7200.0</td>\n",
       "      <td>0</td>\n",
       "      <td>6.49</td>\n",
       "      <td>220.65</td>\n",
       "      <td>A</td>\n",
       "      <td>A2</td>\n",
       "      <td>RENT</td>\n",
       "      <td>54000.0</td>\n",
       "      <td>Not Verified</td>\n",
       "      <td>Nov-2014</td>\n",
       "      <td>...</td>\n",
       "      <td>0.0</td>\n",
       "      <td>5472.0</td>\n",
       "      <td>21.5</td>\n",
       "      <td>13.0</td>\n",
       "      <td>f</td>\n",
       "      <td>INDIVIDUAL</td>\n",
       "      <td>0.0</td>\n",
       "      <td>0.0</td>\n",
       "      <td>823 Reid Ford\\nDelacruzside, MA 00813</td>\n",
       "      <td>1</td>\n",
       "    </tr>\n",
       "    <tr>\n",
       "      <td>4</td>\n",
       "      <td>24375.0</td>\n",
       "      <td>1</td>\n",
       "      <td>17.27</td>\n",
       "      <td>609.33</td>\n",
       "      <td>C</td>\n",
       "      <td>C5</td>\n",
       "      <td>MORTGAGE</td>\n",
       "      <td>55000.0</td>\n",
       "      <td>Verified</td>\n",
       "      <td>Apr-2013</td>\n",
       "      <td>...</td>\n",
       "      <td>0.0</td>\n",
       "      <td>24584.0</td>\n",
       "      <td>69.8</td>\n",
       "      <td>43.0</td>\n",
       "      <td>f</td>\n",
       "      <td>INDIVIDUAL</td>\n",
       "      <td>1.0</td>\n",
       "      <td>0.0</td>\n",
       "      <td>679 Luna Roads\\nGreggshire, VA 11650</td>\n",
       "      <td>0</td>\n",
       "    </tr>\n",
       "  </tbody>\n",
       "</table>\n",
       "<p>5 rows × 25 columns</p>\n",
       "</div>"
      ],
      "text/plain": [
       "   loan_amnt  term  int_rate  installment grade sub_grade home_ownership  \\\n",
       "0    10000.0     0     11.44       329.48     B        B4           RENT   \n",
       "1     8000.0     0     11.99       265.68     B        B5       MORTGAGE   \n",
       "2    15600.0     0     10.49       506.97     B        B3           RENT   \n",
       "3     7200.0     0      6.49       220.65     A        A2           RENT   \n",
       "4    24375.0     1     17.27       609.33     C        C5       MORTGAGE   \n",
       "\n",
       "   annual_inc verification_status   issue_d  ... pub_rec revol_bal  \\\n",
       "0    117000.0        Not Verified  Jan-2015  ...     0.0   36369.0   \n",
       "1     65000.0        Not Verified  Jan-2015  ...     0.0   20131.0   \n",
       "2     43057.0     Source Verified  Jan-2015  ...     0.0   11987.0   \n",
       "3     54000.0        Not Verified  Nov-2014  ...     0.0    5472.0   \n",
       "4     55000.0            Verified  Apr-2013  ...     0.0   24584.0   \n",
       "\n",
       "   revol_util total_acc  initial_list_status  application_type  mort_acc  \\\n",
       "0        41.8      25.0                    w        INDIVIDUAL       0.0   \n",
       "1        53.3      27.0                    f        INDIVIDUAL       3.0   \n",
       "2        92.2      26.0                    f        INDIVIDUAL       0.0   \n",
       "3        21.5      13.0                    f        INDIVIDUAL       0.0   \n",
       "4        69.8      43.0                    f        INDIVIDUAL       1.0   \n",
       "\n",
       "   pub_rec_bankruptcies                                          address  \\\n",
       "0                   0.0     0174 Michelle Gateway\\nMendozaberg, OK 22690   \n",
       "1                   0.0  1076 Carney Fort Apt. 347\\nLoganmouth, SD 05113   \n",
       "2                   0.0  87025 Mark Dale Apt. 269\\nNew Sabrina, WV 05113   \n",
       "3                   0.0            823 Reid Ford\\nDelacruzside, MA 00813   \n",
       "4                   0.0             679 Luna Roads\\nGreggshire, VA 11650   \n",
       "\n",
       "  loan_repaid  \n",
       "0           1  \n",
       "1           1  \n",
       "2           1  \n",
       "3           1  \n",
       "4           0  \n",
       "\n",
       "[5 rows x 25 columns]"
      ]
     },
     "execution_count": 547,
     "metadata": {},
     "output_type": "execute_result"
    }
   ],
   "source": [
    "df.head()"
   ]
  },
  {
   "cell_type": "code",
   "execution_count": 548,
   "metadata": {},
   "outputs": [],
   "source": [
    "# 2. feature drop grade\n",
    "\n",
    "df = df.drop('grade',axis=1)"
   ]
  },
  {
   "cell_type": "code",
   "execution_count": 549,
   "metadata": {},
   "outputs": [
    {
     "data": {
      "text/html": [
       "<div>\n",
       "<style scoped>\n",
       "    .dataframe tbody tr th:only-of-type {\n",
       "        vertical-align: middle;\n",
       "    }\n",
       "\n",
       "    .dataframe tbody tr th {\n",
       "        vertical-align: top;\n",
       "    }\n",
       "\n",
       "    .dataframe thead th {\n",
       "        text-align: right;\n",
       "    }\n",
       "</style>\n",
       "<table border=\"1\" class=\"dataframe\">\n",
       "  <thead>\n",
       "    <tr style=\"text-align: right;\">\n",
       "      <th></th>\n",
       "      <th>loan_amnt</th>\n",
       "      <th>term</th>\n",
       "      <th>int_rate</th>\n",
       "      <th>installment</th>\n",
       "      <th>sub_grade</th>\n",
       "      <th>home_ownership</th>\n",
       "      <th>annual_inc</th>\n",
       "      <th>verification_status</th>\n",
       "      <th>issue_d</th>\n",
       "      <th>loan_status</th>\n",
       "      <th>...</th>\n",
       "      <th>pub_rec</th>\n",
       "      <th>revol_bal</th>\n",
       "      <th>revol_util</th>\n",
       "      <th>total_acc</th>\n",
       "      <th>initial_list_status</th>\n",
       "      <th>application_type</th>\n",
       "      <th>mort_acc</th>\n",
       "      <th>pub_rec_bankruptcies</th>\n",
       "      <th>address</th>\n",
       "      <th>loan_repaid</th>\n",
       "    </tr>\n",
       "  </thead>\n",
       "  <tbody>\n",
       "    <tr>\n",
       "      <td>0</td>\n",
       "      <td>10000.0</td>\n",
       "      <td>0</td>\n",
       "      <td>11.44</td>\n",
       "      <td>329.48</td>\n",
       "      <td>B4</td>\n",
       "      <td>RENT</td>\n",
       "      <td>117000.0</td>\n",
       "      <td>Not Verified</td>\n",
       "      <td>Jan-2015</td>\n",
       "      <td>Fully Paid</td>\n",
       "      <td>...</td>\n",
       "      <td>0.0</td>\n",
       "      <td>36369.0</td>\n",
       "      <td>41.8</td>\n",
       "      <td>25.0</td>\n",
       "      <td>w</td>\n",
       "      <td>INDIVIDUAL</td>\n",
       "      <td>0.0</td>\n",
       "      <td>0.0</td>\n",
       "      <td>0174 Michelle Gateway\\nMendozaberg, OK 22690</td>\n",
       "      <td>1</td>\n",
       "    </tr>\n",
       "    <tr>\n",
       "      <td>1</td>\n",
       "      <td>8000.0</td>\n",
       "      <td>0</td>\n",
       "      <td>11.99</td>\n",
       "      <td>265.68</td>\n",
       "      <td>B5</td>\n",
       "      <td>MORTGAGE</td>\n",
       "      <td>65000.0</td>\n",
       "      <td>Not Verified</td>\n",
       "      <td>Jan-2015</td>\n",
       "      <td>Fully Paid</td>\n",
       "      <td>...</td>\n",
       "      <td>0.0</td>\n",
       "      <td>20131.0</td>\n",
       "      <td>53.3</td>\n",
       "      <td>27.0</td>\n",
       "      <td>f</td>\n",
       "      <td>INDIVIDUAL</td>\n",
       "      <td>3.0</td>\n",
       "      <td>0.0</td>\n",
       "      <td>1076 Carney Fort Apt. 347\\nLoganmouth, SD 05113</td>\n",
       "      <td>1</td>\n",
       "    </tr>\n",
       "    <tr>\n",
       "      <td>2</td>\n",
       "      <td>15600.0</td>\n",
       "      <td>0</td>\n",
       "      <td>10.49</td>\n",
       "      <td>506.97</td>\n",
       "      <td>B3</td>\n",
       "      <td>RENT</td>\n",
       "      <td>43057.0</td>\n",
       "      <td>Source Verified</td>\n",
       "      <td>Jan-2015</td>\n",
       "      <td>Fully Paid</td>\n",
       "      <td>...</td>\n",
       "      <td>0.0</td>\n",
       "      <td>11987.0</td>\n",
       "      <td>92.2</td>\n",
       "      <td>26.0</td>\n",
       "      <td>f</td>\n",
       "      <td>INDIVIDUAL</td>\n",
       "      <td>0.0</td>\n",
       "      <td>0.0</td>\n",
       "      <td>87025 Mark Dale Apt. 269\\nNew Sabrina, WV 05113</td>\n",
       "      <td>1</td>\n",
       "    </tr>\n",
       "    <tr>\n",
       "      <td>3</td>\n",
       "      <td>7200.0</td>\n",
       "      <td>0</td>\n",
       "      <td>6.49</td>\n",
       "      <td>220.65</td>\n",
       "      <td>A2</td>\n",
       "      <td>RENT</td>\n",
       "      <td>54000.0</td>\n",
       "      <td>Not Verified</td>\n",
       "      <td>Nov-2014</td>\n",
       "      <td>Fully Paid</td>\n",
       "      <td>...</td>\n",
       "      <td>0.0</td>\n",
       "      <td>5472.0</td>\n",
       "      <td>21.5</td>\n",
       "      <td>13.0</td>\n",
       "      <td>f</td>\n",
       "      <td>INDIVIDUAL</td>\n",
       "      <td>0.0</td>\n",
       "      <td>0.0</td>\n",
       "      <td>823 Reid Ford\\nDelacruzside, MA 00813</td>\n",
       "      <td>1</td>\n",
       "    </tr>\n",
       "    <tr>\n",
       "      <td>4</td>\n",
       "      <td>24375.0</td>\n",
       "      <td>1</td>\n",
       "      <td>17.27</td>\n",
       "      <td>609.33</td>\n",
       "      <td>C5</td>\n",
       "      <td>MORTGAGE</td>\n",
       "      <td>55000.0</td>\n",
       "      <td>Verified</td>\n",
       "      <td>Apr-2013</td>\n",
       "      <td>Charged Off</td>\n",
       "      <td>...</td>\n",
       "      <td>0.0</td>\n",
       "      <td>24584.0</td>\n",
       "      <td>69.8</td>\n",
       "      <td>43.0</td>\n",
       "      <td>f</td>\n",
       "      <td>INDIVIDUAL</td>\n",
       "      <td>1.0</td>\n",
       "      <td>0.0</td>\n",
       "      <td>679 Luna Roads\\nGreggshire, VA 11650</td>\n",
       "      <td>0</td>\n",
       "    </tr>\n",
       "  </tbody>\n",
       "</table>\n",
       "<p>5 rows × 24 columns</p>\n",
       "</div>"
      ],
      "text/plain": [
       "   loan_amnt  term  int_rate  installment sub_grade home_ownership  \\\n",
       "0    10000.0     0     11.44       329.48        B4           RENT   \n",
       "1     8000.0     0     11.99       265.68        B5       MORTGAGE   \n",
       "2    15600.0     0     10.49       506.97        B3           RENT   \n",
       "3     7200.0     0      6.49       220.65        A2           RENT   \n",
       "4    24375.0     1     17.27       609.33        C5       MORTGAGE   \n",
       "\n",
       "   annual_inc verification_status   issue_d  loan_status  ... pub_rec  \\\n",
       "0    117000.0        Not Verified  Jan-2015   Fully Paid  ...     0.0   \n",
       "1     65000.0        Not Verified  Jan-2015   Fully Paid  ...     0.0   \n",
       "2     43057.0     Source Verified  Jan-2015   Fully Paid  ...     0.0   \n",
       "3     54000.0        Not Verified  Nov-2014   Fully Paid  ...     0.0   \n",
       "4     55000.0            Verified  Apr-2013  Charged Off  ...     0.0   \n",
       "\n",
       "   revol_bal revol_util  total_acc  initial_list_status  application_type  \\\n",
       "0    36369.0       41.8       25.0                    w        INDIVIDUAL   \n",
       "1    20131.0       53.3       27.0                    f        INDIVIDUAL   \n",
       "2    11987.0       92.2       26.0                    f        INDIVIDUAL   \n",
       "3     5472.0       21.5       13.0                    f        INDIVIDUAL   \n",
       "4    24584.0       69.8       43.0                    f        INDIVIDUAL   \n",
       "\n",
       "   mort_acc  pub_rec_bankruptcies  \\\n",
       "0       0.0                   0.0   \n",
       "1       3.0                   0.0   \n",
       "2       0.0                   0.0   \n",
       "3       0.0                   0.0   \n",
       "4       1.0                   0.0   \n",
       "\n",
       "                                           address loan_repaid  \n",
       "0     0174 Michelle Gateway\\nMendozaberg, OK 22690           1  \n",
       "1  1076 Carney Fort Apt. 347\\nLoganmouth, SD 05113           1  \n",
       "2  87025 Mark Dale Apt. 269\\nNew Sabrina, WV 05113           1  \n",
       "3            823 Reid Ford\\nDelacruzside, MA 00813           1  \n",
       "4             679 Luna Roads\\nGreggshire, VA 11650           0  \n",
       "\n",
       "[5 rows x 24 columns]"
      ]
     },
     "execution_count": 549,
     "metadata": {},
     "output_type": "execute_result"
    }
   ],
   "source": [
    "df.head()"
   ]
  },
  {
   "cell_type": "code",
   "execution_count": 550,
   "metadata": {},
   "outputs": [],
   "source": [
    "# 3. feature sub_grade\n",
    "# create dummy variables\n",
    "\n",
    "subgrade_dummies = pd.get_dummies(df['sub_grade'],drop_first=True)"
   ]
  },
  {
   "cell_type": "code",
   "execution_count": 551,
   "metadata": {},
   "outputs": [],
   "source": [
    "# add the new column to the original dataframe\n",
    "\n",
    "df = pd.concat([df.drop('sub_grade',axis=1),subgrade_dummies],axis=1)"
   ]
  },
  {
   "cell_type": "code",
   "execution_count": 552,
   "metadata": {},
   "outputs": [
    {
     "data": {
      "text/plain": [
       "57"
      ]
     },
     "execution_count": 552,
     "metadata": {},
     "output_type": "execute_result"
    }
   ],
   "source": [
    "len(df.columns)"
   ]
  },
  {
   "cell_type": "code",
   "execution_count": 553,
   "metadata": {},
   "outputs": [
    {
     "data": {
      "text/plain": [
       "Index(['loan_amnt', 'term', 'int_rate', 'installment', 'home_ownership',\n",
       "       'annual_inc', 'verification_status', 'issue_d', 'loan_status',\n",
       "       'purpose', 'dti', 'earliest_cr_line', 'open_acc', 'pub_rec',\n",
       "       'revol_bal', 'revol_util', 'total_acc', 'initial_list_status',\n",
       "       'application_type', 'mort_acc', 'pub_rec_bankruptcies', 'address',\n",
       "       'loan_repaid', 'A2', 'A3', 'A4', 'A5', 'B1', 'B2', 'B3', 'B4', 'B5',\n",
       "       'C1', 'C2', 'C3', 'C4', 'C5', 'D1', 'D2', 'D3', 'D4', 'D5', 'E1', 'E2',\n",
       "       'E3', 'E4', 'E5', 'F1', 'F2', 'F3', 'F4', 'F5', 'G1', 'G2', 'G3', 'G4',\n",
       "       'G5'],\n",
       "      dtype='object')"
      ]
     },
     "execution_count": 553,
     "metadata": {},
     "output_type": "execute_result"
    }
   ],
   "source": [
    "df.columns"
   ]
  },
  {
   "cell_type": "code",
   "execution_count": 554,
   "metadata": {},
   "outputs": [
    {
     "data": {
      "text/plain": [
       "Index(['home_ownership', 'verification_status', 'issue_d', 'loan_status',\n",
       "       'purpose', 'earliest_cr_line', 'initial_list_status',\n",
       "       'application_type', 'address'],\n",
       "      dtype='object')"
      ]
     },
     "execution_count": 554,
     "metadata": {},
     "output_type": "execute_result"
    }
   ],
   "source": [
    "df.select_dtypes(['object']).columns"
   ]
  },
  {
   "cell_type": "code",
   "execution_count": 555,
   "metadata": {},
   "outputs": [],
   "source": [
    "# 4.feature verification_status, application_type,initial_list_status,purpose \n",
    "dummies = pd.get_dummies(df[['verification_status', 'application_type','initial_list_status','purpose' ]],drop_first=True)\n",
    "df = df.drop(['verification_status', 'application_type','initial_list_status','purpose'],axis=1)\n",
    "df = pd.concat([df,dummies],axis=1)"
   ]
  },
  {
   "cell_type": "code",
   "execution_count": 556,
   "metadata": {},
   "outputs": [
    {
     "data": {
      "text/html": [
       "<div>\n",
       "<style scoped>\n",
       "    .dataframe tbody tr th:only-of-type {\n",
       "        vertical-align: middle;\n",
       "    }\n",
       "\n",
       "    .dataframe tbody tr th {\n",
       "        vertical-align: top;\n",
       "    }\n",
       "\n",
       "    .dataframe thead th {\n",
       "        text-align: right;\n",
       "    }\n",
       "</style>\n",
       "<table border=\"1\" class=\"dataframe\">\n",
       "  <thead>\n",
       "    <tr style=\"text-align: right;\">\n",
       "      <th></th>\n",
       "      <th>loan_amnt</th>\n",
       "      <th>term</th>\n",
       "      <th>int_rate</th>\n",
       "      <th>installment</th>\n",
       "      <th>home_ownership</th>\n",
       "      <th>annual_inc</th>\n",
       "      <th>issue_d</th>\n",
       "      <th>loan_status</th>\n",
       "      <th>dti</th>\n",
       "      <th>earliest_cr_line</th>\n",
       "      <th>...</th>\n",
       "      <th>purpose_home_improvement</th>\n",
       "      <th>purpose_house</th>\n",
       "      <th>purpose_major_purchase</th>\n",
       "      <th>purpose_medical</th>\n",
       "      <th>purpose_moving</th>\n",
       "      <th>purpose_other</th>\n",
       "      <th>purpose_renewable_energy</th>\n",
       "      <th>purpose_small_business</th>\n",
       "      <th>purpose_vacation</th>\n",
       "      <th>purpose_wedding</th>\n",
       "    </tr>\n",
       "  </thead>\n",
       "  <tbody>\n",
       "    <tr>\n",
       "      <td>0</td>\n",
       "      <td>10000.0</td>\n",
       "      <td>0</td>\n",
       "      <td>11.44</td>\n",
       "      <td>329.48</td>\n",
       "      <td>RENT</td>\n",
       "      <td>117000.0</td>\n",
       "      <td>Jan-2015</td>\n",
       "      <td>Fully Paid</td>\n",
       "      <td>26.24</td>\n",
       "      <td>Jun-1990</td>\n",
       "      <td>...</td>\n",
       "      <td>0</td>\n",
       "      <td>0</td>\n",
       "      <td>0</td>\n",
       "      <td>0</td>\n",
       "      <td>0</td>\n",
       "      <td>0</td>\n",
       "      <td>0</td>\n",
       "      <td>0</td>\n",
       "      <td>1</td>\n",
       "      <td>0</td>\n",
       "    </tr>\n",
       "    <tr>\n",
       "      <td>1</td>\n",
       "      <td>8000.0</td>\n",
       "      <td>0</td>\n",
       "      <td>11.99</td>\n",
       "      <td>265.68</td>\n",
       "      <td>MORTGAGE</td>\n",
       "      <td>65000.0</td>\n",
       "      <td>Jan-2015</td>\n",
       "      <td>Fully Paid</td>\n",
       "      <td>22.05</td>\n",
       "      <td>Jul-2004</td>\n",
       "      <td>...</td>\n",
       "      <td>0</td>\n",
       "      <td>0</td>\n",
       "      <td>0</td>\n",
       "      <td>0</td>\n",
       "      <td>0</td>\n",
       "      <td>0</td>\n",
       "      <td>0</td>\n",
       "      <td>0</td>\n",
       "      <td>0</td>\n",
       "      <td>0</td>\n",
       "    </tr>\n",
       "    <tr>\n",
       "      <td>2</td>\n",
       "      <td>15600.0</td>\n",
       "      <td>0</td>\n",
       "      <td>10.49</td>\n",
       "      <td>506.97</td>\n",
       "      <td>RENT</td>\n",
       "      <td>43057.0</td>\n",
       "      <td>Jan-2015</td>\n",
       "      <td>Fully Paid</td>\n",
       "      <td>12.79</td>\n",
       "      <td>Aug-2007</td>\n",
       "      <td>...</td>\n",
       "      <td>0</td>\n",
       "      <td>0</td>\n",
       "      <td>0</td>\n",
       "      <td>0</td>\n",
       "      <td>0</td>\n",
       "      <td>0</td>\n",
       "      <td>0</td>\n",
       "      <td>0</td>\n",
       "      <td>0</td>\n",
       "      <td>0</td>\n",
       "    </tr>\n",
       "    <tr>\n",
       "      <td>3</td>\n",
       "      <td>7200.0</td>\n",
       "      <td>0</td>\n",
       "      <td>6.49</td>\n",
       "      <td>220.65</td>\n",
       "      <td>RENT</td>\n",
       "      <td>54000.0</td>\n",
       "      <td>Nov-2014</td>\n",
       "      <td>Fully Paid</td>\n",
       "      <td>2.60</td>\n",
       "      <td>Sep-2006</td>\n",
       "      <td>...</td>\n",
       "      <td>0</td>\n",
       "      <td>0</td>\n",
       "      <td>0</td>\n",
       "      <td>0</td>\n",
       "      <td>0</td>\n",
       "      <td>0</td>\n",
       "      <td>0</td>\n",
       "      <td>0</td>\n",
       "      <td>0</td>\n",
       "      <td>0</td>\n",
       "    </tr>\n",
       "    <tr>\n",
       "      <td>4</td>\n",
       "      <td>24375.0</td>\n",
       "      <td>1</td>\n",
       "      <td>17.27</td>\n",
       "      <td>609.33</td>\n",
       "      <td>MORTGAGE</td>\n",
       "      <td>55000.0</td>\n",
       "      <td>Apr-2013</td>\n",
       "      <td>Charged Off</td>\n",
       "      <td>33.95</td>\n",
       "      <td>Mar-1999</td>\n",
       "      <td>...</td>\n",
       "      <td>0</td>\n",
       "      <td>0</td>\n",
       "      <td>0</td>\n",
       "      <td>0</td>\n",
       "      <td>0</td>\n",
       "      <td>0</td>\n",
       "      <td>0</td>\n",
       "      <td>0</td>\n",
       "      <td>0</td>\n",
       "      <td>0</td>\n",
       "    </tr>\n",
       "  </tbody>\n",
       "</table>\n",
       "<p>5 rows × 71 columns</p>\n",
       "</div>"
      ],
      "text/plain": [
       "   loan_amnt  term  int_rate  installment home_ownership  annual_inc  \\\n",
       "0    10000.0     0     11.44       329.48           RENT    117000.0   \n",
       "1     8000.0     0     11.99       265.68       MORTGAGE     65000.0   \n",
       "2    15600.0     0     10.49       506.97           RENT     43057.0   \n",
       "3     7200.0     0      6.49       220.65           RENT     54000.0   \n",
       "4    24375.0     1     17.27       609.33       MORTGAGE     55000.0   \n",
       "\n",
       "    issue_d  loan_status    dti earliest_cr_line  ...  \\\n",
       "0  Jan-2015   Fully Paid  26.24         Jun-1990  ...   \n",
       "1  Jan-2015   Fully Paid  22.05         Jul-2004  ...   \n",
       "2  Jan-2015   Fully Paid  12.79         Aug-2007  ...   \n",
       "3  Nov-2014   Fully Paid   2.60         Sep-2006  ...   \n",
       "4  Apr-2013  Charged Off  33.95         Mar-1999  ...   \n",
       "\n",
       "   purpose_home_improvement  purpose_house  purpose_major_purchase  \\\n",
       "0                         0              0                       0   \n",
       "1                         0              0                       0   \n",
       "2                         0              0                       0   \n",
       "3                         0              0                       0   \n",
       "4                         0              0                       0   \n",
       "\n",
       "   purpose_medical  purpose_moving  purpose_other  purpose_renewable_energy  \\\n",
       "0                0               0              0                         0   \n",
       "1                0               0              0                         0   \n",
       "2                0               0              0                         0   \n",
       "3                0               0              0                         0   \n",
       "4                0               0              0                         0   \n",
       "\n",
       "  purpose_small_business  purpose_vacation  purpose_wedding  \n",
       "0                      0                 1                0  \n",
       "1                      0                 0                0  \n",
       "2                      0                 0                0  \n",
       "3                      0                 0                0  \n",
       "4                      0                 0                0  \n",
       "\n",
       "[5 rows x 71 columns]"
      ]
     },
     "execution_count": 556,
     "metadata": {},
     "output_type": "execute_result"
    }
   ],
   "source": [
    "df.head(5)"
   ]
  },
  {
   "cell_type": "code",
   "execution_count": 557,
   "metadata": {},
   "outputs": [
    {
     "data": {
      "text/plain": [
       "MORTGAGE    198022\n",
       "RENT        159395\n",
       "OWN          37660\n",
       "OTHER          110\n",
       "NONE            29\n",
       "ANY              3\n",
       "Name: home_ownership, dtype: int64"
      ]
     },
     "execution_count": 557,
     "metadata": {},
     "output_type": "execute_result"
    }
   ],
   "source": [
    "# 5.feature home_ownership\n",
    "\n",
    "df['home_ownership'].value_counts()"
   ]
  },
  {
   "cell_type": "code",
   "execution_count": 558,
   "metadata": {},
   "outputs": [],
   "source": [
    "# in this we will create dummy variable and replace the NONE and ANY features with OTHER .\n",
    "df['home_ownership']=df['home_ownership'].replace(['NONE', 'ANY'], 'OTHER')\n",
    "\n",
    "dummies = pd.get_dummies(df['home_ownership'],drop_first=True)\n",
    "df = df.drop('home_ownership',axis=1)\n",
    "df = pd.concat([df,dummies],axis=1)"
   ]
  },
  {
   "cell_type": "code",
   "execution_count": 559,
   "metadata": {},
   "outputs": [
    {
     "data": {
      "text/html": [
       "<div>\n",
       "<style scoped>\n",
       "    .dataframe tbody tr th:only-of-type {\n",
       "        vertical-align: middle;\n",
       "    }\n",
       "\n",
       "    .dataframe tbody tr th {\n",
       "        vertical-align: top;\n",
       "    }\n",
       "\n",
       "    .dataframe thead th {\n",
       "        text-align: right;\n",
       "    }\n",
       "</style>\n",
       "<table border=\"1\" class=\"dataframe\">\n",
       "  <thead>\n",
       "    <tr style=\"text-align: right;\">\n",
       "      <th></th>\n",
       "      <th>loan_amnt</th>\n",
       "      <th>term</th>\n",
       "      <th>int_rate</th>\n",
       "      <th>installment</th>\n",
       "      <th>annual_inc</th>\n",
       "      <th>issue_d</th>\n",
       "      <th>loan_status</th>\n",
       "      <th>dti</th>\n",
       "      <th>earliest_cr_line</th>\n",
       "      <th>open_acc</th>\n",
       "      <th>...</th>\n",
       "      <th>purpose_medical</th>\n",
       "      <th>purpose_moving</th>\n",
       "      <th>purpose_other</th>\n",
       "      <th>purpose_renewable_energy</th>\n",
       "      <th>purpose_small_business</th>\n",
       "      <th>purpose_vacation</th>\n",
       "      <th>purpose_wedding</th>\n",
       "      <th>OTHER</th>\n",
       "      <th>OWN</th>\n",
       "      <th>RENT</th>\n",
       "    </tr>\n",
       "  </thead>\n",
       "  <tbody>\n",
       "    <tr>\n",
       "      <td>0</td>\n",
       "      <td>10000.0</td>\n",
       "      <td>0</td>\n",
       "      <td>11.44</td>\n",
       "      <td>329.48</td>\n",
       "      <td>117000.0</td>\n",
       "      <td>Jan-2015</td>\n",
       "      <td>Fully Paid</td>\n",
       "      <td>26.24</td>\n",
       "      <td>Jun-1990</td>\n",
       "      <td>16.0</td>\n",
       "      <td>...</td>\n",
       "      <td>0</td>\n",
       "      <td>0</td>\n",
       "      <td>0</td>\n",
       "      <td>0</td>\n",
       "      <td>0</td>\n",
       "      <td>1</td>\n",
       "      <td>0</td>\n",
       "      <td>0</td>\n",
       "      <td>0</td>\n",
       "      <td>1</td>\n",
       "    </tr>\n",
       "    <tr>\n",
       "      <td>1</td>\n",
       "      <td>8000.0</td>\n",
       "      <td>0</td>\n",
       "      <td>11.99</td>\n",
       "      <td>265.68</td>\n",
       "      <td>65000.0</td>\n",
       "      <td>Jan-2015</td>\n",
       "      <td>Fully Paid</td>\n",
       "      <td>22.05</td>\n",
       "      <td>Jul-2004</td>\n",
       "      <td>17.0</td>\n",
       "      <td>...</td>\n",
       "      <td>0</td>\n",
       "      <td>0</td>\n",
       "      <td>0</td>\n",
       "      <td>0</td>\n",
       "      <td>0</td>\n",
       "      <td>0</td>\n",
       "      <td>0</td>\n",
       "      <td>0</td>\n",
       "      <td>0</td>\n",
       "      <td>0</td>\n",
       "    </tr>\n",
       "    <tr>\n",
       "      <td>2</td>\n",
       "      <td>15600.0</td>\n",
       "      <td>0</td>\n",
       "      <td>10.49</td>\n",
       "      <td>506.97</td>\n",
       "      <td>43057.0</td>\n",
       "      <td>Jan-2015</td>\n",
       "      <td>Fully Paid</td>\n",
       "      <td>12.79</td>\n",
       "      <td>Aug-2007</td>\n",
       "      <td>13.0</td>\n",
       "      <td>...</td>\n",
       "      <td>0</td>\n",
       "      <td>0</td>\n",
       "      <td>0</td>\n",
       "      <td>0</td>\n",
       "      <td>0</td>\n",
       "      <td>0</td>\n",
       "      <td>0</td>\n",
       "      <td>0</td>\n",
       "      <td>0</td>\n",
       "      <td>1</td>\n",
       "    </tr>\n",
       "    <tr>\n",
       "      <td>3</td>\n",
       "      <td>7200.0</td>\n",
       "      <td>0</td>\n",
       "      <td>6.49</td>\n",
       "      <td>220.65</td>\n",
       "      <td>54000.0</td>\n",
       "      <td>Nov-2014</td>\n",
       "      <td>Fully Paid</td>\n",
       "      <td>2.60</td>\n",
       "      <td>Sep-2006</td>\n",
       "      <td>6.0</td>\n",
       "      <td>...</td>\n",
       "      <td>0</td>\n",
       "      <td>0</td>\n",
       "      <td>0</td>\n",
       "      <td>0</td>\n",
       "      <td>0</td>\n",
       "      <td>0</td>\n",
       "      <td>0</td>\n",
       "      <td>0</td>\n",
       "      <td>0</td>\n",
       "      <td>1</td>\n",
       "    </tr>\n",
       "    <tr>\n",
       "      <td>4</td>\n",
       "      <td>24375.0</td>\n",
       "      <td>1</td>\n",
       "      <td>17.27</td>\n",
       "      <td>609.33</td>\n",
       "      <td>55000.0</td>\n",
       "      <td>Apr-2013</td>\n",
       "      <td>Charged Off</td>\n",
       "      <td>33.95</td>\n",
       "      <td>Mar-1999</td>\n",
       "      <td>13.0</td>\n",
       "      <td>...</td>\n",
       "      <td>0</td>\n",
       "      <td>0</td>\n",
       "      <td>0</td>\n",
       "      <td>0</td>\n",
       "      <td>0</td>\n",
       "      <td>0</td>\n",
       "      <td>0</td>\n",
       "      <td>0</td>\n",
       "      <td>0</td>\n",
       "      <td>0</td>\n",
       "    </tr>\n",
       "  </tbody>\n",
       "</table>\n",
       "<p>5 rows × 73 columns</p>\n",
       "</div>"
      ],
      "text/plain": [
       "   loan_amnt  term  int_rate  installment  annual_inc   issue_d  loan_status  \\\n",
       "0    10000.0     0     11.44       329.48    117000.0  Jan-2015   Fully Paid   \n",
       "1     8000.0     0     11.99       265.68     65000.0  Jan-2015   Fully Paid   \n",
       "2    15600.0     0     10.49       506.97     43057.0  Jan-2015   Fully Paid   \n",
       "3     7200.0     0      6.49       220.65     54000.0  Nov-2014   Fully Paid   \n",
       "4    24375.0     1     17.27       609.33     55000.0  Apr-2013  Charged Off   \n",
       "\n",
       "     dti earliest_cr_line  open_acc  ...  purpose_medical  purpose_moving  \\\n",
       "0  26.24         Jun-1990      16.0  ...                0               0   \n",
       "1  22.05         Jul-2004      17.0  ...                0               0   \n",
       "2  12.79         Aug-2007      13.0  ...                0               0   \n",
       "3   2.60         Sep-2006       6.0  ...                0               0   \n",
       "4  33.95         Mar-1999      13.0  ...                0               0   \n",
       "\n",
       "   purpose_other  purpose_renewable_energy  purpose_small_business  \\\n",
       "0              0                         0                       0   \n",
       "1              0                         0                       0   \n",
       "2              0                         0                       0   \n",
       "3              0                         0                       0   \n",
       "4              0                         0                       0   \n",
       "\n",
       "   purpose_vacation purpose_wedding  OTHER  OWN  RENT  \n",
       "0                 1               0      0    0     1  \n",
       "1                 0               0      0    0     0  \n",
       "2                 0               0      0    0     1  \n",
       "3                 0               0      0    0     1  \n",
       "4                 0               0      0    0     0  \n",
       "\n",
       "[5 rows x 73 columns]"
      ]
     },
     "execution_count": 559,
     "metadata": {},
     "output_type": "execute_result"
    }
   ],
   "source": [
    "df.head(5)"
   ]
  },
  {
   "cell_type": "code",
   "execution_count": 560,
   "metadata": {},
   "outputs": [],
   "source": [
    "# 6. feature address"
   ]
  },
  {
   "cell_type": "code",
   "execution_count": 561,
   "metadata": {},
   "outputs": [
    {
     "data": {
      "text/plain": [
       "0              0174 Michelle Gateway\\nMendozaberg, OK 22690\n",
       "1           1076 Carney Fort Apt. 347\\nLoganmouth, SD 05113\n",
       "2           87025 Mark Dale Apt. 269\\nNew Sabrina, WV 05113\n",
       "3                     823 Reid Ford\\nDelacruzside, MA 00813\n",
       "4                      679 Luna Roads\\nGreggshire, VA 11650\n",
       "                                ...                        \n",
       "396025       12951 Williams Crossing\\nJohnnyville, DC 30723\n",
       "396026    0114 Fowler Field Suite 028\\nRachelborough, LA...\n",
       "396027     953 Matthew Points Suite 414\\nReedfort, NY 70466\n",
       "396028    7843 Blake Freeway Apt. 229\\nNew Michael, FL 2...\n",
       "396029          787 Michelle Causeway\\nBriannaton, AR 48052\n",
       "Name: address, Length: 395219, dtype: object"
      ]
     },
     "execution_count": 561,
     "metadata": {},
     "output_type": "execute_result"
    }
   ],
   "source": [
    "# we can extract the zip code for feature engg\n",
    "df['address']"
   ]
  },
  {
   "cell_type": "code",
   "execution_count": 562,
   "metadata": {},
   "outputs": [],
   "source": [
    "df['zip_code'] = df['address'].apply( lambda address : address[-5:])"
   ]
  },
  {
   "cell_type": "code",
   "execution_count": 563,
   "metadata": {},
   "outputs": [
    {
     "data": {
      "text/plain": [
       "70466    56880\n",
       "22690    56413\n",
       "30723    56402\n",
       "48052    55811\n",
       "00813    45725\n",
       "29597    45393\n",
       "05113    45300\n",
       "11650    11210\n",
       "93700    11126\n",
       "86630    10959\n",
       "Name: zip_code, dtype: int64"
      ]
     },
     "execution_count": 563,
     "metadata": {},
     "output_type": "execute_result"
    }
   ],
   "source": [
    "df['zip_code'].value_counts()"
   ]
  },
  {
   "cell_type": "code",
   "execution_count": 564,
   "metadata": {},
   "outputs": [],
   "source": [
    "dum = pd.get_dummies(df['zip_code'],drop_first=True)"
   ]
  },
  {
   "cell_type": "code",
   "execution_count": 565,
   "metadata": {},
   "outputs": [],
   "source": [
    "df = df.drop(['zip_code','address'],axis=1)"
   ]
  },
  {
   "cell_type": "code",
   "execution_count": 566,
   "metadata": {},
   "outputs": [],
   "source": [
    "df = pd.concat([df,dum],axis=1)"
   ]
  },
  {
   "cell_type": "code",
   "execution_count": 567,
   "metadata": {},
   "outputs": [
    {
     "data": {
      "text/html": [
       "<div>\n",
       "<style scoped>\n",
       "    .dataframe tbody tr th:only-of-type {\n",
       "        vertical-align: middle;\n",
       "    }\n",
       "\n",
       "    .dataframe tbody tr th {\n",
       "        vertical-align: top;\n",
       "    }\n",
       "\n",
       "    .dataframe thead th {\n",
       "        text-align: right;\n",
       "    }\n",
       "</style>\n",
       "<table border=\"1\" class=\"dataframe\">\n",
       "  <thead>\n",
       "    <tr style=\"text-align: right;\">\n",
       "      <th></th>\n",
       "      <th>loan_amnt</th>\n",
       "      <th>term</th>\n",
       "      <th>int_rate</th>\n",
       "      <th>installment</th>\n",
       "      <th>annual_inc</th>\n",
       "      <th>issue_d</th>\n",
       "      <th>loan_status</th>\n",
       "      <th>dti</th>\n",
       "      <th>earliest_cr_line</th>\n",
       "      <th>open_acc</th>\n",
       "      <th>...</th>\n",
       "      <th>RENT</th>\n",
       "      <th>05113</th>\n",
       "      <th>11650</th>\n",
       "      <th>22690</th>\n",
       "      <th>29597</th>\n",
       "      <th>30723</th>\n",
       "      <th>48052</th>\n",
       "      <th>70466</th>\n",
       "      <th>86630</th>\n",
       "      <th>93700</th>\n",
       "    </tr>\n",
       "  </thead>\n",
       "  <tbody>\n",
       "    <tr>\n",
       "      <td>0</td>\n",
       "      <td>10000.0</td>\n",
       "      <td>0</td>\n",
       "      <td>11.44</td>\n",
       "      <td>329.48</td>\n",
       "      <td>117000.0</td>\n",
       "      <td>Jan-2015</td>\n",
       "      <td>Fully Paid</td>\n",
       "      <td>26.24</td>\n",
       "      <td>Jun-1990</td>\n",
       "      <td>16.0</td>\n",
       "      <td>...</td>\n",
       "      <td>1</td>\n",
       "      <td>0</td>\n",
       "      <td>0</td>\n",
       "      <td>1</td>\n",
       "      <td>0</td>\n",
       "      <td>0</td>\n",
       "      <td>0</td>\n",
       "      <td>0</td>\n",
       "      <td>0</td>\n",
       "      <td>0</td>\n",
       "    </tr>\n",
       "    <tr>\n",
       "      <td>1</td>\n",
       "      <td>8000.0</td>\n",
       "      <td>0</td>\n",
       "      <td>11.99</td>\n",
       "      <td>265.68</td>\n",
       "      <td>65000.0</td>\n",
       "      <td>Jan-2015</td>\n",
       "      <td>Fully Paid</td>\n",
       "      <td>22.05</td>\n",
       "      <td>Jul-2004</td>\n",
       "      <td>17.0</td>\n",
       "      <td>...</td>\n",
       "      <td>0</td>\n",
       "      <td>1</td>\n",
       "      <td>0</td>\n",
       "      <td>0</td>\n",
       "      <td>0</td>\n",
       "      <td>0</td>\n",
       "      <td>0</td>\n",
       "      <td>0</td>\n",
       "      <td>0</td>\n",
       "      <td>0</td>\n",
       "    </tr>\n",
       "    <tr>\n",
       "      <td>2</td>\n",
       "      <td>15600.0</td>\n",
       "      <td>0</td>\n",
       "      <td>10.49</td>\n",
       "      <td>506.97</td>\n",
       "      <td>43057.0</td>\n",
       "      <td>Jan-2015</td>\n",
       "      <td>Fully Paid</td>\n",
       "      <td>12.79</td>\n",
       "      <td>Aug-2007</td>\n",
       "      <td>13.0</td>\n",
       "      <td>...</td>\n",
       "      <td>1</td>\n",
       "      <td>1</td>\n",
       "      <td>0</td>\n",
       "      <td>0</td>\n",
       "      <td>0</td>\n",
       "      <td>0</td>\n",
       "      <td>0</td>\n",
       "      <td>0</td>\n",
       "      <td>0</td>\n",
       "      <td>0</td>\n",
       "    </tr>\n",
       "    <tr>\n",
       "      <td>3</td>\n",
       "      <td>7200.0</td>\n",
       "      <td>0</td>\n",
       "      <td>6.49</td>\n",
       "      <td>220.65</td>\n",
       "      <td>54000.0</td>\n",
       "      <td>Nov-2014</td>\n",
       "      <td>Fully Paid</td>\n",
       "      <td>2.60</td>\n",
       "      <td>Sep-2006</td>\n",
       "      <td>6.0</td>\n",
       "      <td>...</td>\n",
       "      <td>1</td>\n",
       "      <td>0</td>\n",
       "      <td>0</td>\n",
       "      <td>0</td>\n",
       "      <td>0</td>\n",
       "      <td>0</td>\n",
       "      <td>0</td>\n",
       "      <td>0</td>\n",
       "      <td>0</td>\n",
       "      <td>0</td>\n",
       "    </tr>\n",
       "    <tr>\n",
       "      <td>4</td>\n",
       "      <td>24375.0</td>\n",
       "      <td>1</td>\n",
       "      <td>17.27</td>\n",
       "      <td>609.33</td>\n",
       "      <td>55000.0</td>\n",
       "      <td>Apr-2013</td>\n",
       "      <td>Charged Off</td>\n",
       "      <td>33.95</td>\n",
       "      <td>Mar-1999</td>\n",
       "      <td>13.0</td>\n",
       "      <td>...</td>\n",
       "      <td>0</td>\n",
       "      <td>0</td>\n",
       "      <td>1</td>\n",
       "      <td>0</td>\n",
       "      <td>0</td>\n",
       "      <td>0</td>\n",
       "      <td>0</td>\n",
       "      <td>0</td>\n",
       "      <td>0</td>\n",
       "      <td>0</td>\n",
       "    </tr>\n",
       "  </tbody>\n",
       "</table>\n",
       "<p>5 rows × 81 columns</p>\n",
       "</div>"
      ],
      "text/plain": [
       "   loan_amnt  term  int_rate  installment  annual_inc   issue_d  loan_status  \\\n",
       "0    10000.0     0     11.44       329.48    117000.0  Jan-2015   Fully Paid   \n",
       "1     8000.0     0     11.99       265.68     65000.0  Jan-2015   Fully Paid   \n",
       "2    15600.0     0     10.49       506.97     43057.0  Jan-2015   Fully Paid   \n",
       "3     7200.0     0      6.49       220.65     54000.0  Nov-2014   Fully Paid   \n",
       "4    24375.0     1     17.27       609.33     55000.0  Apr-2013  Charged Off   \n",
       "\n",
       "     dti earliest_cr_line  open_acc  ...  RENT  05113  11650  22690  29597  \\\n",
       "0  26.24         Jun-1990      16.0  ...     1      0      0      1      0   \n",
       "1  22.05         Jul-2004      17.0  ...     0      1      0      0      0   \n",
       "2  12.79         Aug-2007      13.0  ...     1      1      0      0      0   \n",
       "3   2.60         Sep-2006       6.0  ...     1      0      0      0      0   \n",
       "4  33.95         Mar-1999      13.0  ...     0      0      1      0      0   \n",
       "\n",
       "   30723  48052  70466  86630  93700  \n",
       "0      0      0      0      0      0  \n",
       "1      0      0      0      0      0  \n",
       "2      0      0      0      0      0  \n",
       "3      0      0      0      0      0  \n",
       "4      0      0      0      0      0  \n",
       "\n",
       "[5 rows x 81 columns]"
      ]
     },
     "execution_count": 567,
     "metadata": {},
     "output_type": "execute_result"
    }
   ],
   "source": [
    "df.head(5)"
   ]
  },
  {
   "cell_type": "code",
   "execution_count": 568,
   "metadata": {},
   "outputs": [
    {
     "name": "stdout",
     "output_type": "stream",
     "text": [
      "The month which the loan was funded\n"
     ]
    }
   ],
   "source": [
    "# 7. feature issue_d\n",
    "\n",
    "feat_info('issue_d')"
   ]
  },
  {
   "cell_type": "code",
   "execution_count": 569,
   "metadata": {},
   "outputs": [],
   "source": [
    "\n",
    "df = df.drop('issue_d',axis=1)"
   ]
  },
  {
   "cell_type": "code",
   "execution_count": 570,
   "metadata": {},
   "outputs": [
    {
     "name": "stdout",
     "output_type": "stream",
     "text": [
      "The month the borrower's earliest reported credit line was opened\n"
     ]
    }
   ],
   "source": [
    "# 8. feature earliest_cr_line\n",
    "\n",
    "feat_info('earliest_cr_line')"
   ]
  },
  {
   "cell_type": "code",
   "execution_count": 571,
   "metadata": {},
   "outputs": [
    {
     "data": {
      "text/plain": [
       "0    Jun-1990\n",
       "1    Jul-2004\n",
       "Name: earliest_cr_line, dtype: object"
      ]
     },
     "execution_count": 571,
     "metadata": {},
     "output_type": "execute_result"
    }
   ],
   "source": [
    "df['earliest_cr_line'].head(2)"
   ]
  },
  {
   "cell_type": "code",
   "execution_count": 572,
   "metadata": {},
   "outputs": [],
   "source": [
    "df['earliest_cr_line'] = df['earliest_cr_line'].apply(lambda year: int(year[-4:]))"
   ]
  },
  {
   "cell_type": "code",
   "execution_count": 573,
   "metadata": {},
   "outputs": [
    {
     "data": {
      "text/plain": [
       "0    1990\n",
       "1    2004\n",
       "Name: earliest_cr_line, dtype: int64"
      ]
     },
     "execution_count": 573,
     "metadata": {},
     "output_type": "execute_result"
    }
   ],
   "source": [
    "df['earliest_cr_line'].head(2)"
   ]
  },
  {
   "cell_type": "code",
   "execution_count": 574,
   "metadata": {},
   "outputs": [
    {
     "data": {
      "text/plain": [
       "2000    29302\n",
       "2001    29031\n",
       "1999    26444\n",
       "2002    25849\n",
       "2003    23623\n",
       "        ...  \n",
       "1951        3\n",
       "1950        3\n",
       "1953        2\n",
       "1948        1\n",
       "1944        1\n",
       "Name: earliest_cr_line, Length: 65, dtype: int64"
      ]
     },
     "execution_count": 574,
     "metadata": {},
     "output_type": "execute_result"
    }
   ],
   "source": [
    "df['earliest_cr_line'].value_counts()"
   ]
  },
  {
   "cell_type": "code",
   "execution_count": 575,
   "metadata": {},
   "outputs": [],
   "source": [
    "# last feature to drop\n",
    "\n",
    "df = df.drop('loan_status',axis=1)"
   ]
  },
  {
   "cell_type": "markdown",
   "metadata": {},
   "source": [
    "# Train Test Split"
   ]
  },
  {
   "cell_type": "code",
   "execution_count": 576,
   "metadata": {},
   "outputs": [],
   "source": [
    "from sklearn.model_selection import train_test_split"
   ]
  },
  {
   "cell_type": "code",
   "execution_count": 577,
   "metadata": {},
   "outputs": [],
   "source": [
    "X = df.drop('loan_repaid',axis=1).values\n",
    "y = df['loan_repaid'].values"
   ]
  },
  {
   "cell_type": "code",
   "execution_count": 578,
   "metadata": {},
   "outputs": [],
   "source": [
    "X_train, X_test, y_train, y_test = train_test_split(X, y, test_size=0.2, random_state=101)"
   ]
  },
  {
   "cell_type": "markdown",
   "metadata": {},
   "source": [
    "# Normalize the data"
   ]
  },
  {
   "cell_type": "code",
   "execution_count": 579,
   "metadata": {},
   "outputs": [],
   "source": [
    "from sklearn.preprocessing import MinMaxScaler"
   ]
  },
  {
   "cell_type": "code",
   "execution_count": 580,
   "metadata": {},
   "outputs": [],
   "source": [
    "scaler = MinMaxScaler()"
   ]
  },
  {
   "cell_type": "code",
   "execution_count": 581,
   "metadata": {},
   "outputs": [],
   "source": [
    "X_train = scaler.fit_transform(X_train)"
   ]
  },
  {
   "cell_type": "code",
   "execution_count": 582,
   "metadata": {},
   "outputs": [],
   "source": [
    "X_test = scaler.transform(X_test)"
   ]
  },
  {
   "cell_type": "markdown",
   "metadata": {},
   "source": [
    "# Model Creation"
   ]
  },
  {
   "cell_type": "code",
   "execution_count": 583,
   "metadata": {},
   "outputs": [],
   "source": [
    "from tensorflow.keras.models import Sequential"
   ]
  },
  {
   "cell_type": "code",
   "execution_count": 584,
   "metadata": {},
   "outputs": [],
   "source": [
    "from tensorflow.keras.constraints import max_norm"
   ]
  },
  {
   "cell_type": "code",
   "execution_count": 585,
   "metadata": {},
   "outputs": [],
   "source": [
    "from tensorflow.keras.layers import Dense,Dropout,Activation"
   ]
  },
  {
   "cell_type": "code",
   "execution_count": 586,
   "metadata": {},
   "outputs": [],
   "source": [
    "from tensorflow.keras.optimizers import Adam"
   ]
  },
  {
   "cell_type": "code",
   "execution_count": 587,
   "metadata": {},
   "outputs": [
    {
     "data": {
      "text/plain": [
       "(316175, 78)"
      ]
     },
     "execution_count": 587,
     "metadata": {},
     "output_type": "execute_result"
    }
   ],
   "source": [
    "# we have 78 features\n",
    "X_train.shape"
   ]
  },
  {
   "cell_type": "code",
   "execution_count": 588,
   "metadata": {},
   "outputs": [],
   "source": [
    "model = Sequential()\n",
    "\n",
    "model.add(Dense(78,activation='relu'))\n",
    "model.add(Dense(78,activation='relu'))\n",
    "model.add(Dense(78,activation='relu'))\n",
    "\n",
    "model.add(Dense(1,activation='sigmoid',kernel_initializer='glorot_uniform'))\n",
    "\n",
    "model.compile(optimizer='adam',loss='binary_crossentropy')"
   ]
  },
  {
   "cell_type": "code",
   "execution_count": 589,
   "metadata": {},
   "outputs": [
    {
     "name": "stdout",
     "output_type": "stream",
     "text": [
      "Train on 316175 samples, validate on 79044 samples\n",
      "Epoch 1/600\n",
      "316175/316175 [==============================] - 7s 23us/sample - loss: 0.2836 - val_loss: 0.2672\n",
      "Epoch 2/600\n",
      "316175/316175 [==============================] - 6s 19us/sample - loss: 0.2619 - val_loss: 0.2632\n",
      "Epoch 3/600\n",
      "316175/316175 [==============================] - 6s 19us/sample - loss: 0.2599 - val_loss: 0.2634\n",
      "Epoch 4/600\n",
      "316175/316175 [==============================] - 7s 21us/sample - loss: 0.2594 - val_loss: 0.2625\n",
      "Epoch 5/600\n",
      "316175/316175 [==============================] - 7s 21us/sample - loss: 0.2585 - val_loss: 0.2618\n",
      "Epoch 6/600\n",
      "316175/316175 [==============================] - 7s 22us/sample - loss: 0.2580 - val_loss: 0.2621\n",
      "Epoch 7/600\n",
      "316175/316175 [==============================] - 6s 20us/sample - loss: 0.2576 - val_loss: 0.2621\n",
      "Epoch 8/600\n",
      "316175/316175 [==============================] - 6s 19us/sample - loss: 0.2568 - val_loss: 0.2616\n",
      "Epoch 9/600\n",
      "316175/316175 [==============================] - 6s 20us/sample - loss: 0.2564 - val_loss: 0.2618\n",
      "Epoch 10/600\n",
      "316175/316175 [==============================] - 6s 20us/sample - loss: 0.2561 - val_loss: 0.2634\n",
      "Epoch 11/600\n",
      "316175/316175 [==============================] - 7s 23us/sample - loss: 0.2556 - val_loss: 0.2616\n",
      "Epoch 12/600\n",
      "316175/316175 [==============================] - 7s 22us/sample - loss: 0.2552 - val_loss: 0.2625\n",
      "Epoch 13/600\n",
      "316175/316175 [==============================] - 7s 21us/sample - loss: 0.2549 - val_loss: 0.2626\n",
      "Epoch 14/600\n",
      "316175/316175 [==============================] - 6s 20us/sample - loss: 0.2545 - val_loss: 0.2628\n",
      "Epoch 15/600\n",
      "316175/316175 [==============================] - 7s 22us/sample - loss: 0.2540 - val_loss: 0.2641\n",
      "Epoch 16/600\n",
      "316175/316175 [==============================] - 7s 22us/sample - loss: 0.2536 - val_loss: 0.2626\n",
      "Epoch 17/600\n",
      "316175/316175 [==============================] - 7s 21us/sample - loss: 0.2530 - val_loss: 0.2638\n",
      "Epoch 18/600\n",
      "316175/316175 [==============================] - 6s 20us/sample - loss: 0.2527 - val_loss: 0.2639\n",
      "Epoch 19/600\n",
      "316175/316175 [==============================] - 6s 21us/sample - loss: 0.2523 - val_loss: 0.2627\n",
      "Epoch 20/600\n",
      "316175/316175 [==============================] - 7s 21us/sample - loss: 0.2518 - val_loss: 0.2647\n",
      "Epoch 21/600\n",
      "316175/316175 [==============================] - 6s 20us/sample - loss: 0.2512 - val_loss: 0.2638\n",
      "Epoch 22/600\n",
      "316175/316175 [==============================] - 6s 19us/sample - loss: 0.2507 - val_loss: 0.2636\n",
      "Epoch 23/600\n",
      "316175/316175 [==============================] - 6s 20us/sample - loss: 0.2501 - val_loss: 0.2635\n",
      "Epoch 24/600\n",
      "316175/316175 [==============================] - 6s 18us/sample - loss: 0.2497 - val_loss: 0.2652\n",
      "Epoch 25/600\n",
      "316175/316175 [==============================] - 6s 18us/sample - loss: 0.2492 - val_loss: 0.2665\n",
      "Epoch 26/600\n",
      "316175/316175 [==============================] - 6s 20us/sample - loss: 0.2486 - val_loss: 0.2654\n",
      "Epoch 27/600\n",
      "316175/316175 [==============================] - 6s 20us/sample - loss: 0.2484 - val_loss: 0.2677\n",
      "Epoch 28/600\n",
      "316175/316175 [==============================] - 6s 20us/sample - loss: 0.2475 - val_loss: 0.2691\n",
      "Epoch 29/600\n",
      "316175/316175 [==============================] - 6s 20us/sample - loss: 0.2475 - val_loss: 0.2705\n",
      "Epoch 30/600\n",
      "316175/316175 [==============================] - 6s 20us/sample - loss: 0.2472 - val_loss: 0.2674\n",
      "Epoch 31/600\n",
      "316175/316175 [==============================] - 7s 21us/sample - loss: 0.2465 - val_loss: 0.2689\n",
      "Epoch 32/600\n",
      "316175/316175 [==============================] - 8s 24us/sample - loss: 0.2459 - val_loss: 0.2685\n",
      "Epoch 33/600\n",
      "316175/316175 [==============================] - 7s 21us/sample - loss: 0.2455 - val_loss: 0.2693\n",
      "Epoch 34/600\n",
      "316175/316175 [==============================] - 6s 20us/sample - loss: 0.2452 - val_loss: 0.2709\n",
      "Epoch 35/600\n",
      "316175/316175 [==============================] - 7s 21us/sample - loss: 0.2445 - val_loss: 0.2717\n",
      "Epoch 36/600\n",
      "316175/316175 [==============================] - 6s 20us/sample - loss: 0.2439 - val_loss: 0.2720\n",
      "Epoch 37/600\n",
      "316175/316175 [==============================] - 6s 19us/sample - loss: 0.2436 - val_loss: 0.2741\n",
      "Epoch 38/600\n",
      "316175/316175 [==============================] - 7s 21us/sample - loss: 0.2433 - val_loss: 0.2740\n",
      "Epoch 39/600\n",
      "316175/316175 [==============================] - 7s 21us/sample - loss: 0.2428 - val_loss: 0.2756\n",
      "Epoch 40/600\n",
      "316175/316175 [==============================] - 7s 21us/sample - loss: 0.2422 - val_loss: 0.2753\n",
      "Epoch 41/600\n",
      "316175/316175 [==============================] - 7s 21us/sample - loss: 0.2418 - val_loss: 0.2769\n",
      "Epoch 42/600\n",
      "316175/316175 [==============================] - 7s 21us/sample - loss: 0.2415 - val_loss: 0.2789\n",
      "Epoch 43/600\n",
      "316175/316175 [==============================] - 7s 21us/sample - loss: 0.2410 - val_loss: 0.2796\n",
      "Epoch 44/600\n",
      "316175/316175 [==============================] - 7s 22us/sample - loss: 0.2407 - val_loss: 0.2789\n",
      "Epoch 45/600\n",
      "316175/316175 [==============================] - 7s 21us/sample - loss: 0.2402 - val_loss: 0.2841\n",
      "Epoch 46/600\n",
      "316175/316175 [==============================] - 7s 22us/sample - loss: 0.2398 - val_loss: 0.2793\n",
      "Epoch 47/600\n",
      "316175/316175 [==============================] - 7s 22us/sample - loss: 0.2395 - val_loss: 0.2867\n",
      "Epoch 48/600\n",
      "316175/316175 [==============================] - 7s 21us/sample - loss: 0.2389 - val_loss: 0.2812\n",
      "Epoch 49/600\n",
      "316175/316175 [==============================] - 7s 22us/sample - loss: 0.2388 - val_loss: 0.2827\n",
      "Epoch 50/600\n",
      "316175/316175 [==============================] - 7s 21us/sample - loss: 0.2385 - val_loss: 0.2803\n",
      "Epoch 51/600\n",
      "316175/316175 [==============================] - 6s 20us/sample - loss: 0.2377 - val_loss: 0.2872\n",
      "Epoch 52/600\n",
      "316175/316175 [==============================] - 6s 20us/sample - loss: 0.2376 - val_loss: 0.2859\n",
      "Epoch 53/600\n",
      "316175/316175 [==============================] - 6s 19us/sample - loss: 0.2370 - val_loss: 0.2874\n",
      "Epoch 54/600\n",
      "316175/316175 [==============================] - 6s 19us/sample - loss: 0.2367 - val_loss: 0.2903\n",
      "Epoch 55/600\n",
      "316175/316175 [==============================] - 6s 19us/sample - loss: 0.2364 - val_loss: 0.2900\n",
      "Epoch 56/600\n",
      "316175/316175 [==============================] - 6s 19us/sample - loss: 0.2359 - val_loss: 0.2936\n",
      "Epoch 57/600\n",
      "316175/316175 [==============================] - 6s 19us/sample - loss: 0.2355 - val_loss: 0.2916\n",
      "Epoch 58/600\n",
      "316175/316175 [==============================] - 6s 20us/sample - loss: 0.2351 - val_loss: 0.2922\n",
      "Epoch 59/600\n",
      "316175/316175 [==============================] - 6s 19us/sample - loss: 0.2348 - val_loss: 0.2959\n",
      "Epoch 60/600\n",
      "316175/316175 [==============================] - 6s 20us/sample - loss: 0.2344 - val_loss: 0.2998\n",
      "Epoch 61/600\n",
      "316175/316175 [==============================] - 6s 20us/sample - loss: 0.2342 - val_loss: 0.2953\n",
      "Epoch 62/600\n",
      "316175/316175 [==============================] - 6s 19us/sample - loss: 0.2339 - val_loss: 0.2967\n",
      "Epoch 63/600\n",
      "316175/316175 [==============================] - 6s 19us/sample - loss: 0.2333 - val_loss: 0.3032\n",
      "Epoch 64/600\n",
      "316175/316175 [==============================] - 6s 19us/sample - loss: 0.2331 - val_loss: 0.2938\n",
      "Epoch 65/600\n",
      "316175/316175 [==============================] - 6s 20us/sample - loss: 0.2329 - val_loss: 0.2974\n",
      "Epoch 66/600\n",
      "316175/316175 [==============================] - 6s 20us/sample - loss: 0.2326 - val_loss: 0.2963\n",
      "Epoch 67/600\n",
      "316175/316175 [==============================] - 6s 19us/sample - loss: 0.2321 - val_loss: 0.2998\n",
      "Epoch 68/600\n",
      "316175/316175 [==============================] - 6s 18us/sample - loss: 0.2318 - val_loss: 0.2991\n",
      "Epoch 69/600\n",
      "316175/316175 [==============================] - 6s 19us/sample - loss: 0.2316 - val_loss: 0.3068\n",
      "Epoch 70/600\n",
      "316175/316175 [==============================] - 6s 19us/sample - loss: 0.2311 - val_loss: 0.3064\n",
      "Epoch 71/600\n",
      "316175/316175 [==============================] - 6s 19us/sample - loss: 0.2309 - val_loss: 0.3024\n",
      "Epoch 72/600\n",
      "316175/316175 [==============================] - 6s 20us/sample - loss: 0.2305 - val_loss: 0.3055\n",
      "Epoch 73/600\n",
      "316175/316175 [==============================] - 6s 20us/sample - loss: 0.2301 - val_loss: 0.3070\n",
      "Epoch 74/600\n"
     ]
    },
    {
     "name": "stdout",
     "output_type": "stream",
     "text": [
      "316175/316175 [==============================] - 6s 20us/sample - loss: 0.2300 - val_loss: 0.3058\n",
      "Epoch 75/600\n",
      "316175/316175 [==============================] - 6s 19us/sample - loss: 0.2292 - val_loss: 0.3118\n",
      "Epoch 76/600\n",
      "316175/316175 [==============================] - 6s 20us/sample - loss: 0.2294 - val_loss: 0.3101\n",
      "Epoch 77/600\n",
      "316175/316175 [==============================] - 6s 20us/sample - loss: 0.2290 - val_loss: 0.3096\n",
      "Epoch 78/600\n",
      "316175/316175 [==============================] - 6s 20us/sample - loss: 0.2288 - val_loss: 0.3088\n",
      "Epoch 79/600\n",
      "316175/316175 [==============================] - 6s 20us/sample - loss: 0.2284 - val_loss: 0.3130\n",
      "Epoch 80/600\n",
      "316175/316175 [==============================] - 6s 20us/sample - loss: 0.2283 - val_loss: 0.3162\n",
      "Epoch 81/600\n",
      "316175/316175 [==============================] - 6s 20us/sample - loss: 0.2279 - val_loss: 0.3162\n",
      "Epoch 82/600\n",
      "316175/316175 [==============================] - 6s 19us/sample - loss: 0.2275 - val_loss: 0.3185\n",
      "Epoch 83/600\n",
      "316175/316175 [==============================] - 6s 20us/sample - loss: 0.2273 - val_loss: 0.3155\n",
      "Epoch 84/600\n",
      "316175/316175 [==============================] - 6s 19us/sample - loss: 0.2271 - val_loss: 0.3235\n",
      "Epoch 85/600\n",
      "316175/316175 [==============================] - 6s 19us/sample - loss: 0.2265 - val_loss: 0.3181\n",
      "Epoch 86/600\n",
      "316175/316175 [==============================] - 6s 20us/sample - loss: 0.2265 - val_loss: 0.3260\n",
      "Epoch 87/600\n",
      "316175/316175 [==============================] - 6s 20us/sample - loss: 0.2260 - val_loss: 0.3196\n",
      "Epoch 88/600\n",
      "316175/316175 [==============================] - 6s 20us/sample - loss: 0.2258 - val_loss: 0.3269\n",
      "Epoch 89/600\n",
      "316175/316175 [==============================] - 6s 20us/sample - loss: 0.2259 - val_loss: 0.3173\n",
      "Epoch 90/600\n",
      "316175/316175 [==============================] - 6s 19us/sample - loss: 0.2254 - val_loss: 0.3307\n",
      "Epoch 91/600\n",
      "316175/316175 [==============================] - 6s 20us/sample - loss: 0.2251 - val_loss: 0.3280\n",
      "Epoch 92/600\n",
      "316175/316175 [==============================] - 6s 20us/sample - loss: 0.2251 - val_loss: 0.3313\n",
      "Epoch 93/600\n",
      "316175/316175 [==============================] - 6s 20us/sample - loss: 0.2244 - val_loss: 0.3289\n",
      "Epoch 94/600\n",
      "316175/316175 [==============================] - 6s 20us/sample - loss: 0.2244 - val_loss: 0.3301\n",
      "Epoch 95/600\n",
      "316175/316175 [==============================] - 6s 20us/sample - loss: 0.2240 - val_loss: 0.3249\n",
      "Epoch 96/600\n",
      "316175/316175 [==============================] - 6s 19us/sample - loss: 0.2239 - val_loss: 0.3295\n",
      "Epoch 97/600\n",
      "316175/316175 [==============================] - 6s 19us/sample - loss: 0.2239 - val_loss: 0.3314\n",
      "Epoch 98/600\n",
      "316175/316175 [==============================] - 6s 20us/sample - loss: 0.2231 - val_loss: 0.3344\n",
      "Epoch 99/600\n",
      "316175/316175 [==============================] - 6s 20us/sample - loss: 0.2233 - val_loss: 0.3381\n",
      "Epoch 100/600\n",
      "316175/316175 [==============================] - 6s 19us/sample - loss: 0.2231 - val_loss: 0.3326\n",
      "Epoch 101/600\n",
      "316175/316175 [==============================] - 6s 19us/sample - loss: 0.2227 - val_loss: 0.3364\n",
      "Epoch 102/600\n",
      "316175/316175 [==============================] - 6s 19us/sample - loss: 0.2223 - val_loss: 0.3378\n",
      "Epoch 103/600\n",
      "316175/316175 [==============================] - 6s 19us/sample - loss: 0.2227 - val_loss: 0.3379\n",
      "Epoch 104/600\n",
      "316175/316175 [==============================] - 6s 19us/sample - loss: 0.2223 - val_loss: 0.3333\n",
      "Epoch 105/600\n",
      "316175/316175 [==============================] - 6s 19us/sample - loss: 0.2222 - val_loss: 0.3437\n",
      "Epoch 106/600\n",
      "316175/316175 [==============================] - 6s 20us/sample - loss: 0.2219 - val_loss: 0.3378\n",
      "Epoch 107/600\n",
      "316175/316175 [==============================] - 6s 19us/sample - loss: 0.2216 - val_loss: 0.3393\n",
      "Epoch 108/600\n",
      "316175/316175 [==============================] - 6s 19us/sample - loss: 0.2210 - val_loss: 0.3464\n",
      "Epoch 109/600\n",
      "316175/316175 [==============================] - 6s 20us/sample - loss: 0.2212 - val_loss: 0.3418\n",
      "Epoch 110/600\n",
      "316175/316175 [==============================] - 6s 20us/sample - loss: 0.2210 - val_loss: 0.3446\n",
      "Epoch 111/600\n",
      "316175/316175 [==============================] - 6s 20us/sample - loss: 0.2207 - val_loss: 0.3450\n",
      "Epoch 112/600\n",
      "316175/316175 [==============================] - 6s 20us/sample - loss: 0.2209 - val_loss: 0.3516\n",
      "Epoch 113/600\n",
      "316175/316175 [==============================] - 6s 19us/sample - loss: 0.2203 - val_loss: 0.3479\n",
      "Epoch 114/600\n",
      "316175/316175 [==============================] - 6s 19us/sample - loss: 0.2203 - val_loss: 0.3475\n",
      "Epoch 115/600\n",
      "316175/316175 [==============================] - 6s 20us/sample - loss: 0.2201 - val_loss: 0.3543\n",
      "Epoch 116/600\n",
      "316175/316175 [==============================] - 6s 19us/sample - loss: 0.2198 - val_loss: 0.3542\n",
      "Epoch 117/600\n",
      "316175/316175 [==============================] - 7s 21us/sample - loss: 0.2193 - val_loss: 0.3489\n",
      "Epoch 118/600\n",
      "316175/316175 [==============================] - 6s 19us/sample - loss: 0.2192 - val_loss: 0.3503\n",
      "Epoch 119/600\n",
      "316175/316175 [==============================] - 7s 22us/sample - loss: 0.2193 - val_loss: 0.3554\n",
      "Epoch 120/600\n",
      "316175/316175 [==============================] - 7s 23us/sample - loss: 0.2192 - val_loss: 0.3546\n",
      "Epoch 121/600\n",
      "316175/316175 [==============================] - 7s 21us/sample - loss: 0.2194 - val_loss: 0.3577\n",
      "Epoch 122/600\n",
      "316175/316175 [==============================] - 6s 20us/sample - loss: 0.2185 - val_loss: 0.3562\n",
      "Epoch 123/600\n",
      "316175/316175 [==============================] - 7s 21us/sample - loss: 0.2185 - val_loss: 0.3631\n",
      "Epoch 124/600\n",
      "316175/316175 [==============================] - 6s 21us/sample - loss: 0.2183 - val_loss: 0.3612\n",
      "Epoch 125/600\n",
      "316175/316175 [==============================] - 6s 21us/sample - loss: 0.2179 - val_loss: 0.3689\n",
      "Epoch 126/600\n",
      "316175/316175 [==============================] - 6s 21us/sample - loss: 0.2183 - val_loss: 0.3612\n",
      "Epoch 127/600\n",
      "316175/316175 [==============================] - 7s 21us/sample - loss: 0.2182 - val_loss: 0.3612\n",
      "Epoch 128/600\n",
      "316175/316175 [==============================] - 6s 21us/sample - loss: 0.2175 - val_loss: 0.3740\n",
      "Epoch 129/600\n",
      "316175/316175 [==============================] - 6s 20us/sample - loss: 0.2179 - val_loss: 0.3608\n",
      "Epoch 130/600\n",
      "316175/316175 [==============================] - 6s 21us/sample - loss: 0.2172 - val_loss: 0.3639\n",
      "Epoch 131/600\n",
      "316175/316175 [==============================] - 7s 21us/sample - loss: 0.2169 - val_loss: 0.3668\n",
      "Epoch 132/600\n",
      "316175/316175 [==============================] - 6s 20us/sample - loss: 0.2173 - val_loss: 0.3684\n",
      "Epoch 133/600\n",
      "316175/316175 [==============================] - 6s 20us/sample - loss: 0.2171 - val_loss: 0.3704\n",
      "Epoch 134/600\n",
      "316175/316175 [==============================] - 7s 21us/sample - loss: 0.2167 - val_loss: 0.3658\n",
      "Epoch 135/600\n",
      "316175/316175 [==============================] - 7s 21us/sample - loss: 0.2163 - val_loss: 0.3706\n",
      "Epoch 136/600\n",
      "316175/316175 [==============================] - 7s 21us/sample - loss: 0.2167 - val_loss: 0.3776\n",
      "Epoch 137/600\n",
      "316175/316175 [==============================] - 7s 21us/sample - loss: 0.2161 - val_loss: 0.3675\n",
      "Epoch 138/600\n",
      "316175/316175 [==============================] - 7s 21us/sample - loss: 0.2163 - val_loss: 0.3735\n",
      "Epoch 139/600\n",
      "316175/316175 [==============================] - 7s 21us/sample - loss: 0.2155 - val_loss: 0.3737\n",
      "Epoch 140/600\n",
      "316175/316175 [==============================] - 6s 20us/sample - loss: 0.2159 - val_loss: 0.3732\n",
      "Epoch 141/600\n",
      "316175/316175 [==============================] - 7s 21us/sample - loss: 0.2157 - val_loss: 0.3826\n",
      "Epoch 142/600\n",
      "316175/316175 [==============================] - 7s 21us/sample - loss: 0.2155 - val_loss: 0.3775\n",
      "Epoch 143/600\n",
      "316175/316175 [==============================] - 7s 21us/sample - loss: 0.2151 - val_loss: 0.3818\n",
      "Epoch 144/600\n",
      "316175/316175 [==============================] - 7s 21us/sample - loss: 0.2154 - val_loss: 0.3757\n",
      "Epoch 145/600\n",
      "316175/316175 [==============================] - 6s 21us/sample - loss: 0.2150 - val_loss: 0.3800\n",
      "Epoch 146/600\n",
      "316175/316175 [==============================] - 6s 20us/sample - loss: 0.2147 - val_loss: 0.3822\n",
      "Epoch 147/600\n"
     ]
    },
    {
     "name": "stdout",
     "output_type": "stream",
     "text": [
      "316175/316175 [==============================] - 7s 21us/sample - loss: 0.2150 - val_loss: 0.3788\n",
      "Epoch 148/600\n",
      "316175/316175 [==============================] - 7s 21us/sample - loss: 0.2146 - val_loss: 0.3802\n",
      "Epoch 149/600\n",
      "316175/316175 [==============================] - 7s 21us/sample - loss: 0.2142 - val_loss: 0.3796\n",
      "Epoch 150/600\n",
      "316175/316175 [==============================] - 7s 21us/sample - loss: 0.2145 - val_loss: 0.3852\n",
      "Epoch 151/600\n",
      "316175/316175 [==============================] - 7s 21us/sample - loss: 0.2140 - val_loss: 0.3889\n",
      "Epoch 152/600\n",
      "316175/316175 [==============================] - 7s 21us/sample - loss: 0.2138 - val_loss: 0.3850\n",
      "Epoch 153/600\n",
      "316175/316175 [==============================] - 7s 21us/sample - loss: 0.2141 - val_loss: 0.3844\n",
      "Epoch 154/600\n",
      "316175/316175 [==============================] - 7s 21us/sample - loss: 0.2139 - val_loss: 0.3838\n",
      "Epoch 155/600\n",
      "316175/316175 [==============================] - 7s 21us/sample - loss: 0.2138 - val_loss: 0.3974\n",
      "Epoch 156/600\n",
      "316175/316175 [==============================] - 7s 21us/sample - loss: 0.2138 - val_loss: 0.3816\n",
      "Epoch 157/600\n",
      "316175/316175 [==============================] - 7s 21us/sample - loss: 0.2135 - val_loss: 0.3883\n",
      "Epoch 158/600\n",
      "316175/316175 [==============================] - 7s 21us/sample - loss: 0.2136 - val_loss: 0.3823\n",
      "Epoch 159/600\n",
      "316175/316175 [==============================] - 7s 21us/sample - loss: 0.2135 - val_loss: 0.3991\n",
      "Epoch 160/600\n",
      "316175/316175 [==============================] - 7s 21us/sample - loss: 0.2128 - val_loss: 0.3938\n",
      "Epoch 161/600\n",
      "316175/316175 [==============================] - 7s 21us/sample - loss: 0.2128 - val_loss: 0.3894\n",
      "Epoch 162/600\n",
      "316175/316175 [==============================] - 7s 21us/sample - loss: 0.2127 - val_loss: 0.3935\n",
      "Epoch 163/600\n",
      "316175/316175 [==============================] - 7s 21us/sample - loss: 0.2129 - val_loss: 0.3896\n",
      "Epoch 164/600\n",
      "316175/316175 [==============================] - 7s 22us/sample - loss: 0.2124 - val_loss: 0.3915\n",
      "Epoch 165/600\n",
      "316175/316175 [==============================] - 7s 22us/sample - loss: 0.2127 - val_loss: 0.4063\n",
      "Epoch 166/600\n",
      "316175/316175 [==============================] - 7s 22us/sample - loss: 0.2123 - val_loss: 0.4050\n",
      "Epoch 167/600\n",
      "316175/316175 [==============================] - 7s 22us/sample - loss: 0.2122 - val_loss: 0.3925\n",
      "Epoch 168/600\n",
      "316175/316175 [==============================] - 7s 23us/sample - loss: 0.2122 - val_loss: 0.3953\n",
      "Epoch 169/600\n",
      "316175/316175 [==============================] - 7s 24us/sample - loss: 0.2121 - val_loss: 0.3965\n",
      "Epoch 170/600\n",
      "316175/316175 [==============================] - 7s 22us/sample - loss: 0.2117 - val_loss: 0.4073\n",
      "Epoch 171/600\n",
      "316175/316175 [==============================] - 7s 23us/sample - loss: 0.2120 - val_loss: 0.4030\n",
      "Epoch 172/600\n",
      "316175/316175 [==============================] - 8s 24us/sample - loss: 0.2116 - val_loss: 0.3975\n",
      "Epoch 173/600\n",
      "316175/316175 [==============================] - 7s 23us/sample - loss: 0.2115 - val_loss: 0.4044\n",
      "Epoch 174/600\n",
      "316175/316175 [==============================] - 8s 24us/sample - loss: 0.2117 - val_loss: 0.4048\n",
      "Epoch 175/600\n",
      "316175/316175 [==============================] - 7s 22us/sample - loss: 0.2110 - val_loss: 0.4024\n",
      "Epoch 176/600\n",
      "316175/316175 [==============================] - 7s 22us/sample - loss: 0.2114 - val_loss: 0.4081\n",
      "Epoch 177/600\n",
      "316175/316175 [==============================] - 7s 23us/sample - loss: 0.2113 - val_loss: 0.4033\n",
      "Epoch 178/600\n",
      "316175/316175 [==============================] - 7s 22us/sample - loss: 0.2106 - val_loss: 0.4084\n",
      "Epoch 179/600\n",
      "316175/316175 [==============================] - 7s 22us/sample - loss: 0.2106 - val_loss: 0.3981\n",
      "Epoch 180/600\n",
      "316175/316175 [==============================] - 7s 22us/sample - loss: 0.2109 - val_loss: 0.3974\n",
      "Epoch 181/600\n",
      "316175/316175 [==============================] - 7s 22us/sample - loss: 0.2112 - val_loss: 0.4066\n",
      "Epoch 182/600\n",
      "316175/316175 [==============================] - 7s 22us/sample - loss: 0.2103 - val_loss: 0.4005\n",
      "Epoch 183/600\n",
      "316175/316175 [==============================] - 7s 22us/sample - loss: 0.2108 - val_loss: 0.4083\n",
      "Epoch 184/600\n",
      "316175/316175 [==============================] - 7s 22us/sample - loss: 0.2104 - val_loss: 0.4111\n",
      "Epoch 185/600\n",
      "316175/316175 [==============================] - 7s 22us/sample - loss: 0.2102 - val_loss: 0.4062\n",
      "Epoch 186/600\n",
      "316175/316175 [==============================] - 7s 23us/sample - loss: 0.2103 - val_loss: 0.4197\n",
      "Epoch 187/600\n",
      "316175/316175 [==============================] - 7s 23us/sample - loss: 0.2100 - val_loss: 0.4102\n",
      "Epoch 188/600\n",
      "316175/316175 [==============================] - 7s 22us/sample - loss: 0.2100 - val_loss: 0.4120\n",
      "Epoch 189/600\n",
      "316175/316175 [==============================] - 7s 22us/sample - loss: 0.2098 - val_loss: 0.4146\n",
      "Epoch 190/600\n",
      "316175/316175 [==============================] - 7s 22us/sample - loss: 0.2094 - val_loss: 0.4152\n",
      "Epoch 191/600\n",
      "316175/316175 [==============================] - 7s 22us/sample - loss: 0.2101 - val_loss: 0.4136\n",
      "Epoch 192/600\n",
      "316175/316175 [==============================] - 7s 22us/sample - loss: 0.2095 - val_loss: 0.4103\n",
      "Epoch 193/600\n",
      "316175/316175 [==============================] - 7s 22us/sample - loss: 0.2094 - val_loss: 0.4260\n",
      "Epoch 194/600\n",
      "316175/316175 [==============================] - 7s 22us/sample - loss: 0.2093 - val_loss: 0.4198\n",
      "Epoch 195/600\n",
      "316175/316175 [==============================] - 7s 21us/sample - loss: 0.2091 - val_loss: 0.4160\n",
      "Epoch 196/600\n",
      "316175/316175 [==============================] - 7s 21us/sample - loss: 0.2094 - val_loss: 0.4174\n",
      "Epoch 197/600\n",
      "316175/316175 [==============================] - 7s 22us/sample - loss: 0.2086 - val_loss: 0.4149\n",
      "Epoch 198/600\n",
      "316175/316175 [==============================] - 7s 23us/sample - loss: 0.2090 - val_loss: 0.4242\n",
      "Epoch 199/600\n",
      "316175/316175 [==============================] - 7s 22us/sample - loss: 0.2087 - val_loss: 0.4235\n",
      "Epoch 200/600\n",
      "316175/316175 [==============================] - 7s 22us/sample - loss: 0.2089 - val_loss: 0.4217\n",
      "Epoch 201/600\n",
      "316175/316175 [==============================] - 7s 22us/sample - loss: 0.2084 - val_loss: 0.4273\n",
      "Epoch 202/600\n",
      "316175/316175 [==============================] - 7s 22us/sample - loss: 0.2085 - val_loss: 0.4173\n",
      "Epoch 203/600\n",
      "316175/316175 [==============================] - 7s 22us/sample - loss: 0.2085 - val_loss: 0.4216\n",
      "Epoch 204/600\n",
      "316175/316175 [==============================] - 7s 22us/sample - loss: 0.2083 - val_loss: 0.4232\n",
      "Epoch 205/600\n",
      "316175/316175 [==============================] - 7s 21us/sample - loss: 0.2080 - val_loss: 0.4283\n",
      "Epoch 206/600\n",
      "316175/316175 [==============================] - 7s 22us/sample - loss: 0.2080 - val_loss: 0.4196\n",
      "Epoch 207/600\n",
      "316175/316175 [==============================] - 7s 23us/sample - loss: 0.2079 - val_loss: 0.4317\n",
      "Epoch 208/600\n",
      "316175/316175 [==============================] - 7s 22us/sample - loss: 0.2080 - val_loss: 0.4258\n",
      "Epoch 209/600\n",
      "316175/316175 [==============================] - 7s 22us/sample - loss: 0.2078 - val_loss: 0.4250\n",
      "Epoch 210/600\n",
      "316175/316175 [==============================] - 7s 23us/sample - loss: 0.2071 - val_loss: 0.4257\n",
      "Epoch 211/600\n",
      "316175/316175 [==============================] - 7s 22us/sample - loss: 0.2075 - val_loss: 0.4285\n",
      "Epoch 212/600\n",
      "316175/316175 [==============================] - 7s 23us/sample - loss: 0.2074 - val_loss: 0.4394\n",
      "Epoch 213/600\n",
      "316175/316175 [==============================] - 7s 22us/sample - loss: 0.2070 - val_loss: 0.4259\n",
      "Epoch 214/600\n",
      "316175/316175 [==============================] - 7s 22us/sample - loss: 0.2070 - val_loss: 0.4296\n",
      "Epoch 215/600\n",
      "316175/316175 [==============================] - 7s 22us/sample - loss: 0.2072 - val_loss: 0.4239\n",
      "Epoch 216/600\n",
      "316175/316175 [==============================] - 7s 22us/sample - loss: 0.2064 - val_loss: 0.4352\n",
      "Epoch 217/600\n",
      "316175/316175 [==============================] - 7s 22us/sample - loss: 0.2073 - val_loss: 0.4308\n",
      "Epoch 218/600\n",
      "316175/316175 [==============================] - 7s 22us/sample - loss: 0.2068 - val_loss: 0.4333\n",
      "Epoch 219/600\n",
      "316175/316175 [==============================] - 7s 22us/sample - loss: 0.2066 - val_loss: 0.4357\n",
      "Epoch 220/600\n"
     ]
    },
    {
     "name": "stdout",
     "output_type": "stream",
     "text": [
      "316175/316175 [==============================] - 7s 23us/sample - loss: 0.2071 - val_loss: 0.4439\n",
      "Epoch 221/600\n",
      "316175/316175 [==============================] - 7s 23us/sample - loss: 0.2064 - val_loss: 0.4396\n",
      "Epoch 222/600\n",
      "316175/316175 [==============================] - 7s 23us/sample - loss: 0.2065 - val_loss: 0.4547\n",
      "Epoch 223/600\n",
      "316175/316175 [==============================] - 8s 24us/sample - loss: 0.2072 - val_loss: 0.4346\n",
      "Epoch 224/600\n",
      "316175/316175 [==============================] - 7s 21us/sample - loss: 0.2062 - val_loss: 0.4472\n",
      "Epoch 225/600\n",
      "316175/316175 [==============================] - 7s 21us/sample - loss: 0.2059 - val_loss: 0.4447\n",
      "Epoch 226/600\n",
      "316175/316175 [==============================] - 7s 22us/sample - loss: 0.2064 - val_loss: 0.4437\n",
      "Epoch 227/600\n",
      "316175/316175 [==============================] - 7s 21us/sample - loss: 0.2061 - val_loss: 0.4372\n",
      "Epoch 228/600\n",
      "316175/316175 [==============================] - 7s 21us/sample - loss: 0.2066 - val_loss: 0.4397\n",
      "Epoch 229/600\n",
      "316175/316175 [==============================] - 6s 19us/sample - loss: 0.2059 - val_loss: 0.4446\n",
      "Epoch 230/600\n",
      "316175/316175 [==============================] - 7s 23us/sample - loss: 0.2060 - val_loss: 0.4417\n",
      "Epoch 231/600\n",
      "316175/316175 [==============================] - 6s 19us/sample - loss: 0.2057 - val_loss: 0.4526\n",
      "Epoch 232/600\n",
      "316175/316175 [==============================] - 6s 19us/sample - loss: 0.2057 - val_loss: 0.4488\n",
      "Epoch 233/600\n",
      "316175/316175 [==============================] - 6s 19us/sample - loss: 0.2054 - val_loss: 0.4399\n",
      "Epoch 234/600\n",
      "316175/316175 [==============================] - 6s 19us/sample - loss: 0.2056 - val_loss: 0.4395\n",
      "Epoch 235/600\n",
      "316175/316175 [==============================] - 6s 20us/sample - loss: 0.2054 - val_loss: 0.4481\n",
      "Epoch 236/600\n",
      "316175/316175 [==============================] - 7s 22us/sample - loss: 0.2051 - val_loss: 0.4465\n",
      "Epoch 237/600\n",
      "316175/316175 [==============================] - 6s 19us/sample - loss: 0.2053 - val_loss: 0.4474\n",
      "Epoch 238/600\n",
      "316175/316175 [==============================] - 6s 18us/sample - loss: 0.2057 - val_loss: 0.4458\n",
      "Epoch 239/600\n",
      "316175/316175 [==============================] - 6s 18us/sample - loss: 0.2054 - val_loss: 0.4448\n",
      "Epoch 240/600\n",
      "316175/316175 [==============================] - 6s 19us/sample - loss: 0.2056 - val_loss: 0.4472\n",
      "Epoch 241/600\n",
      "316175/316175 [==============================] - 6s 18us/sample - loss: 0.2045 - val_loss: 0.4493\n",
      "Epoch 242/600\n",
      "316175/316175 [==============================] - 6s 18us/sample - loss: 0.2047 - val_loss: 0.4551\n",
      "Epoch 243/600\n",
      "316175/316175 [==============================] - 6s 18us/sample - loss: 0.2050 - val_loss: 0.4569\n",
      "Epoch 244/600\n",
      "316175/316175 [==============================] - 6s 18us/sample - loss: 0.2051 - val_loss: 0.4592\n",
      "Epoch 245/600\n",
      "316175/316175 [==============================] - 6s 18us/sample - loss: 0.2052 - val_loss: 0.4646\n",
      "Epoch 246/600\n",
      "316175/316175 [==============================] - 6s 19us/sample - loss: 0.2054 - val_loss: 0.4608\n",
      "Epoch 247/600\n",
      "316175/316175 [==============================] - 6s 19us/sample - loss: 0.2040 - val_loss: 0.4569\n",
      "Epoch 248/600\n",
      "316175/316175 [==============================] - 7s 21us/sample - loss: 0.2046 - val_loss: 0.4614\n",
      "Epoch 249/600\n",
      "316175/316175 [==============================] - 6s 18us/sample - loss: 0.2047 - val_loss: 0.4554\n",
      "Epoch 250/600\n",
      "316175/316175 [==============================] - 6s 20us/sample - loss: 0.2040 - val_loss: 0.4573\n",
      "Epoch 251/600\n",
      "316175/316175 [==============================] - 6s 19us/sample - loss: 0.2042 - val_loss: 0.4565\n",
      "Epoch 252/600\n",
      "316175/316175 [==============================] - 6s 20us/sample - loss: 0.2044 - val_loss: 0.4558\n",
      "Epoch 253/600\n",
      "316175/316175 [==============================] - 6s 19us/sample - loss: 0.2045 - val_loss: 0.4552\n",
      "Epoch 254/600\n",
      "316175/316175 [==============================] - 6s 19us/sample - loss: 0.2048 - val_loss: 0.4602\n",
      "Epoch 255/600\n",
      "316175/316175 [==============================] - 6s 19us/sample - loss: 0.2038 - val_loss: 0.4654\n",
      "Epoch 256/600\n",
      "316175/316175 [==============================] - 6s 19us/sample - loss: 0.2037 - val_loss: 0.4651\n",
      "Epoch 257/600\n",
      "316175/316175 [==============================] - 6s 19us/sample - loss: 0.2043 - val_loss: 0.4710\n",
      "Epoch 258/600\n",
      "316175/316175 [==============================] - 6s 19us/sample - loss: 0.2037 - val_loss: 0.4681\n",
      "Epoch 259/600\n",
      "316175/316175 [==============================] - 6s 18us/sample - loss: 0.2040 - val_loss: 0.4556\n",
      "Epoch 260/600\n",
      "316175/316175 [==============================] - 6s 19us/sample - loss: 0.2040 - val_loss: 0.4684\n",
      "Epoch 261/600\n",
      "316175/316175 [==============================] - 6s 19us/sample - loss: 0.2034 - val_loss: 0.4639\n",
      "Epoch 262/600\n",
      "316175/316175 [==============================] - 6s 19us/sample - loss: 0.2034 - val_loss: 0.4757\n",
      "Epoch 263/600\n",
      "316175/316175 [==============================] - 6s 19us/sample - loss: 0.2036 - val_loss: 0.4650\n",
      "Epoch 264/600\n",
      "316175/316175 [==============================] - 6s 19us/sample - loss: 0.2039 - val_loss: 0.4604\n",
      "Epoch 265/600\n",
      "316175/316175 [==============================] - 6s 20us/sample - loss: 0.2034 - val_loss: 0.4623\n",
      "Epoch 266/600\n",
      "316175/316175 [==============================] - 6s 19us/sample - loss: 0.2031 - val_loss: 0.4684\n",
      "Epoch 267/600\n",
      "316175/316175 [==============================] - 6s 19us/sample - loss: 0.2033 - val_loss: 0.4627\n",
      "Epoch 268/600\n",
      "316175/316175 [==============================] - 6s 19us/sample - loss: 0.2034 - val_loss: 0.4745\n",
      "Epoch 269/600\n",
      "316175/316175 [==============================] - 6s 19us/sample - loss: 0.2037 - val_loss: 0.4542\n",
      "Epoch 270/600\n",
      "316175/316175 [==============================] - 6s 20us/sample - loss: 0.2031 - val_loss: 0.4759\n",
      "Epoch 271/600\n",
      "316175/316175 [==============================] - 7s 21us/sample - loss: 0.2031 - val_loss: 0.4847\n",
      "Epoch 272/600\n",
      "316175/316175 [==============================] - 7s 21us/sample - loss: 0.2028 - val_loss: 0.4746\n",
      "Epoch 273/600\n",
      "316175/316175 [==============================] - 6s 18us/sample - loss: 0.2028 - val_loss: 0.4703\n",
      "Epoch 274/600\n",
      "316175/316175 [==============================] - 6s 18us/sample - loss: 0.2034 - val_loss: 0.4689\n",
      "Epoch 275/600\n",
      "316175/316175 [==============================] - 6s 19us/sample - loss: 0.2028 - val_loss: 0.4715\n",
      "Epoch 276/600\n",
      "316175/316175 [==============================] - 6s 20us/sample - loss: 0.2028 - val_loss: 0.4808\n",
      "Epoch 277/600\n",
      "316175/316175 [==============================] - 6s 19us/sample - loss: 0.2026 - val_loss: 0.4812\n",
      "Epoch 278/600\n",
      "316175/316175 [==============================] - 6s 19us/sample - loss: 0.2027 - val_loss: 0.4786\n",
      "Epoch 279/600\n",
      "316175/316175 [==============================] - 6s 19us/sample - loss: 0.2027 - val_loss: 0.4798\n",
      "Epoch 280/600\n",
      "316175/316175 [==============================] - 6s 20us/sample - loss: 0.2022 - val_loss: 0.4860\n",
      "Epoch 281/600\n",
      "316175/316175 [==============================] - 6s 19us/sample - loss: 0.2023 - val_loss: 0.4748\n",
      "Epoch 282/600\n",
      "316175/316175 [==============================] - 6s 19us/sample - loss: 0.2025 - val_loss: 0.4759\n",
      "Epoch 283/600\n",
      "316175/316175 [==============================] - 6s 19us/sample - loss: 0.2024 - val_loss: 0.4718\n",
      "Epoch 284/600\n",
      "316175/316175 [==============================] - 6s 19us/sample - loss: 0.2019 - val_loss: 0.4701\n",
      "Epoch 285/600\n",
      "316175/316175 [==============================] - 6s 19us/sample - loss: 0.2021 - val_loss: 0.4875\n",
      "Epoch 286/600\n",
      "316175/316175 [==============================] - 6s 19us/sample - loss: 0.2021 - val_loss: 0.4827\n",
      "Epoch 287/600\n",
      "316175/316175 [==============================] - 6s 19us/sample - loss: 0.2031 - val_loss: 0.4695\n",
      "Epoch 288/600\n",
      "316175/316175 [==============================] - 6s 19us/sample - loss: 0.2018 - val_loss: 0.4711\n",
      "Epoch 289/600\n",
      "316175/316175 [==============================] - 6s 20us/sample - loss: 0.2017 - val_loss: 0.4771\n",
      "Epoch 290/600\n",
      "316175/316175 [==============================] - 6s 19us/sample - loss: 0.2020 - val_loss: 0.4828\n",
      "Epoch 291/600\n",
      "316175/316175 [==============================] - 6s 19us/sample - loss: 0.2027 - val_loss: 0.4783\n",
      "Epoch 292/600\n",
      "316175/316175 [==============================] - 6s 20us/sample - loss: 0.2019 - val_loss: 0.4852\n",
      "Epoch 293/600\n"
     ]
    },
    {
     "name": "stdout",
     "output_type": "stream",
     "text": [
      "316175/316175 [==============================] - 6s 19us/sample - loss: 0.2014 - val_loss: 0.4776\n",
      "Epoch 294/600\n",
      "316175/316175 [==============================] - 6s 19us/sample - loss: 0.2016 - val_loss: 0.4947\n",
      "Epoch 295/600\n",
      "316175/316175 [==============================] - 6s 19us/sample - loss: 0.2016 - val_loss: 0.4878\n",
      "Epoch 296/600\n",
      "316175/316175 [==============================] - 6s 19us/sample - loss: 0.2016 - val_loss: 0.4751\n",
      "Epoch 297/600\n",
      "316175/316175 [==============================] - 6s 19us/sample - loss: 0.2018 - val_loss: 0.4847\n",
      "Epoch 298/600\n",
      "316175/316175 [==============================] - 6s 20us/sample - loss: 0.2017 - val_loss: 0.4837\n",
      "Epoch 299/600\n",
      "316175/316175 [==============================] - 5s 16us/sample - loss: 0.2021 - val_loss: 0.4756\n",
      "Epoch 300/600\n",
      "316175/316175 [==============================] - 2s 6us/sample - loss: 0.2014 - val_loss: 0.4958\n",
      "Epoch 301/600\n",
      "316175/316175 [==============================] - 2s 6us/sample - loss: 0.2013 - val_loss: 0.4881\n",
      "Epoch 302/600\n",
      "316175/316175 [==============================] - 2s 6us/sample - loss: 0.2009 - val_loss: 0.4840\n",
      "Epoch 303/600\n",
      "316175/316175 [==============================] - 2s 7us/sample - loss: 0.2013 - val_loss: 0.4881\n",
      "Epoch 304/600\n",
      "316175/316175 [==============================] - 2s 6us/sample - loss: 0.2012 - val_loss: 0.4799\n",
      "Epoch 305/600\n",
      "316175/316175 [==============================] - 2s 6us/sample - loss: 0.2009 - val_loss: 0.4843\n",
      "Epoch 306/600\n",
      "316175/316175 [==============================] - 2s 6us/sample - loss: 0.2013 - val_loss: 0.4861\n",
      "Epoch 307/600\n",
      "316175/316175 [==============================] - 2s 7us/sample - loss: 0.2008 - val_loss: 0.4807\n",
      "Epoch 308/600\n",
      "316175/316175 [==============================] - 2s 6us/sample - loss: 0.2013 - val_loss: 0.4848\n",
      "Epoch 309/600\n",
      "316175/316175 [==============================] - 2s 6us/sample - loss: 0.2011 - val_loss: 0.4897\n",
      "Epoch 310/600\n",
      "316175/316175 [==============================] - 2s 6us/sample - loss: 0.2010 - val_loss: 0.5018\n",
      "Epoch 311/600\n",
      "316175/316175 [==============================] - 2s 6us/sample - loss: 0.2011 - val_loss: 0.4914\n",
      "Epoch 312/600\n",
      "316175/316175 [==============================] - 2s 6us/sample - loss: 0.2003 - val_loss: 0.4960\n",
      "Epoch 313/600\n",
      "316175/316175 [==============================] - 2s 6us/sample - loss: 0.2010 - val_loss: 0.4973\n",
      "Epoch 314/600\n",
      "316175/316175 [==============================] - 2s 6us/sample - loss: 0.2008 - val_loss: 0.4938\n",
      "Epoch 315/600\n",
      "316175/316175 [==============================] - 2s 6us/sample - loss: 0.2000 - val_loss: 0.4881\n",
      "Epoch 316/600\n",
      "316175/316175 [==============================] - 2s 6us/sample - loss: 0.2005 - val_loss: 0.5021\n",
      "Epoch 317/600\n",
      "316175/316175 [==============================] - 2s 6us/sample - loss: 0.2004 - val_loss: 0.4991\n",
      "Epoch 318/600\n",
      "316175/316175 [==============================] - 2s 6us/sample - loss: 0.2005 - val_loss: 0.5006\n",
      "Epoch 319/600\n",
      "316175/316175 [==============================] - 2s 6us/sample - loss: 0.2002 - val_loss: 0.4947\n",
      "Epoch 320/600\n",
      "316175/316175 [==============================] - 2s 6us/sample - loss: 0.1996 - val_loss: 0.4863\n",
      "Epoch 321/600\n",
      "316175/316175 [==============================] - 2s 6us/sample - loss: 0.2004 - val_loss: 0.4976\n",
      "Epoch 322/600\n",
      "316175/316175 [==============================] - 2s 6us/sample - loss: 0.2003 - val_loss: 0.4977\n",
      "Epoch 323/600\n",
      "316175/316175 [==============================] - 2s 6us/sample - loss: 0.2000 - val_loss: 0.5009\n",
      "Epoch 324/600\n",
      "316175/316175 [==============================] - 2s 6us/sample - loss: 0.2004 - val_loss: 0.5053\n",
      "Epoch 325/600\n",
      "316175/316175 [==============================] - 2s 6us/sample - loss: 0.2001 - val_loss: 0.4937\n",
      "Epoch 326/600\n",
      "316175/316175 [==============================] - 2s 6us/sample - loss: 0.2009 - val_loss: 0.4971\n",
      "Epoch 327/600\n",
      "316175/316175 [==============================] - 2s 6us/sample - loss: 0.1994 - val_loss: 0.4983\n",
      "Epoch 328/600\n",
      "316175/316175 [==============================] - 2s 6us/sample - loss: 0.2000 - val_loss: 0.5115\n",
      "Epoch 329/600\n",
      "316175/316175 [==============================] - 2s 6us/sample - loss: 0.1998 - val_loss: 0.5063\n",
      "Epoch 330/600\n",
      "316175/316175 [==============================] - 2s 6us/sample - loss: 0.2000 - val_loss: 0.5001\n",
      "Epoch 331/600\n",
      "316175/316175 [==============================] - 2s 6us/sample - loss: 0.1998 - val_loss: 0.5100\n",
      "Epoch 332/600\n",
      "316175/316175 [==============================] - 2s 6us/sample - loss: 0.1995 - val_loss: 0.5010\n",
      "Epoch 333/600\n",
      "316175/316175 [==============================] - 2s 6us/sample - loss: 0.1995 - val_loss: 0.5039\n",
      "Epoch 334/600\n",
      "316175/316175 [==============================] - 2s 6us/sample - loss: 0.1995 - val_loss: 0.5051\n",
      "Epoch 335/600\n",
      "316175/316175 [==============================] - 2s 6us/sample - loss: 0.1994 - val_loss: 0.5041\n",
      "Epoch 336/600\n",
      "316175/316175 [==============================] - 2s 6us/sample - loss: 0.1998 - val_loss: 0.5188\n",
      "Epoch 337/600\n",
      "316175/316175 [==============================] - 2s 6us/sample - loss: 0.2000 - val_loss: 0.5070\n",
      "Epoch 338/600\n",
      "316175/316175 [==============================] - 2s 6us/sample - loss: 0.1994 - val_loss: 0.5133\n",
      "Epoch 339/600\n",
      "316175/316175 [==============================] - 2s 6us/sample - loss: 0.1993 - val_loss: 0.5074\n",
      "Epoch 340/600\n",
      "316175/316175 [==============================] - 2s 6us/sample - loss: 0.2002 - val_loss: 0.5069\n",
      "Epoch 341/600\n",
      "316175/316175 [==============================] - 2s 6us/sample - loss: 0.1993 - val_loss: 0.5016\n",
      "Epoch 342/600\n",
      "316175/316175 [==============================] - 2s 6us/sample - loss: 0.1995 - val_loss: 0.5097\n",
      "Epoch 343/600\n",
      "316175/316175 [==============================] - 2s 6us/sample - loss: 0.1990 - val_loss: 0.5235\n",
      "Epoch 344/600\n",
      "316175/316175 [==============================] - 2s 6us/sample - loss: 0.1992 - val_loss: 0.5077\n",
      "Epoch 345/600\n",
      "316175/316175 [==============================] - 2s 6us/sample - loss: 0.1990 - val_loss: 0.5101\n",
      "Epoch 346/600\n",
      "316175/316175 [==============================] - 2s 6us/sample - loss: 0.1988 - val_loss: 0.5002\n",
      "Epoch 347/600\n",
      "316175/316175 [==============================] - 2s 6us/sample - loss: 0.1990 - val_loss: 0.5080\n",
      "Epoch 348/600\n",
      "316175/316175 [==============================] - 2s 6us/sample - loss: 0.1995 - val_loss: 0.5083\n",
      "Epoch 349/600\n",
      "316175/316175 [==============================] - 2s 6us/sample - loss: 0.1993 - val_loss: 0.5154\n",
      "Epoch 350/600\n",
      "316175/316175 [==============================] - 2s 6us/sample - loss: 0.1984 - val_loss: 0.5202\n",
      "Epoch 351/600\n",
      "316175/316175 [==============================] - 2s 6us/sample - loss: 0.1994 - val_loss: 0.5134\n",
      "Epoch 352/600\n",
      "316175/316175 [==============================] - 2s 6us/sample - loss: 0.1985 - val_loss: 0.5127\n",
      "Epoch 353/600\n",
      "316175/316175 [==============================] - 2s 6us/sample - loss: 0.1983 - val_loss: 0.5080\n",
      "Epoch 354/600\n",
      "316175/316175 [==============================] - 2s 6us/sample - loss: 0.1991 - val_loss: 0.5096\n",
      "Epoch 355/600\n",
      "316175/316175 [==============================] - 2s 6us/sample - loss: 0.1988 - val_loss: 0.5155\n",
      "Epoch 356/600\n",
      "316175/316175 [==============================] - 2s 6us/sample - loss: 0.1992 - val_loss: 0.5135\n",
      "Epoch 357/600\n",
      "316175/316175 [==============================] - 2s 6us/sample - loss: 0.1983 - val_loss: 0.5191\n",
      "Epoch 358/600\n",
      "316175/316175 [==============================] - 2s 7us/sample - loss: 0.1988 - val_loss: 0.5250\n",
      "Epoch 359/600\n",
      "316175/316175 [==============================] - 2s 6us/sample - loss: 0.1989 - val_loss: 0.5180\n",
      "Epoch 360/600\n",
      "316175/316175 [==============================] - 2s 6us/sample - loss: 0.1987 - val_loss: 0.5214\n",
      "Epoch 361/600\n",
      "316175/316175 [==============================] - 2s 6us/sample - loss: 0.1981 - val_loss: 0.5149\n",
      "Epoch 362/600\n",
      "316175/316175 [==============================] - 2s 6us/sample - loss: 0.1981 - val_loss: 0.5182\n",
      "Epoch 363/600\n",
      "316175/316175 [==============================] - 2s 6us/sample - loss: 0.1988 - val_loss: 0.5214\n",
      "Epoch 364/600\n",
      "316175/316175 [==============================] - 2s 6us/sample - loss: 0.1981 - val_loss: 0.5164\n",
      "Epoch 365/600\n",
      "316175/316175 [==============================] - 2s 6us/sample - loss: 0.1980 - val_loss: 0.5254\n",
      "Epoch 366/600\n",
      "316175/316175 [==============================] - 2s 6us/sample - loss: 0.1977 - val_loss: 0.5210\n"
     ]
    },
    {
     "name": "stdout",
     "output_type": "stream",
     "text": [
      "Epoch 367/600\n",
      "316175/316175 [==============================] - 2s 6us/sample - loss: 0.1997 - val_loss: 0.5217\n",
      "Epoch 368/600\n",
      "316175/316175 [==============================] - 2s 6us/sample - loss: 0.1975 - val_loss: 0.5215\n",
      "Epoch 369/600\n",
      "316175/316175 [==============================] - 2s 6us/sample - loss: 0.1976 - val_loss: 0.5260\n",
      "Epoch 370/600\n",
      "316175/316175 [==============================] - 2s 6us/sample - loss: 0.1981 - val_loss: 0.5137\n",
      "Epoch 371/600\n",
      "316175/316175 [==============================] - 2s 6us/sample - loss: 0.1980 - val_loss: 0.5197\n",
      "Epoch 372/600\n",
      "316175/316175 [==============================] - 2s 6us/sample - loss: 0.1978 - val_loss: 0.5319\n",
      "Epoch 373/600\n",
      "316175/316175 [==============================] - 2s 6us/sample - loss: 0.1978 - val_loss: 0.5150\n",
      "Epoch 374/600\n",
      "316175/316175 [==============================] - 2s 6us/sample - loss: 0.1984 - val_loss: 0.5130\n",
      "Epoch 375/600\n",
      "316175/316175 [==============================] - 2s 6us/sample - loss: 0.1982 - val_loss: 0.5147\n",
      "Epoch 376/600\n",
      "316175/316175 [==============================] - 2s 6us/sample - loss: 0.1978 - val_loss: 0.5203\n",
      "Epoch 377/600\n",
      "316175/316175 [==============================] - 2s 6us/sample - loss: 0.1973 - val_loss: 0.5281\n",
      "Epoch 378/600\n",
      "316175/316175 [==============================] - 2s 6us/sample - loss: 0.1975 - val_loss: 0.5154\n",
      "Epoch 379/600\n",
      "316175/316175 [==============================] - 2s 6us/sample - loss: 0.1975 - val_loss: 0.5204\n",
      "Epoch 380/600\n",
      "316175/316175 [==============================] - 2s 6us/sample - loss: 0.1975 - val_loss: 0.5260\n",
      "Epoch 381/600\n",
      "316175/316175 [==============================] - 2s 6us/sample - loss: 0.1972 - val_loss: 0.5302\n",
      "Epoch 382/600\n",
      "316175/316175 [==============================] - 2s 6us/sample - loss: 0.1983 - val_loss: 0.5295\n",
      "Epoch 383/600\n",
      "316175/316175 [==============================] - 2s 6us/sample - loss: 0.1973 - val_loss: 0.5343\n",
      "Epoch 384/600\n",
      "316175/316175 [==============================] - 2s 6us/sample - loss: 0.1974 - val_loss: 0.5245\n",
      "Epoch 385/600\n",
      "316175/316175 [==============================] - 2s 6us/sample - loss: 0.1976 - val_loss: 0.5345\n",
      "Epoch 386/600\n",
      "316175/316175 [==============================] - 2s 6us/sample - loss: 0.1975 - val_loss: 0.5306\n",
      "Epoch 387/600\n",
      "316175/316175 [==============================] - 2s 6us/sample - loss: 0.1972 - val_loss: 0.5255\n",
      "Epoch 388/600\n",
      "316175/316175 [==============================] - 2s 7us/sample - loss: 0.1971 - val_loss: 0.5300\n",
      "Epoch 389/600\n",
      "316175/316175 [==============================] - 2s 7us/sample - loss: 0.1971 - val_loss: 0.5251\n",
      "Epoch 390/600\n",
      "316175/316175 [==============================] - 2s 6us/sample - loss: 0.1977 - val_loss: 0.5335\n",
      "Epoch 391/600\n",
      "316175/316175 [==============================] - 2s 6us/sample - loss: 0.1972 - val_loss: 0.5338\n",
      "Epoch 392/600\n",
      "316175/316175 [==============================] - 2s 6us/sample - loss: 0.1966 - val_loss: 0.5285\n",
      "Epoch 393/600\n",
      "316175/316175 [==============================] - 2s 6us/sample - loss: 0.1977 - val_loss: 0.5166\n",
      "Epoch 394/600\n",
      "316175/316175 [==============================] - 2s 6us/sample - loss: 0.1974 - val_loss: 0.5281\n",
      "Epoch 395/600\n",
      "316175/316175 [==============================] - 2s 6us/sample - loss: 0.1967 - val_loss: 0.5345\n",
      "Epoch 396/600\n",
      "316175/316175 [==============================] - 2s 6us/sample - loss: 0.1977 - val_loss: 0.5268\n",
      "Epoch 397/600\n",
      "316175/316175 [==============================] - 2s 6us/sample - loss: 0.1965 - val_loss: 0.5317\n",
      "Epoch 398/600\n",
      "316175/316175 [==============================] - 2s 6us/sample - loss: 0.1966 - val_loss: 0.5384\n",
      "Epoch 399/600\n",
      "316175/316175 [==============================] - 2s 6us/sample - loss: 0.1975 - val_loss: 0.5239\n",
      "Epoch 400/600\n",
      "316175/316175 [==============================] - 2s 6us/sample - loss: 0.1967 - val_loss: 0.5374\n",
      "Epoch 401/600\n",
      "316175/316175 [==============================] - 2s 6us/sample - loss: 0.1967 - val_loss: 0.5272\n",
      "Epoch 402/600\n",
      "316175/316175 [==============================] - 2s 7us/sample - loss: 0.1964 - val_loss: 0.5364\n",
      "Epoch 403/600\n",
      "316175/316175 [==============================] - 2s 6us/sample - loss: 0.1967 - val_loss: 0.5399\n",
      "Epoch 404/600\n",
      "316175/316175 [==============================] - 2s 6us/sample - loss: 0.1965 - val_loss: 0.5500\n",
      "Epoch 405/600\n",
      "316175/316175 [==============================] - 2s 7us/sample - loss: 0.1971 - val_loss: 0.5361\n",
      "Epoch 406/600\n",
      "316175/316175 [==============================] - 2s 6us/sample - loss: 0.1965 - val_loss: 0.5392\n",
      "Epoch 407/600\n",
      "316175/316175 [==============================] - 2s 6us/sample - loss: 0.1965 - val_loss: 0.5383\n",
      "Epoch 408/600\n",
      "316175/316175 [==============================] - 2s 6us/sample - loss: 0.1957 - val_loss: 0.5380\n",
      "Epoch 409/600\n",
      "316175/316175 [==============================] - 2s 7us/sample - loss: 0.1971 - val_loss: 0.5339\n",
      "Epoch 410/600\n",
      "316175/316175 [==============================] - 2s 7us/sample - loss: 0.1968 - val_loss: 0.5475\n",
      "Epoch 411/600\n",
      "316175/316175 [==============================] - 2s 6us/sample - loss: 0.1975 - val_loss: 0.5433\n",
      "Epoch 412/600\n",
      "316175/316175 [==============================] - 2s 7us/sample - loss: 0.1959 - val_loss: 0.5378\n",
      "Epoch 413/600\n",
      "316175/316175 [==============================] - 2s 6us/sample - loss: 0.1959 - val_loss: 0.5355\n",
      "Epoch 414/600\n",
      "316175/316175 [==============================] - 2s 6us/sample - loss: 0.1966 - val_loss: 0.5303\n",
      "Epoch 415/600\n",
      "316175/316175 [==============================] - 2s 6us/sample - loss: 0.1968 - val_loss: 0.5359\n",
      "Epoch 416/600\n",
      "316175/316175 [==============================] - 2s 6us/sample - loss: 0.1958 - val_loss: 0.5491\n",
      "Epoch 417/600\n",
      "316175/316175 [==============================] - 2s 6us/sample - loss: 0.1959 - val_loss: 0.5460\n",
      "Epoch 418/600\n",
      "316175/316175 [==============================] - 2s 6us/sample - loss: 0.1968 - val_loss: 0.5456\n",
      "Epoch 419/600\n",
      "316175/316175 [==============================] - 2s 6us/sample - loss: 0.1961 - val_loss: 0.5402\n",
      "Epoch 420/600\n",
      "316175/316175 [==============================] - 2s 7us/sample - loss: 0.1955 - val_loss: 0.5327\n",
      "Epoch 421/600\n",
      "316175/316175 [==============================] - 2s 6us/sample - loss: 0.1958 - val_loss: 0.5451\n",
      "Epoch 422/600\n",
      "316175/316175 [==============================] - 2s 7us/sample - loss: 0.1962 - val_loss: 0.5420\n",
      "Epoch 423/600\n",
      "316175/316175 [==============================] - 2s 6us/sample - loss: 0.1960 - val_loss: 0.5360\n",
      "Epoch 424/600\n",
      "316175/316175 [==============================] - 2s 6us/sample - loss: 0.1960 - val_loss: 0.5427\n",
      "Epoch 425/600\n",
      "316175/316175 [==============================] - 2s 6us/sample - loss: 0.1958 - val_loss: 0.5511\n",
      "Epoch 426/600\n",
      "316175/316175 [==============================] - 2s 6us/sample - loss: 0.1962 - val_loss: 0.5522\n",
      "Epoch 427/600\n",
      "316175/316175 [==============================] - 2s 6us/sample - loss: 0.1956 - val_loss: 0.5401\n",
      "Epoch 428/600\n",
      "316175/316175 [==============================] - 2s 7us/sample - loss: 0.1953 - val_loss: 0.5536\n",
      "Epoch 429/600\n",
      "316175/316175 [==============================] - 2s 6us/sample - loss: 0.1954 - val_loss: 0.5451\n",
      "Epoch 430/600\n",
      "316175/316175 [==============================] - 2s 6us/sample - loss: 0.1958 - val_loss: 0.5404\n",
      "Epoch 431/600\n",
      "316175/316175 [==============================] - 2s 6us/sample - loss: 0.1959 - val_loss: 0.5368\n",
      "Epoch 432/600\n",
      "316175/316175 [==============================] - 2s 6us/sample - loss: 0.1959 - val_loss: 0.5472\n",
      "Epoch 433/600\n",
      "316175/316175 [==============================] - 2s 7us/sample - loss: 0.1948 - val_loss: 0.5455\n",
      "Epoch 434/600\n",
      "316175/316175 [==============================] - 2s 6us/sample - loss: 0.1959 - val_loss: 0.5594\n",
      "Epoch 435/600\n",
      "316175/316175 [==============================] - 2s 7us/sample - loss: 0.1957 - val_loss: 0.5434\n",
      "Epoch 436/600\n",
      "316175/316175 [==============================] - 2s 7us/sample - loss: 0.1960 - val_loss: 0.5529\n",
      "Epoch 437/600\n",
      "316175/316175 [==============================] - 2s 7us/sample - loss: 0.1956 - val_loss: 0.5486\n",
      "Epoch 438/600\n",
      "316175/316175 [==============================] - 2s 7us/sample - loss: 0.1949 - val_loss: 0.5567\n",
      "Epoch 439/600\n",
      "316175/316175 [==============================] - 2s 7us/sample - loss: 0.1955 - val_loss: 0.5627\n",
      "Epoch 440/600\n",
      "316175/316175 [==============================] - 2s 6us/sample - loss: 0.1949 - val_loss: 0.5567\n"
     ]
    },
    {
     "name": "stdout",
     "output_type": "stream",
     "text": [
      "Epoch 441/600\n",
      "316175/316175 [==============================] - 2s 6us/sample - loss: 0.1950 - val_loss: 0.5371\n",
      "Epoch 442/600\n",
      "316175/316175 [==============================] - 2s 6us/sample - loss: 0.1958 - val_loss: 0.5527\n",
      "Epoch 443/600\n",
      "316175/316175 [==============================] - 2s 6us/sample - loss: 0.1949 - val_loss: 0.5554\n",
      "Epoch 444/600\n",
      "316175/316175 [==============================] - 2s 6us/sample - loss: 0.1948 - val_loss: 0.5400\n",
      "Epoch 445/600\n",
      "316175/316175 [==============================] - 2s 7us/sample - loss: 0.1952 - val_loss: 0.5633\n",
      "Epoch 446/600\n",
      "316175/316175 [==============================] - 2s 7us/sample - loss: 0.1956 - val_loss: 0.5555\n",
      "Epoch 447/600\n",
      "316175/316175 [==============================] - 2s 6us/sample - loss: 0.1951 - val_loss: 0.5521\n",
      "Epoch 448/600\n",
      "316175/316175 [==============================] - 2s 6us/sample - loss: 0.1952 - val_loss: 0.5682\n",
      "Epoch 449/600\n",
      "316175/316175 [==============================] - 2s 6us/sample - loss: 0.1947 - val_loss: 0.5635\n",
      "Epoch 450/600\n",
      "316175/316175 [==============================] - 2s 5us/sample - loss: 0.1947 - val_loss: 0.5615\n",
      "Epoch 451/600\n",
      "316175/316175 [==============================] - 2s 6us/sample - loss: 0.1954 - val_loss: 0.5567\n",
      "Epoch 452/600\n",
      "316175/316175 [==============================] - 2s 6us/sample - loss: 0.1947 - val_loss: 0.5545\n",
      "Epoch 453/600\n",
      "316175/316175 [==============================] - 2s 7us/sample - loss: 0.1947 - val_loss: 0.5605\n",
      "Epoch 454/600\n",
      "316175/316175 [==============================] - 2s 6us/sample - loss: 0.1946 - val_loss: 0.5556\n",
      "Epoch 455/600\n",
      "316175/316175 [==============================] - 2s 6us/sample - loss: 0.1949 - val_loss: 0.5650\n",
      "Epoch 456/600\n",
      "316175/316175 [==============================] - 2s 6us/sample - loss: 0.1949 - val_loss: 0.5473\n",
      "Epoch 457/600\n",
      "316175/316175 [==============================] - 2s 6us/sample - loss: 0.1948 - val_loss: 0.5667\n",
      "Epoch 458/600\n",
      "316175/316175 [==============================] - 2s 6us/sample - loss: 0.1946 - val_loss: 0.5557\n",
      "Epoch 459/600\n",
      "316175/316175 [==============================] - 2s 6us/sample - loss: 0.1950 - val_loss: 0.5638\n",
      "Epoch 460/600\n",
      "316175/316175 [==============================] - 2s 7us/sample - loss: 0.1943 - val_loss: 0.5673\n",
      "Epoch 461/600\n",
      "316175/316175 [==============================] - 2s 6us/sample - loss: 0.1950 - val_loss: 0.5496\n",
      "Epoch 462/600\n",
      "316175/316175 [==============================] - 2s 6us/sample - loss: 0.1958 - val_loss: 0.5625\n",
      "Epoch 463/600\n",
      "316175/316175 [==============================] - 2s 6us/sample - loss: 0.1940 - val_loss: 0.5577\n",
      "Epoch 464/600\n",
      "316175/316175 [==============================] - 2s 7us/sample - loss: 0.1940 - val_loss: 0.5387\n",
      "Epoch 465/600\n",
      "316175/316175 [==============================] - 2s 6us/sample - loss: 0.1950 - val_loss: 0.5640\n",
      "Epoch 466/600\n",
      "316175/316175 [==============================] - 2s 6us/sample - loss: 0.1940 - val_loss: 0.5640\n",
      "Epoch 467/600\n",
      "316175/316175 [==============================] - 2s 6us/sample - loss: 0.1941 - val_loss: 0.5662\n",
      "Epoch 468/600\n",
      "316175/316175 [==============================] - 2s 6us/sample - loss: 0.1941 - val_loss: 0.5656\n",
      "Epoch 469/600\n",
      "316175/316175 [==============================] - 2s 7us/sample - loss: 0.1939 - val_loss: 0.5683\n",
      "Epoch 470/600\n",
      "316175/316175 [==============================] - 2s 6us/sample - loss: 0.1943 - val_loss: 0.5733\n",
      "Epoch 471/600\n",
      "316175/316175 [==============================] - 2s 6us/sample - loss: 0.1942 - val_loss: 0.5632\n",
      "Epoch 472/600\n",
      "316175/316175 [==============================] - 2s 6us/sample - loss: 0.1940 - val_loss: 0.5631\n",
      "Epoch 473/600\n",
      "316175/316175 [==============================] - 2s 6us/sample - loss: 0.1938 - val_loss: 0.5787\n",
      "Epoch 474/600\n",
      "316175/316175 [==============================] - 2s 7us/sample - loss: 0.1942 - val_loss: 0.5669\n",
      "Epoch 475/600\n",
      "316175/316175 [==============================] - 2s 6us/sample - loss: 0.1941 - val_loss: 0.5742\n",
      "Epoch 476/600\n",
      "316175/316175 [==============================] - 2s 6us/sample - loss: 0.1937 - val_loss: 0.5676\n",
      "Epoch 477/600\n",
      "316175/316175 [==============================] - 2s 6us/sample - loss: 0.1946 - val_loss: 0.5683\n",
      "Epoch 478/600\n",
      "316175/316175 [==============================] - 2s 6us/sample - loss: 0.1941 - val_loss: 0.5752\n",
      "Epoch 479/600\n",
      "316175/316175 [==============================] - 2s 7us/sample - loss: 0.1939 - val_loss: 0.5689\n",
      "Epoch 480/600\n",
      "316175/316175 [==============================] - 2s 7us/sample - loss: 0.1932 - val_loss: 0.5724\n",
      "Epoch 481/600\n",
      "316175/316175 [==============================] - 2s 7us/sample - loss: 0.1939 - val_loss: 0.5716\n",
      "Epoch 482/600\n",
      "316175/316175 [==============================] - 2s 6us/sample - loss: 0.1936 - val_loss: 0.5751\n",
      "Epoch 483/600\n",
      "316175/316175 [==============================] - 2s 6us/sample - loss: 0.1951 - val_loss: 0.5691\n",
      "Epoch 484/600\n",
      "316175/316175 [==============================] - 2s 6us/sample - loss: 0.1930 - val_loss: 0.5788\n",
      "Epoch 485/600\n",
      "316175/316175 [==============================] - 2s 7us/sample - loss: 0.1936 - val_loss: 0.5819\n",
      "Epoch 486/600\n",
      "316175/316175 [==============================] - 2s 7us/sample - loss: 0.1934 - val_loss: 0.5741\n",
      "Epoch 487/600\n",
      "316175/316175 [==============================] - 2s 6us/sample - loss: 0.1938 - val_loss: 0.5701\n",
      "Epoch 488/600\n",
      "316175/316175 [==============================] - 2s 6us/sample - loss: 0.1940 - val_loss: 0.5759\n",
      "Epoch 489/600\n",
      "316175/316175 [==============================] - 2s 6us/sample - loss: 0.1933 - val_loss: 0.5782\n",
      "Epoch 490/600\n",
      "316175/316175 [==============================] - 2s 6us/sample - loss: 0.1937 - val_loss: 0.5613\n",
      "Epoch 491/600\n",
      "316175/316175 [==============================] - 2s 6us/sample - loss: 0.1935 - val_loss: 0.5710\n",
      "Epoch 492/600\n",
      "316175/316175 [==============================] - 2s 6us/sample - loss: 0.1932 - val_loss: 0.5768\n",
      "Epoch 493/600\n",
      "316175/316175 [==============================] - 2s 6us/sample - loss: 0.1939 - val_loss: 0.5681\n",
      "Epoch 494/600\n",
      "316175/316175 [==============================] - 2s 7us/sample - loss: 0.1933 - val_loss: 0.5683\n",
      "Epoch 495/600\n",
      "316175/316175 [==============================] - 2s 7us/sample - loss: 0.1936 - val_loss: 0.5696\n",
      "Epoch 496/600\n",
      "316175/316175 [==============================] - 2s 6us/sample - loss: 0.1935 - val_loss: 0.5726\n",
      "Epoch 497/600\n",
      "316175/316175 [==============================] - 2s 7us/sample - loss: 0.1933 - val_loss: 0.5812\n",
      "Epoch 498/600\n",
      "316175/316175 [==============================] - 2s 6us/sample - loss: 0.1936 - val_loss: 0.5812\n",
      "Epoch 499/600\n",
      "316175/316175 [==============================] - 2s 6us/sample - loss: 0.1938 - val_loss: 0.5798\n",
      "Epoch 500/600\n",
      "316175/316175 [==============================] - 2s 6us/sample - loss: 0.1932 - val_loss: 0.5703\n",
      "Epoch 501/600\n",
      "316175/316175 [==============================] - 2s 6us/sample - loss: 0.1936 - val_loss: 0.5805\n",
      "Epoch 502/600\n",
      "316175/316175 [==============================] - 2s 7us/sample - loss: 0.1932 - val_loss: 0.5831\n",
      "Epoch 503/600\n",
      "316175/316175 [==============================] - 2s 6us/sample - loss: 0.1932 - val_loss: 0.5773\n",
      "Epoch 504/600\n",
      "316175/316175 [==============================] - 2s 6us/sample - loss: 0.1931 - val_loss: 0.5883\n",
      "Epoch 505/600\n",
      "316175/316175 [==============================] - 2s 6us/sample - loss: 0.1933 - val_loss: 0.5874\n",
      "Epoch 506/600\n",
      "316175/316175 [==============================] - 2s 7us/sample - loss: 0.1932 - val_loss: 0.5853\n",
      "Epoch 507/600\n",
      "316175/316175 [==============================] - 2s 7us/sample - loss: 0.1929 - val_loss: 0.5789\n",
      "Epoch 508/600\n",
      "316175/316175 [==============================] - 2s 6us/sample - loss: 0.1928 - val_loss: 0.5924\n",
      "Epoch 509/600\n",
      "316175/316175 [==============================] - 2s 6us/sample - loss: 0.1930 - val_loss: 0.5855\n",
      "Epoch 510/600\n",
      "316175/316175 [==============================] - 2s 6us/sample - loss: 0.1929 - val_loss: 0.5909\n",
      "Epoch 511/600\n",
      "316175/316175 [==============================] - 2s 7us/sample - loss: 0.1930 - val_loss: 0.5856\n",
      "Epoch 512/600\n",
      "316175/316175 [==============================] - 2s 6us/sample - loss: 0.1928 - val_loss: 0.5907\n",
      "Epoch 513/600\n",
      "316175/316175 [==============================] - 2s 6us/sample - loss: 0.1932 - val_loss: 0.5913\n",
      "Epoch 514/600\n",
      "316175/316175 [==============================] - 2s 6us/sample - loss: 0.1931 - val_loss: 0.5985\n"
     ]
    },
    {
     "name": "stdout",
     "output_type": "stream",
     "text": [
      "Epoch 515/600\n",
      "316175/316175 [==============================] - 2s 6us/sample - loss: 0.1925 - val_loss: 0.5947\n",
      "Epoch 516/600\n",
      "316175/316175 [==============================] - 2s 6us/sample - loss: 0.1929 - val_loss: 0.5908\n",
      "Epoch 517/600\n",
      "316175/316175 [==============================] - 2s 6us/sample - loss: 0.1929 - val_loss: 0.5977\n",
      "Epoch 518/600\n",
      "316175/316175 [==============================] - 2s 6us/sample - loss: 0.1925 - val_loss: 0.5904\n",
      "Epoch 519/600\n",
      "316175/316175 [==============================] - 2s 6us/sample - loss: 0.1926 - val_loss: 0.5884\n",
      "Epoch 520/600\n",
      "316175/316175 [==============================] - 2s 6us/sample - loss: 0.1931 - val_loss: 0.5901\n",
      "Epoch 521/600\n",
      "316175/316175 [==============================] - 2s 6us/sample - loss: 0.1927 - val_loss: 0.5869\n",
      "Epoch 522/600\n",
      "316175/316175 [==============================] - 2s 6us/sample - loss: 0.1937 - val_loss: 0.5889\n",
      "Epoch 523/600\n",
      "316175/316175 [==============================] - 2s 6us/sample - loss: 0.1921 - val_loss: 0.6023\n",
      "Epoch 524/600\n",
      "316175/316175 [==============================] - 2s 6us/sample - loss: 0.1924 - val_loss: 0.5926\n",
      "Epoch 525/600\n",
      "316175/316175 [==============================] - 2s 7us/sample - loss: 0.1931 - val_loss: 0.5910\n",
      "Epoch 526/600\n",
      "316175/316175 [==============================] - 2s 6us/sample - loss: 0.1921 - val_loss: 0.5990\n",
      "Epoch 527/600\n",
      "316175/316175 [==============================] - 2s 6us/sample - loss: 0.1927 - val_loss: 0.5918\n",
      "Epoch 528/600\n",
      "316175/316175 [==============================] - 2s 6us/sample - loss: 0.1927 - val_loss: 0.5869\n",
      "Epoch 529/600\n",
      "316175/316175 [==============================] - 2s 6us/sample - loss: 0.1926 - val_loss: 0.5912\n",
      "Epoch 530/600\n",
      "316175/316175 [==============================] - 2s 6us/sample - loss: 0.1925 - val_loss: 0.5899\n",
      "Epoch 531/600\n",
      "316175/316175 [==============================] - 2s 6us/sample - loss: 0.1920 - val_loss: 0.5909\n",
      "Epoch 532/600\n",
      "316175/316175 [==============================] - 2s 6us/sample - loss: 0.1927 - val_loss: 0.5932\n",
      "Epoch 533/600\n",
      "316175/316175 [==============================] - 2s 7us/sample - loss: 0.1924 - val_loss: 0.5922\n",
      "Epoch 534/600\n",
      "316175/316175 [==============================] - 2s 7us/sample - loss: 0.1922 - val_loss: 0.5986\n",
      "Epoch 535/600\n",
      "316175/316175 [==============================] - 2s 6us/sample - loss: 0.1925 - val_loss: 0.5836\n",
      "Epoch 536/600\n",
      "316175/316175 [==============================] - 2s 6us/sample - loss: 0.1924 - val_loss: 0.5922\n",
      "Epoch 537/600\n",
      "316175/316175 [==============================] - 2s 7us/sample - loss: 0.1926 - val_loss: 0.5979\n",
      "Epoch 538/600\n",
      "316175/316175 [==============================] - 2s 7us/sample - loss: 0.1917 - val_loss: 0.5913\n",
      "Epoch 539/600\n",
      "316175/316175 [==============================] - 2s 6us/sample - loss: 0.1924 - val_loss: 0.5973\n",
      "Epoch 540/600\n",
      "316175/316175 [==============================] - 2s 7us/sample - loss: 0.1929 - val_loss: 0.5936\n",
      "Epoch 541/600\n",
      "316175/316175 [==============================] - 2s 6us/sample - loss: 0.1922 - val_loss: 0.5920\n",
      "Epoch 542/600\n",
      "316175/316175 [==============================] - 2s 7us/sample - loss: 0.1920 - val_loss: 0.5963\n",
      "Epoch 543/600\n",
      "316175/316175 [==============================] - 2s 7us/sample - loss: 0.1925 - val_loss: 0.5947\n",
      "Epoch 544/600\n",
      "316175/316175 [==============================] - 2s 7us/sample - loss: 0.1920 - val_loss: 0.5941\n",
      "Epoch 545/600\n",
      "316175/316175 [==============================] - 2s 6us/sample - loss: 0.1921 - val_loss: 0.5928\n",
      "Epoch 546/600\n",
      "316175/316175 [==============================] - 2s 6us/sample - loss: 0.1914 - val_loss: 0.5984\n",
      "Epoch 547/600\n",
      "316175/316175 [==============================] - 2s 6us/sample - loss: 0.1926 - val_loss: 0.6022\n",
      "Epoch 548/600\n",
      "316175/316175 [==============================] - 2s 6us/sample - loss: 0.1923 - val_loss: 0.6005\n",
      "Epoch 549/600\n",
      "316175/316175 [==============================] - 2s 6us/sample - loss: 0.1920 - val_loss: 0.6097\n",
      "Epoch 550/600\n",
      "316175/316175 [==============================] - 2s 6us/sample - loss: 0.1924 - val_loss: 0.6097\n",
      "Epoch 551/600\n",
      "316175/316175 [==============================] - 2s 6us/sample - loss: 0.1917 - val_loss: 0.6031\n",
      "Epoch 552/600\n",
      "316175/316175 [==============================] - 2s 7us/sample - loss: 0.1918 - val_loss: 0.6034\n",
      "Epoch 553/600\n",
      "316175/316175 [==============================] - 2s 6us/sample - loss: 0.1922 - val_loss: 0.5993\n",
      "Epoch 554/600\n",
      "316175/316175 [==============================] - 2s 6us/sample - loss: 0.1921 - val_loss: 0.6057\n",
      "Epoch 555/600\n",
      "316175/316175 [==============================] - 2s 7us/sample - loss: 0.1914 - val_loss: 0.6110\n",
      "Epoch 556/600\n",
      "316175/316175 [==============================] - 2s 6us/sample - loss: 0.1917 - val_loss: 0.5936\n",
      "Epoch 557/600\n",
      "316175/316175 [==============================] - 2s 6us/sample - loss: 0.1917 - val_loss: 0.6106\n",
      "Epoch 558/600\n",
      "316175/316175 [==============================] - 2s 6us/sample - loss: 0.1915 - val_loss: 0.6106\n",
      "Epoch 559/600\n",
      "316175/316175 [==============================] - 2s 6us/sample - loss: 0.1916 - val_loss: 0.6114\n",
      "Epoch 560/600\n",
      "316175/316175 [==============================] - 2s 6us/sample - loss: 0.1918 - val_loss: 0.6033\n",
      "Epoch 561/600\n",
      "316175/316175 [==============================] - 2s 6us/sample - loss: 0.1922 - val_loss: 0.5998\n",
      "Epoch 562/600\n",
      "316175/316175 [==============================] - 2s 6us/sample - loss: 0.1915 - val_loss: 0.5911\n",
      "Epoch 563/600\n",
      "316175/316175 [==============================] - 2s 6us/sample - loss: 0.1916 - val_loss: 0.6068\n",
      "Epoch 564/600\n",
      "316175/316175 [==============================] - 2s 6us/sample - loss: 0.1916 - val_loss: 0.6173\n",
      "Epoch 565/600\n",
      "316175/316175 [==============================] - 2s 6us/sample - loss: 0.1917 - val_loss: 0.6119\n",
      "Epoch 566/600\n",
      "316175/316175 [==============================] - 2s 6us/sample - loss: 0.1915 - val_loss: 0.6070\n",
      "Epoch 567/600\n",
      "316175/316175 [==============================] - 2s 6us/sample - loss: 0.1916 - val_loss: 0.6057\n",
      "Epoch 568/600\n",
      "316175/316175 [==============================] - 2s 6us/sample - loss: 0.1906 - val_loss: 0.6035\n",
      "Epoch 569/600\n",
      "316175/316175 [==============================] - 2s 6us/sample - loss: 0.1919 - val_loss: 0.6002\n",
      "Epoch 570/600\n",
      "316175/316175 [==============================] - 2s 6us/sample - loss: 0.1920 - val_loss: 0.5988\n",
      "Epoch 571/600\n",
      "316175/316175 [==============================] - 2s 6us/sample - loss: 0.1911 - val_loss: 0.6099\n",
      "Epoch 572/600\n",
      "316175/316175 [==============================] - 2s 6us/sample - loss: 0.1915 - val_loss: 0.6109\n",
      "Epoch 573/600\n",
      "316175/316175 [==============================] - 2s 6us/sample - loss: 0.1914 - val_loss: 0.6171\n",
      "Epoch 574/600\n",
      "316175/316175 [==============================] - 2s 6us/sample - loss: 0.1913 - val_loss: 0.5951\n",
      "Epoch 575/600\n",
      "316175/316175 [==============================] - 2s 6us/sample - loss: 0.1912 - val_loss: 0.6185\n",
      "Epoch 576/600\n",
      "316175/316175 [==============================] - 2s 6us/sample - loss: 0.1916 - val_loss: 0.6157\n",
      "Epoch 577/600\n",
      "316175/316175 [==============================] - 2s 6us/sample - loss: 0.1915 - val_loss: 0.6022\n",
      "Epoch 578/600\n",
      "316175/316175 [==============================] - 2s 6us/sample - loss: 0.1910 - val_loss: 0.6128\n",
      "Epoch 579/600\n",
      "316175/316175 [==============================] - 2s 6us/sample - loss: 0.1916 - val_loss: 0.5893\n",
      "Epoch 580/600\n",
      "316175/316175 [==============================] - 2s 6us/sample - loss: 0.1914 - val_loss: 0.6257\n",
      "Epoch 581/600\n",
      "316175/316175 [==============================] - 2s 6us/sample - loss: 0.1907 - val_loss: 0.6094\n",
      "Epoch 582/600\n",
      "316175/316175 [==============================] - 2s 6us/sample - loss: 0.1917 - val_loss: 0.6257\n",
      "Epoch 583/600\n",
      "316175/316175 [==============================] - 2s 6us/sample - loss: 0.1913 - val_loss: 0.6031\n",
      "Epoch 584/600\n",
      "316175/316175 [==============================] - 2s 6us/sample - loss: 0.1912 - val_loss: 0.6066\n",
      "Epoch 585/600\n",
      "316175/316175 [==============================] - 2s 6us/sample - loss: 0.1904 - val_loss: 0.6185\n",
      "Epoch 586/600\n",
      "316175/316175 [==============================] - 2s 6us/sample - loss: 0.1914 - val_loss: 0.6122\n",
      "Epoch 587/600\n",
      "316175/316175 [==============================] - 2s 6us/sample - loss: 0.1908 - val_loss: 0.6131\n",
      "Epoch 588/600\n",
      "316175/316175 [==============================] - 2s 6us/sample - loss: 0.1910 - val_loss: 0.6116\n"
     ]
    },
    {
     "name": "stdout",
     "output_type": "stream",
     "text": [
      "Epoch 589/600\n",
      "316175/316175 [==============================] - 2s 6us/sample - loss: 0.1912 - val_loss: 0.6163\n",
      "Epoch 590/600\n",
      "316175/316175 [==============================] - 2s 6us/sample - loss: 0.1908 - val_loss: 0.6151\n",
      "Epoch 591/600\n",
      "316175/316175 [==============================] - 2s 6us/sample - loss: 0.1909 - val_loss: 0.6245\n",
      "Epoch 592/600\n",
      "316175/316175 [==============================] - 2s 6us/sample - loss: 0.1904 - val_loss: 0.6179\n",
      "Epoch 593/600\n",
      "316175/316175 [==============================] - 2s 6us/sample - loss: 0.1919 - val_loss: 0.6146\n",
      "Epoch 594/600\n",
      "316175/316175 [==============================] - 2s 6us/sample - loss: 0.1910 - val_loss: 0.6190\n",
      "Epoch 595/600\n",
      "316175/316175 [==============================] - 2s 6us/sample - loss: 0.1909 - val_loss: 0.6205\n",
      "Epoch 596/600\n",
      "316175/316175 [==============================] - 2s 6us/sample - loss: 0.1903 - val_loss: 0.6063\n",
      "Epoch 597/600\n",
      "316175/316175 [==============================] - 2s 6us/sample - loss: 0.1913 - val_loss: 0.6146\n",
      "Epoch 598/600\n",
      "316175/316175 [==============================] - 2s 6us/sample - loss: 0.1909 - val_loss: 0.6175\n",
      "Epoch 599/600\n",
      "316175/316175 [==============================] - 2s 6us/sample - loss: 0.1907 - val_loss: 0.6038\n",
      "Epoch 600/600\n",
      "316175/316175 [==============================] - 2s 6us/sample - loss: 0.1907 - val_loss: 0.6230\n"
     ]
    },
    {
     "data": {
      "text/plain": [
       "<tensorflow.python.keras.callbacks.History at 0x199ec5e6988>"
      ]
     },
     "execution_count": 589,
     "metadata": {},
     "output_type": "execute_result"
    }
   ],
   "source": [
    "model.fit(X_train,y_train,validation_data=(X_test,y_test),epochs=600,batch_size=256)"
   ]
  },
  {
   "cell_type": "code",
   "execution_count": 590,
   "metadata": {},
   "outputs": [],
   "source": [
    "loss_stage_1 = pd.DataFrame(model.history.history)"
   ]
  },
  {
   "cell_type": "code",
   "execution_count": 591,
   "metadata": {},
   "outputs": [
    {
     "data": {
      "text/html": [
       "<div>\n",
       "<style scoped>\n",
       "    .dataframe tbody tr th:only-of-type {\n",
       "        vertical-align: middle;\n",
       "    }\n",
       "\n",
       "    .dataframe tbody tr th {\n",
       "        vertical-align: top;\n",
       "    }\n",
       "\n",
       "    .dataframe thead th {\n",
       "        text-align: right;\n",
       "    }\n",
       "</style>\n",
       "<table border=\"1\" class=\"dataframe\">\n",
       "  <thead>\n",
       "    <tr style=\"text-align: right;\">\n",
       "      <th></th>\n",
       "      <th>loss</th>\n",
       "      <th>val_loss</th>\n",
       "    </tr>\n",
       "  </thead>\n",
       "  <tbody>\n",
       "    <tr>\n",
       "      <td>0</td>\n",
       "      <td>0.283583</td>\n",
       "      <td>0.267182</td>\n",
       "    </tr>\n",
       "    <tr>\n",
       "      <td>1</td>\n",
       "      <td>0.261905</td>\n",
       "      <td>0.263186</td>\n",
       "    </tr>\n",
       "    <tr>\n",
       "      <td>2</td>\n",
       "      <td>0.259890</td>\n",
       "      <td>0.263415</td>\n",
       "    </tr>\n",
       "    <tr>\n",
       "      <td>3</td>\n",
       "      <td>0.259369</td>\n",
       "      <td>0.262482</td>\n",
       "    </tr>\n",
       "    <tr>\n",
       "      <td>4</td>\n",
       "      <td>0.258525</td>\n",
       "      <td>0.261830</td>\n",
       "    </tr>\n",
       "    <tr>\n",
       "      <td>...</td>\n",
       "      <td>...</td>\n",
       "      <td>...</td>\n",
       "    </tr>\n",
       "    <tr>\n",
       "      <td>595</td>\n",
       "      <td>0.190255</td>\n",
       "      <td>0.606271</td>\n",
       "    </tr>\n",
       "    <tr>\n",
       "      <td>596</td>\n",
       "      <td>0.191258</td>\n",
       "      <td>0.614632</td>\n",
       "    </tr>\n",
       "    <tr>\n",
       "      <td>597</td>\n",
       "      <td>0.190911</td>\n",
       "      <td>0.617460</td>\n",
       "    </tr>\n",
       "    <tr>\n",
       "      <td>598</td>\n",
       "      <td>0.190663</td>\n",
       "      <td>0.603755</td>\n",
       "    </tr>\n",
       "    <tr>\n",
       "      <td>599</td>\n",
       "      <td>0.190677</td>\n",
       "      <td>0.623020</td>\n",
       "    </tr>\n",
       "  </tbody>\n",
       "</table>\n",
       "<p>600 rows × 2 columns</p>\n",
       "</div>"
      ],
      "text/plain": [
       "         loss  val_loss\n",
       "0    0.283583  0.267182\n",
       "1    0.261905  0.263186\n",
       "2    0.259890  0.263415\n",
       "3    0.259369  0.262482\n",
       "4    0.258525  0.261830\n",
       "..        ...       ...\n",
       "595  0.190255  0.606271\n",
       "596  0.191258  0.614632\n",
       "597  0.190911  0.617460\n",
       "598  0.190663  0.603755\n",
       "599  0.190677  0.623020\n",
       "\n",
       "[600 rows x 2 columns]"
      ]
     },
     "execution_count": 591,
     "metadata": {},
     "output_type": "execute_result"
    }
   ],
   "source": [
    "loss_stage_1"
   ]
  },
  {
   "cell_type": "code",
   "execution_count": 592,
   "metadata": {},
   "outputs": [],
   "source": [
    "# important stage to check overfitting or underfitting"
   ]
  },
  {
   "cell_type": "code",
   "execution_count": 593,
   "metadata": {},
   "outputs": [
    {
     "data": {
      "text/plain": [
       "<matplotlib.axes._subplots.AxesSubplot at 0x1997d5e35c8>"
      ]
     },
     "execution_count": 593,
     "metadata": {},
     "output_type": "execute_result"
    },
    {
     "data": {
      "image/png": "[encoded data removed]",
      "text/plain": [
       "<Figure size 432x288 with 1 Axes>"
      ]
     },
     "metadata": {},
     "output_type": "display_data"
    }
   ],
   "source": [
    "loss_stage_1.plot()\n",
    "# validation loss is going higher (overfitting case)"
   ]
  },
  {
   "cell_type": "code",
   "execution_count": 594,
   "metadata": {},
   "outputs": [],
   "source": [
    "# here I work again on the model , to fix the epochs or check with callback function(use Early_Stopping)"
   ]
  },
  {
   "cell_type": "code",
   "execution_count": 595,
   "metadata": {},
   "outputs": [],
   "source": [
    "model = Sequential()\n",
    "\n",
    "model.add(Dense(78,activation='relu'))\n",
    "model.add(Dense(78,activation='relu'))\n",
    "model.add(Dense(78,activation='relu'))\n",
    "\n",
    "model.add(Dense(1,activation='sigmoid',kernel_initializer='glorot_uniform'))\n",
    "\n",
    "model.compile(optimizer='adam',loss='binary_crossentropy')"
   ]
  },
  {
   "cell_type": "code",
   "execution_count": 596,
   "metadata": {},
   "outputs": [],
   "source": [
    "from tensorflow.keras.callbacks import EarlyStopping"
   ]
  },
  {
   "cell_type": "code",
   "execution_count": 597,
   "metadata": {},
   "outputs": [],
   "source": [
    "early_stop = EarlyStopping(monitor='val_loss',patience=25,mode='min')"
   ]
  },
  {
   "cell_type": "code",
   "execution_count": 598,
   "metadata": {},
   "outputs": [
    {
     "name": "stdout",
     "output_type": "stream",
     "text": [
      "Train on 316175 samples, validate on 79044 samples\n",
      "Epoch 1/600\n",
      "316175/316175 [==============================] - 10s 33us/sample - loss: 0.2824 - val_loss: 0.2680\n",
      "Epoch 2/600\n",
      "316175/316175 [==============================] - 2s 6us/sample - loss: 0.2615 - val_loss: 0.2632\n",
      "Epoch 3/600\n",
      "316175/316175 [==============================] - 2s 7us/sample - loss: 0.2596 - val_loss: 0.2663\n",
      "Epoch 4/600\n",
      "316175/316175 [==============================] - 2s 8us/sample - loss: 0.2588 - val_loss: 0.2638\n",
      "Epoch 5/600\n",
      "316175/316175 [==============================] - 2s 7us/sample - loss: 0.2585 - val_loss: 0.2613\n",
      "Epoch 6/600\n",
      "316175/316175 [==============================] - 2s 6us/sample - loss: 0.2578 - val_loss: 0.2611\n",
      "Epoch 7/600\n",
      "316175/316175 [==============================] - 2s 6us/sample - loss: 0.2573 - val_loss: 0.2611\n",
      "Epoch 8/600\n",
      "316175/316175 [==============================] - 2s 6us/sample - loss: 0.2569 - val_loss: 0.2612\n",
      "Epoch 9/600\n",
      "316175/316175 [==============================] - 2s 6us/sample - loss: 0.2562 - val_loss: 0.2618\n",
      "Epoch 10/600\n",
      "316175/316175 [==============================] - 2s 6us/sample - loss: 0.2558 - val_loss: 0.2620\n",
      "Epoch 11/600\n",
      "316175/316175 [==============================] - 2s 6us/sample - loss: 0.2554 - val_loss: 0.2621\n",
      "Epoch 12/600\n",
      "316175/316175 [==============================] - 2s 6us/sample - loss: 0.2549 - val_loss: 0.2627\n",
      "Epoch 13/600\n",
      "316175/316175 [==============================] - 2s 6us/sample - loss: 0.2546 - val_loss: 0.2628\n",
      "Epoch 14/600\n",
      "316175/316175 [==============================] - 2s 6us/sample - loss: 0.2542 - val_loss: 0.2637\n",
      "Epoch 15/600\n",
      "316175/316175 [==============================] - 2s 7us/sample - loss: 0.2537 - val_loss: 0.2619\n",
      "Epoch 16/600\n",
      "316175/316175 [==============================] - 2s 6us/sample - loss: 0.2534 - val_loss: 0.2636\n",
      "Epoch 17/600\n",
      "316175/316175 [==============================] - 2s 6us/sample - loss: 0.2527 - val_loss: 0.2628\n",
      "Epoch 18/600\n",
      "316175/316175 [==============================] - 2s 6us/sample - loss: 0.2525 - val_loss: 0.2622\n",
      "Epoch 19/600\n",
      "316175/316175 [==============================] - 2s 6us/sample - loss: 0.2519 - val_loss: 0.2631\n",
      "Epoch 20/600\n",
      "316175/316175 [==============================] - 2s 6us/sample - loss: 0.2515 - val_loss: 0.2623\n",
      "Epoch 21/600\n",
      "316175/316175 [==============================] - 2s 6us/sample - loss: 0.2508 - val_loss: 0.2648\n",
      "Epoch 22/600\n",
      "316175/316175 [==============================] - 2s 6us/sample - loss: 0.2506 - val_loss: 0.2647\n",
      "Epoch 23/600\n",
      "316175/316175 [==============================] - 2s 6us/sample - loss: 0.2500 - val_loss: 0.2655\n",
      "Epoch 24/600\n",
      "316175/316175 [==============================] - 2s 6us/sample - loss: 0.2495 - val_loss: 0.2647\n",
      "Epoch 25/600\n",
      "316175/316175 [==============================] - 2s 6us/sample - loss: 0.2491 - val_loss: 0.2654\n",
      "Epoch 26/600\n",
      "316175/316175 [==============================] - 2s 6us/sample - loss: 0.2485 - val_loss: 0.2650\n",
      "Epoch 27/600\n",
      "316175/316175 [==============================] - 2s 6us/sample - loss: 0.2480 - val_loss: 0.2659\n",
      "Epoch 28/600\n",
      "316175/316175 [==============================] - 2s 6us/sample - loss: 0.2476 - val_loss: 0.2669\n",
      "Epoch 29/600\n",
      "316175/316175 [==============================] - 2s 6us/sample - loss: 0.2472 - val_loss: 0.2702\n",
      "Epoch 30/600\n",
      "316175/316175 [==============================] - 2s 6us/sample - loss: 0.2465 - val_loss: 0.2674\n",
      "Epoch 31/600\n",
      "316175/316175 [==============================] - 2s 6us/sample - loss: 0.2460 - val_loss: 0.2686\n"
     ]
    },
    {
     "data": {
      "text/plain": [
       "<tensorflow.python.keras.callbacks.History at 0x19983086208>"
      ]
     },
     "execution_count": 598,
     "metadata": {},
     "output_type": "execute_result"
    }
   ],
   "source": [
    "model.fit(X_train,y_train,validation_data=(X_test,y_test),epochs=600,batch_size=256,callbacks=[early_stop])"
   ]
  },
  {
   "cell_type": "code",
   "execution_count": 599,
   "metadata": {},
   "outputs": [],
   "source": [
    "loss_stage_2 = pd.DataFrame(model.history.history)"
   ]
  },
  {
   "cell_type": "code",
   "execution_count": 600,
   "metadata": {},
   "outputs": [
    {
     "data": {
      "text/html": [
       "<div>\n",
       "<style scoped>\n",
       "    .dataframe tbody tr th:only-of-type {\n",
       "        vertical-align: middle;\n",
       "    }\n",
       "\n",
       "    .dataframe tbody tr th {\n",
       "        vertical-align: top;\n",
       "    }\n",
       "\n",
       "    .dataframe thead th {\n",
       "        text-align: right;\n",
       "    }\n",
       "</style>\n",
       "<table border=\"1\" class=\"dataframe\">\n",
       "  <thead>\n",
       "    <tr style=\"text-align: right;\">\n",
       "      <th></th>\n",
       "      <th>loss</th>\n",
       "      <th>val_loss</th>\n",
       "    </tr>\n",
       "  </thead>\n",
       "  <tbody>\n",
       "    <tr>\n",
       "      <td>0</td>\n",
       "      <td>0.282351</td>\n",
       "      <td>0.268032</td>\n",
       "    </tr>\n",
       "    <tr>\n",
       "      <td>1</td>\n",
       "      <td>0.261512</td>\n",
       "      <td>0.263233</td>\n",
       "    </tr>\n",
       "    <tr>\n",
       "      <td>2</td>\n",
       "      <td>0.259628</td>\n",
       "      <td>0.266336</td>\n",
       "    </tr>\n",
       "    <tr>\n",
       "      <td>3</td>\n",
       "      <td>0.258806</td>\n",
       "      <td>0.263761</td>\n",
       "    </tr>\n",
       "    <tr>\n",
       "      <td>4</td>\n",
       "      <td>0.258490</td>\n",
       "      <td>0.261263</td>\n",
       "    </tr>\n",
       "    <tr>\n",
       "      <td>5</td>\n",
       "      <td>0.257785</td>\n",
       "      <td>0.261064</td>\n",
       "    </tr>\n",
       "    <tr>\n",
       "      <td>6</td>\n",
       "      <td>0.257333</td>\n",
       "      <td>0.261149</td>\n",
       "    </tr>\n",
       "    <tr>\n",
       "      <td>7</td>\n",
       "      <td>0.256860</td>\n",
       "      <td>0.261190</td>\n",
       "    </tr>\n",
       "    <tr>\n",
       "      <td>8</td>\n",
       "      <td>0.256154</td>\n",
       "      <td>0.261793</td>\n",
       "    </tr>\n",
       "    <tr>\n",
       "      <td>9</td>\n",
       "      <td>0.255824</td>\n",
       "      <td>0.261980</td>\n",
       "    </tr>\n",
       "    <tr>\n",
       "      <td>10</td>\n",
       "      <td>0.255397</td>\n",
       "      <td>0.262120</td>\n",
       "    </tr>\n",
       "    <tr>\n",
       "      <td>11</td>\n",
       "      <td>0.254931</td>\n",
       "      <td>0.262703</td>\n",
       "    </tr>\n",
       "    <tr>\n",
       "      <td>12</td>\n",
       "      <td>0.254558</td>\n",
       "      <td>0.262776</td>\n",
       "    </tr>\n",
       "    <tr>\n",
       "      <td>13</td>\n",
       "      <td>0.254175</td>\n",
       "      <td>0.263656</td>\n",
       "    </tr>\n",
       "    <tr>\n",
       "      <td>14</td>\n",
       "      <td>0.253727</td>\n",
       "      <td>0.261923</td>\n",
       "    </tr>\n",
       "    <tr>\n",
       "      <td>15</td>\n",
       "      <td>0.253441</td>\n",
       "      <td>0.263602</td>\n",
       "    </tr>\n",
       "    <tr>\n",
       "      <td>16</td>\n",
       "      <td>0.252739</td>\n",
       "      <td>0.262760</td>\n",
       "    </tr>\n",
       "    <tr>\n",
       "      <td>17</td>\n",
       "      <td>0.252454</td>\n",
       "      <td>0.262248</td>\n",
       "    </tr>\n",
       "    <tr>\n",
       "      <td>18</td>\n",
       "      <td>0.251872</td>\n",
       "      <td>0.263118</td>\n",
       "    </tr>\n",
       "    <tr>\n",
       "      <td>19</td>\n",
       "      <td>0.251533</td>\n",
       "      <td>0.262296</td>\n",
       "    </tr>\n",
       "    <tr>\n",
       "      <td>20</td>\n",
       "      <td>0.250836</td>\n",
       "      <td>0.264756</td>\n",
       "    </tr>\n",
       "    <tr>\n",
       "      <td>21</td>\n",
       "      <td>0.250608</td>\n",
       "      <td>0.264709</td>\n",
       "    </tr>\n",
       "    <tr>\n",
       "      <td>22</td>\n",
       "      <td>0.250043</td>\n",
       "      <td>0.265468</td>\n",
       "    </tr>\n",
       "    <tr>\n",
       "      <td>23</td>\n",
       "      <td>0.249525</td>\n",
       "      <td>0.264719</td>\n",
       "    </tr>\n",
       "    <tr>\n",
       "      <td>24</td>\n",
       "      <td>0.249093</td>\n",
       "      <td>0.265373</td>\n",
       "    </tr>\n",
       "    <tr>\n",
       "      <td>25</td>\n",
       "      <td>0.248543</td>\n",
       "      <td>0.265044</td>\n",
       "    </tr>\n",
       "    <tr>\n",
       "      <td>26</td>\n",
       "      <td>0.247975</td>\n",
       "      <td>0.265888</td>\n",
       "    </tr>\n",
       "    <tr>\n",
       "      <td>27</td>\n",
       "      <td>0.247609</td>\n",
       "      <td>0.266851</td>\n",
       "    </tr>\n",
       "    <tr>\n",
       "      <td>28</td>\n",
       "      <td>0.247186</td>\n",
       "      <td>0.270179</td>\n",
       "    </tr>\n",
       "    <tr>\n",
       "      <td>29</td>\n",
       "      <td>0.246455</td>\n",
       "      <td>0.267417</td>\n",
       "    </tr>\n",
       "    <tr>\n",
       "      <td>30</td>\n",
       "      <td>0.246045</td>\n",
       "      <td>0.268591</td>\n",
       "    </tr>\n",
       "  </tbody>\n",
       "</table>\n",
       "</div>"
      ],
      "text/plain": [
       "        loss  val_loss\n",
       "0   0.282351  0.268032\n",
       "1   0.261512  0.263233\n",
       "2   0.259628  0.266336\n",
       "3   0.258806  0.263761\n",
       "4   0.258490  0.261263\n",
       "5   0.257785  0.261064\n",
       "6   0.257333  0.261149\n",
       "7   0.256860  0.261190\n",
       "8   0.256154  0.261793\n",
       "9   0.255824  0.261980\n",
       "10  0.255397  0.262120\n",
       "11  0.254931  0.262703\n",
       "12  0.254558  0.262776\n",
       "13  0.254175  0.263656\n",
       "14  0.253727  0.261923\n",
       "15  0.253441  0.263602\n",
       "16  0.252739  0.262760\n",
       "17  0.252454  0.262248\n",
       "18  0.251872  0.263118\n",
       "19  0.251533  0.262296\n",
       "20  0.250836  0.264756\n",
       "21  0.250608  0.264709\n",
       "22  0.250043  0.265468\n",
       "23  0.249525  0.264719\n",
       "24  0.249093  0.265373\n",
       "25  0.248543  0.265044\n",
       "26  0.247975  0.265888\n",
       "27  0.247609  0.266851\n",
       "28  0.247186  0.270179\n",
       "29  0.246455  0.267417\n",
       "30  0.246045  0.268591"
      ]
     },
     "execution_count": 600,
     "metadata": {},
     "output_type": "execute_result"
    }
   ],
   "source": [
    "loss_stage_2"
   ]
  },
  {
   "cell_type": "code",
   "execution_count": 601,
   "metadata": {},
   "outputs": [
    {
     "data": {
      "text/plain": [
       "<matplotlib.axes._subplots.AxesSubplot at 0x19983014d48>"
      ]
     },
     "execution_count": 601,
     "metadata": {},
     "output_type": "execute_result"
    },
    {
     "data": {
      "image/png": "[encoded data removed]",
      "text/plain": [
       "<Figure size 432x288 with 1 Axes>"
      ]
     },
     "metadata": {},
     "output_type": "display_data"
    }
   ],
   "source": [
    "loss_stage_2.plot()"
   ]
  },
  {
   "cell_type": "code",
   "execution_count": 602,
   "metadata": {},
   "outputs": [],
   "source": [
    "# lets work with dropout layer , still we haven't got proper results"
   ]
  },
  {
   "cell_type": "code",
   "execution_count": 614,
   "metadata": {},
   "outputs": [],
   "source": [
    "model = Sequential()\n",
    "\n",
    "# dropout layer 78--->38---->19---->1\n",
    "\n",
    "model.add(Dense(78,activation='relu'))\n",
    "model.add(Dropout(0.2))  #turning off 80% of neurons\n",
    "\n",
    "model.add(Dense(39,activation='relu'))\n",
    "model.add(Dropout(0.2))   #turning off 80% of neurons\n",
    "\n",
    "model.add(Dense(19,activation='relu'))\n",
    "model.add(Dropout(0.2))   #turning off 80% of neurons\n",
    "\n",
    "model.add(Dense(1,activation='sigmoid',kernel_initializer='glorot_uniform'))\n",
    "\n",
    "\n",
    "model.compile(optimizer='adam',loss='binary_crossentropy')"
   ]
  },
  {
   "cell_type": "code",
   "execution_count": 615,
   "metadata": {},
   "outputs": [
    {
     "name": "stdout",
     "output_type": "stream",
     "text": [
      "Train on 316175 samples, validate on 79044 samples\n",
      "Epoch 1/600\n",
      "316175/316175 [==============================] - 3s 10us/sample - loss: 0.2972 - val_loss: 0.2646\n",
      "Epoch 2/600\n",
      "316175/316175 [==============================] - 2s 8us/sample - loss: 0.2650 - val_loss: 0.2635\n",
      "Epoch 3/600\n",
      "316175/316175 [==============================] - 3s 8us/sample - loss: 0.2628 - val_loss: 0.2630\n",
      "Epoch 4/600\n",
      "316175/316175 [==============================] - 3s 8us/sample - loss: 0.2615 - val_loss: 0.2618\n",
      "Epoch 5/600\n",
      "316175/316175 [==============================] - 3s 9us/sample - loss: 0.2606 - val_loss: 0.2618\n",
      "Epoch 6/600\n",
      "316175/316175 [==============================] - 2s 7us/sample - loss: 0.2603 - val_loss: 0.2618\n",
      "Epoch 7/600\n",
      "316175/316175 [==============================] - 3s 8us/sample - loss: 0.2599 - val_loss: 0.2617\n",
      "Epoch 8/600\n",
      "316175/316175 [==============================] - 2s 8us/sample - loss: 0.2596 - val_loss: 0.2618\n",
      "Epoch 9/600\n",
      "316175/316175 [==============================] - 3s 8us/sample - loss: 0.2593 - val_loss: 0.2620\n",
      "Epoch 10/600\n",
      "316175/316175 [==============================] - 3s 9us/sample - loss: 0.2589 - val_loss: 0.2612\n",
      "Epoch 11/600\n",
      "316175/316175 [==============================] - 3s 10us/sample - loss: 0.2586 - val_loss: 0.2615\n",
      "Epoch 12/600\n",
      "316175/316175 [==============================] - 3s 10us/sample - loss: 0.2583 - val_loss: 0.2614\n",
      "Epoch 13/600\n",
      "316175/316175 [==============================] - 3s 9us/sample - loss: 0.2581 - val_loss: 0.2613\n",
      "Epoch 14/600\n",
      "316175/316175 [==============================] - 2s 8us/sample - loss: 0.2582 - val_loss: 0.2612\n",
      "Epoch 15/600\n",
      "316175/316175 [==============================] - 3s 8us/sample - loss: 0.2578 - val_loss: 0.2615\n",
      "Epoch 16/600\n",
      "316175/316175 [==============================] - 3s 8us/sample - loss: 0.2578 - val_loss: 0.2609\n",
      "Epoch 17/600\n",
      "316175/316175 [==============================] - 2s 8us/sample - loss: 0.2573 - val_loss: 0.2610\n",
      "Epoch 18/600\n",
      "316175/316175 [==============================] - 2s 8us/sample - loss: 0.2575 - val_loss: 0.2609\n",
      "Epoch 19/600\n",
      "316175/316175 [==============================] - 2s 8us/sample - loss: 0.2573 - val_loss: 0.2617\n",
      "Epoch 20/600\n",
      "316175/316175 [==============================] - 2s 8us/sample - loss: 0.2570 - val_loss: 0.2612\n",
      "Epoch 21/600\n",
      "316175/316175 [==============================] - 2s 8us/sample - loss: 0.2568 - val_loss: 0.2615\n",
      "Epoch 22/600\n",
      "316175/316175 [==============================] - 3s 8us/sample - loss: 0.2567 - val_loss: 0.2623\n",
      "Epoch 23/600\n",
      "316175/316175 [==============================] - 3s 8us/sample - loss: 0.2566 - val_loss: 0.2607\n",
      "Epoch 24/600\n",
      "316175/316175 [==============================] - 2s 8us/sample - loss: 0.2564 - val_loss: 0.2609\n",
      "Epoch 25/600\n",
      "316175/316175 [==============================] - 3s 8us/sample - loss: 0.2562 - val_loss: 0.2616\n",
      "Epoch 26/600\n",
      "316175/316175 [==============================] - 3s 10us/sample - loss: 0.2562 - val_loss: 0.2611\n",
      "Epoch 27/600\n",
      "316175/316175 [==============================] - 3s 8us/sample - loss: 0.2560 - val_loss: 0.2614\n",
      "Epoch 28/600\n",
      "316175/316175 [==============================] - 3s 8us/sample - loss: 0.2560 - val_loss: 0.2619\n",
      "Epoch 29/600\n",
      "316175/316175 [==============================] - 3s 8us/sample - loss: 0.2558 - val_loss: 0.2608\n",
      "Epoch 30/600\n",
      "316175/316175 [==============================] - 3s 8us/sample - loss: 0.2557 - val_loss: 0.2612\n",
      "Epoch 31/600\n",
      "316175/316175 [==============================] - 3s 8us/sample - loss: 0.2556 - val_loss: 0.2609\n",
      "Epoch 32/600\n",
      "316175/316175 [==============================] - 3s 9us/sample - loss: 0.2553 - val_loss: 0.2611\n",
      "Epoch 33/600\n",
      "316175/316175 [==============================] - 3s 9us/sample - loss: 0.2553 - val_loss: 0.2609\n",
      "Epoch 34/600\n",
      "316175/316175 [==============================] - 3s 8us/sample - loss: 0.2553 - val_loss: 0.2605\n",
      "Epoch 35/600\n",
      "316175/316175 [==============================] - 3s 8us/sample - loss: 0.2552 - val_loss: 0.2608\n",
      "Epoch 36/600\n",
      "316175/316175 [==============================] - 3s 8us/sample - loss: 0.2550 - val_loss: 0.2608\n",
      "Epoch 37/600\n",
      "316175/316175 [==============================] - 3s 8us/sample - loss: 0.2550 - val_loss: 0.2606\n",
      "Epoch 38/600\n",
      "316175/316175 [==============================] - 3s 8us/sample - loss: 0.2547 - val_loss: 0.2608\n",
      "Epoch 39/600\n",
      "316175/316175 [==============================] - 3s 8us/sample - loss: 0.2548 - val_loss: 0.2605\n",
      "Epoch 40/600\n",
      "316175/316175 [==============================] - 3s 8us/sample - loss: 0.2546 - val_loss: 0.2610\n",
      "Epoch 41/600\n",
      "316175/316175 [==============================] - 3s 8us/sample - loss: 0.2544 - val_loss: 0.2609\n",
      "Epoch 42/600\n",
      "316175/316175 [==============================] - 3s 8us/sample - loss: 0.2544 - val_loss: 0.2606\n",
      "Epoch 43/600\n",
      "316175/316175 [==============================] - 3s 8us/sample - loss: 0.2540 - val_loss: 0.2606\n",
      "Epoch 44/600\n",
      "316175/316175 [==============================] - 3s 8us/sample - loss: 0.2541 - val_loss: 0.2610\n",
      "Epoch 45/600\n",
      "316175/316175 [==============================] - 3s 8us/sample - loss: 0.2540 - val_loss: 0.2610\n",
      "Epoch 46/600\n",
      "316175/316175 [==============================] - 3s 8us/sample - loss: 0.2538 - val_loss: 0.2613\n",
      "Epoch 47/600\n",
      "316175/316175 [==============================] - 3s 8us/sample - loss: 0.2539 - val_loss: 0.2610\n",
      "Epoch 48/600\n",
      "316175/316175 [==============================] - 3s 8us/sample - loss: 0.2536 - val_loss: 0.2604\n",
      "Epoch 49/600\n",
      "316175/316175 [==============================] - 3s 8us/sample - loss: 0.2534 - val_loss: 0.2612\n",
      "Epoch 50/600\n",
      "316175/316175 [==============================] - 3s 8us/sample - loss: 0.2535 - val_loss: 0.2602\n",
      "Epoch 51/600\n",
      "316175/316175 [==============================] - 3s 8us/sample - loss: 0.2535 - val_loss: 0.2609\n",
      "Epoch 52/600\n",
      "316175/316175 [==============================] - 3s 8us/sample - loss: 0.2533 - val_loss: 0.2612\n",
      "Epoch 53/600\n",
      "316175/316175 [==============================] - 3s 8us/sample - loss: 0.2536 - val_loss: 0.2605\n",
      "Epoch 54/600\n",
      "316175/316175 [==============================] - 3s 8us/sample - loss: 0.2532 - val_loss: 0.2612\n",
      "Epoch 55/600\n",
      "316175/316175 [==============================] - 3s 8us/sample - loss: 0.2532 - val_loss: 0.2609\n",
      "Epoch 56/600\n",
      "316175/316175 [==============================] - 3s 8us/sample - loss: 0.2532 - val_loss: 0.2611\n",
      "Epoch 57/600\n",
      "316175/316175 [==============================] - 3s 9us/sample - loss: 0.2530 - val_loss: 0.2602\n",
      "Epoch 58/600\n",
      "316175/316175 [==============================] - 3s 8us/sample - loss: 0.2530 - val_loss: 0.2616\n",
      "Epoch 59/600\n",
      "316175/316175 [==============================] - 3s 8us/sample - loss: 0.2531 - val_loss: 0.2610\n",
      "Epoch 60/600\n",
      "316175/316175 [==============================] - 3s 8us/sample - loss: 0.2526 - val_loss: 0.2610\n",
      "Epoch 61/600\n",
      "316175/316175 [==============================] - 3s 8us/sample - loss: 0.2529 - val_loss: 0.2606\n",
      "Epoch 62/600\n",
      "316175/316175 [==============================] - 3s 8us/sample - loss: 0.2529 - val_loss: 0.2611\n",
      "Epoch 63/600\n",
      "316175/316175 [==============================] - 3s 8us/sample - loss: 0.2527 - val_loss: 0.2611\n",
      "Epoch 64/600\n",
      "316175/316175 [==============================] - 3s 8us/sample - loss: 0.2526 - val_loss: 0.2624\n",
      "Epoch 65/600\n",
      "316175/316175 [==============================] - 3s 8us/sample - loss: 0.2524 - val_loss: 0.2614\n",
      "Epoch 66/600\n",
      "316175/316175 [==============================] - 3s 8us/sample - loss: 0.2529 - val_loss: 0.2606\n",
      "Epoch 67/600\n",
      "316175/316175 [==============================] - 2s 8us/sample - loss: 0.2524 - val_loss: 0.2611\n",
      "Epoch 68/600\n",
      "316175/316175 [==============================] - 3s 8us/sample - loss: 0.2524 - val_loss: 0.2615\n",
      "Epoch 69/600\n",
      "316175/316175 [==============================] - 3s 9us/sample - loss: 0.2525 - val_loss: 0.2612\n",
      "Epoch 70/600\n",
      "316175/316175 [==============================] - 3s 8us/sample - loss: 0.2523 - val_loss: 0.2611\n",
      "Epoch 71/600\n",
      "316175/316175 [==============================] - 3s 8us/sample - loss: 0.2524 - val_loss: 0.2606\n",
      "Epoch 72/600\n",
      "316175/316175 [==============================] - 3s 9us/sample - loss: 0.2523 - val_loss: 0.2616\n",
      "Epoch 73/600\n",
      "316175/316175 [==============================] - 3s 8us/sample - loss: 0.2521 - val_loss: 0.2611\n",
      "Epoch 74/600\n",
      "316175/316175 [==============================] - 3s 9us/sample - loss: 0.2521 - val_loss: 0.2615\n",
      "Epoch 75/600\n"
     ]
    },
    {
     "name": "stdout",
     "output_type": "stream",
     "text": [
      "316175/316175 [==============================] - 3s 9us/sample - loss: 0.2521 - val_loss: 0.2614\n"
     ]
    },
    {
     "data": {
      "text/plain": [
       "<tensorflow.python.keras.callbacks.History at 0x199c2dfef48>"
      ]
     },
     "execution_count": 615,
     "metadata": {},
     "output_type": "execute_result"
    }
   ],
   "source": [
    "model.fit(X_train,y_train,validation_data=(X_test,y_test),epochs=600,batch_size=256,callbacks=[early_stop])"
   ]
  },
  {
   "cell_type": "code",
   "execution_count": 605,
   "metadata": {},
   "outputs": [],
   "source": [
    "loss_stage_3 = pd.DataFrame(model.history.history)"
   ]
  },
  {
   "cell_type": "code",
   "execution_count": 606,
   "metadata": {},
   "outputs": [
    {
     "data": {
      "text/html": [
       "<div>\n",
       "<style scoped>\n",
       "    .dataframe tbody tr th:only-of-type {\n",
       "        vertical-align: middle;\n",
       "    }\n",
       "\n",
       "    .dataframe tbody tr th {\n",
       "        vertical-align: top;\n",
       "    }\n",
       "\n",
       "    .dataframe thead th {\n",
       "        text-align: right;\n",
       "    }\n",
       "</style>\n",
       "<table border=\"1\" class=\"dataframe\">\n",
       "  <thead>\n",
       "    <tr style=\"text-align: right;\">\n",
       "      <th></th>\n",
       "      <th>loss</th>\n",
       "      <th>val_loss</th>\n",
       "    </tr>\n",
       "  </thead>\n",
       "  <tbody>\n",
       "    <tr>\n",
       "      <td>0</td>\n",
       "      <td>0.300808</td>\n",
       "      <td>0.265861</td>\n",
       "    </tr>\n",
       "    <tr>\n",
       "      <td>1</td>\n",
       "      <td>0.265607</td>\n",
       "      <td>0.263502</td>\n",
       "    </tr>\n",
       "    <tr>\n",
       "      <td>2</td>\n",
       "      <td>0.262752</td>\n",
       "      <td>0.262625</td>\n",
       "    </tr>\n",
       "    <tr>\n",
       "      <td>3</td>\n",
       "      <td>0.261269</td>\n",
       "      <td>0.263338</td>\n",
       "    </tr>\n",
       "    <tr>\n",
       "      <td>4</td>\n",
       "      <td>0.260617</td>\n",
       "      <td>0.262016</td>\n",
       "    </tr>\n",
       "    <tr>\n",
       "      <td>...</td>\n",
       "      <td>...</td>\n",
       "      <td>...</td>\n",
       "    </tr>\n",
       "    <tr>\n",
       "      <td>86</td>\n",
       "      <td>0.251429</td>\n",
       "      <td>0.261516</td>\n",
       "    </tr>\n",
       "    <tr>\n",
       "      <td>87</td>\n",
       "      <td>0.251382</td>\n",
       "      <td>0.260960</td>\n",
       "    </tr>\n",
       "    <tr>\n",
       "      <td>88</td>\n",
       "      <td>0.251622</td>\n",
       "      <td>0.260952</td>\n",
       "    </tr>\n",
       "    <tr>\n",
       "      <td>89</td>\n",
       "      <td>0.251336</td>\n",
       "      <td>0.261489</td>\n",
       "    </tr>\n",
       "    <tr>\n",
       "      <td>90</td>\n",
       "      <td>0.251335</td>\n",
       "      <td>0.260929</td>\n",
       "    </tr>\n",
       "  </tbody>\n",
       "</table>\n",
       "<p>91 rows × 2 columns</p>\n",
       "</div>"
      ],
      "text/plain": [
       "        loss  val_loss\n",
       "0   0.300808  0.265861\n",
       "1   0.265607  0.263502\n",
       "2   0.262752  0.262625\n",
       "3   0.261269  0.263338\n",
       "4   0.260617  0.262016\n",
       "..       ...       ...\n",
       "86  0.251429  0.261516\n",
       "87  0.251382  0.260960\n",
       "88  0.251622  0.260952\n",
       "89  0.251336  0.261489\n",
       "90  0.251335  0.260929\n",
       "\n",
       "[91 rows x 2 columns]"
      ]
     },
     "execution_count": 606,
     "metadata": {},
     "output_type": "execute_result"
    }
   ],
   "source": [
    "loss_stage_3"
   ]
  },
  {
   "cell_type": "code",
   "execution_count": 607,
   "metadata": {},
   "outputs": [
    {
     "data": {
      "text/plain": [
       "<matplotlib.axes._subplots.AxesSubplot at 0x199c2d1af08>"
      ]
     },
     "execution_count": 607,
     "metadata": {},
     "output_type": "execute_result"
    },
    {
     "data": {
      "image/png": "[encoded data removed]",
      "text/plain": [
       "<Figure size 432x288 with 1 Axes>"
      ]
     },
     "metadata": {},
     "output_type": "display_data"
    }
   ],
   "source": [
    "loss_stage_3.plot()\n",
    "\n",
    "# now with using of droput layer still our graph looks beteer and closer to loss"
   ]
  },
  {
   "cell_type": "markdown",
   "metadata": {},
   "source": [
    "# Model Evaluation"
   ]
  },
  {
   "cell_type": "code",
   "execution_count": 608,
   "metadata": {},
   "outputs": [],
   "source": [
    "from sklearn.metrics import classification_report,confusion_matrix"
   ]
  },
  {
   "cell_type": "code",
   "execution_count": 609,
   "metadata": {},
   "outputs": [],
   "source": [
    "predictions = model.predict_classes(X_test)"
   ]
  },
  {
   "cell_type": "code",
   "execution_count": 610,
   "metadata": {},
   "outputs": [
    {
     "name": "stdout",
     "output_type": "stream",
     "text": [
      "              precision    recall  f1-score   support\n",
      "\n",
      "           0       0.97      0.45      0.61     15658\n",
      "           1       0.88      1.00      0.93     63386\n",
      "\n",
      "    accuracy                           0.89     79044\n",
      "   macro avg       0.92      0.72      0.77     79044\n",
      "weighted avg       0.90      0.89      0.87     79044\n",
      "\n"
     ]
    }
   ],
   "source": [
    "print(classification_report(y_test,predictions))"
   ]
  },
  {
   "cell_type": "code",
   "execution_count": 611,
   "metadata": {},
   "outputs": [
    {
     "name": "stdout",
     "output_type": "stream",
     "text": [
      "[[ 6990  8668]\n",
      " [  218 63168]]\n"
     ]
    }
   ],
   "source": [
    "print(confusion_matrix(y_test,predictions))"
   ]
  },
  {
   "cell_type": "markdown",
   "metadata": {},
   "source": [
    "# Save Our Model"
   ]
  },
  {
   "cell_type": "code",
   "execution_count": 616,
   "metadata": {},
   "outputs": [],
   "source": [
    "from tensorflow.keras.models import load_model"
   ]
  },
  {
   "cell_type": "code",
   "execution_count": 617,
   "metadata": {},
   "outputs": [],
   "source": [
    "model.save('out_final_house_prediction_model.h5')"
   ]
  },
  {
   "cell_type": "markdown",
   "metadata": {},
   "source": [
    "# Now checking our model prediction with random data"
   ]
  },
  {
   "cell_type": "code",
   "execution_count": 620,
   "metadata": {},
   "outputs": [],
   "source": [
    "# To Generate pseudo-random numbers\n",
    "import random"
   ]
  },
  {
   "cell_type": "code",
   "execution_count": 621,
   "metadata": {},
   "outputs": [],
   "source": [
    "# Initialize the random number generator\n",
    "random.seed(101)"
   ]
  },
  {
   "cell_type": "code",
   "execution_count": 622,
   "metadata": {},
   "outputs": [],
   "source": [
    "random_int = random.randint(0,len(df))"
   ]
  },
  {
   "cell_type": "code",
   "execution_count": 623,
   "metadata": {},
   "outputs": [],
   "source": [
    "new_cust = df.drop('loan_repaid',axis=1).iloc[random_int]"
   ]
  },
  {
   "cell_type": "code",
   "execution_count": 626,
   "metadata": {},
   "outputs": [
    {
     "data": {
      "text/plain": [
       "loan_amnt      25000.00\n",
       "term               1.00\n",
       "int_rate          18.24\n",
       "installment      638.11\n",
       "annual_inc     61665.00\n",
       "                 ...   \n",
       "30723              1.00\n",
       "48052              0.00\n",
       "70466              0.00\n",
       "86630              0.00\n",
       "93700              0.00\n",
       "Name: 305323, Length: 78, dtype: float64"
      ]
     },
     "execution_count": 626,
     "metadata": {},
     "output_type": "execute_result"
    }
   ],
   "source": [
    "new_cust"
   ]
  },
  {
   "cell_type": "code",
   "execution_count": 627,
   "metadata": {},
   "outputs": [
    {
     "data": {
      "text/plain": [
       "array([[1]])"
      ]
     },
     "execution_count": 627,
     "metadata": {},
     "output_type": "execute_result"
    }
   ],
   "source": [
    "model.predict_classes(new_cust.values.reshape(1,78))"
   ]
  },
  {
   "cell_type": "markdown",
   "metadata": {},
   "source": [
    "# Check back did your customer paid back the loan or not ?\n"
   ]
  },
  {
   "cell_type": "code",
   "execution_count": 629,
   "metadata": {},
   "outputs": [
    {
     "data": {
      "text/plain": [
       "1.0"
      ]
     },
     "execution_count": 629,
     "metadata": {},
     "output_type": "execute_result"
    }
   ],
   "source": [
    "df.iloc[random_int]['loan_repaid']"
   ]
  }
 ],
 "metadata": {
  "kernelspec": {
   "display_name": "Python 3",
   "language": "python",
   "name": "python3"
  },
  "language_info": {
   "codemirror_mode": {
    "name": "ipython",
    "version": 3
   },
   "file_extension": ".py",
   "mimetype": "text/x-python",
   "name": "python",
   "nbconvert_exporter": "python",
   "pygments_lexer": "ipython3",
   "version": "3.7.4"
  }
 },
 "nbformat": 4,
 "nbformat_minor": 2
}
